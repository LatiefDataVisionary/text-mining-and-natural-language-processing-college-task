{
  "nbformat": 4,
  "nbformat_minor": 0,
  "metadata": {
    "colab": {
      "provenance": [],
      "authorship_tag": "ABX9TyNvR63AJHBTUM8IMb9sECMU",
      "include_colab_link": true
    },
    "kernelspec": {
      "name": "python3",
      "display_name": "Python 3"
    },
    "language_info": {
      "name": "python"
    }
  },
  "cells": [
    {
      "cell_type": "markdown",
      "metadata": {
        "id": "view-in-github",
        "colab_type": "text"
      },
      "source": [
        "<a href=\"https://colab.research.google.com/github/LatiefDataVisionary/text-mining-and-natural-language-processing-college-task/blob/main/decision_tree_model.ipynb\" target=\"_parent\"><img src=\"https://colab.research.google.com/assets/colab-badge.svg\" alt=\"Open In Colab\"/></a>"
      ]
    },
    {
      "cell_type": "markdown",
      "source": [
        "## **1. Import Library yang Digunakan**"
      ],
      "metadata": {
        "id": "GSdmPOBN0zBr"
      }
    },
    {
      "cell_type": "markdown",
      "source": [
        "Berikut adalah library yang digunakan dalam proyek klasifikasi teks ini. Setiap library memiliki peran penting dalam tahapan analisis data, mulai dari pemrosesan data hingga pemodelan dan evaluasi.\n"
      ],
      "metadata": {
        "id": "Rw_ELQWn1OXA"
      }
    },
    {
      "cell_type": "code",
      "execution_count": 3,
      "metadata": {
        "id": "CqiXz8fA0qwd"
      },
      "outputs": [],
      "source": [
        "import pandas as pd\n",
        "import numpy as np\n",
        "from sklearn.model_selection import train_test_split, GridSearchCV\n",
        "from sklearn.feature_extraction.text import TfidfVectorizer\n",
        "from sklearn.tree import DecisionTreeClassifier, plot_tree, export_graphviz\n",
        "from sklearn.metrics import (\n",
        "    accuracy_score,\n",
        "    confusion_matrix,\n",
        "    classification_report,\n",
        "    ConfusionMatrixDisplay,\n",
        ")\n",
        "import matplotlib.pyplot as plt\n",
        "import seaborn as sns\n",
        "import graphviz # utk merender visualisasi decision tree\n",
        "\n",
        "# pengaturan untuk plot agar lebih menarik\n",
        "plt.style.use('seaborn-v0_8-whitegrid')\n",
        "sns.set_palette('viridis')"
      ]
    },
    {
      "cell_type": "markdown",
      "source": [
        "**Penjelasan Library:**\n",
        "\n",
        "* `pandas` dan `numpy`: Untuk manipulasi dan analisis data numerik dan tabular.\n",
        "* `sklearn.model_selection`: Untuk membagi dataset (`train_test_split`) dan tuning hyperparameter (`GridSearchCV`).\n",
        "* `sklearn.feature_extraction.text`: Untuk mengubah teks menjadi representasi numerik menggunakan `TfidfVectorizer`.\n",
        "* `sklearn.tree`: Untuk model Decision Tree (`DecisionTreeClassifier`) dan visualisasinya (`plot_tree`, `export_graphviz`).\n",
        "* `sklearn.metrics`: Untuk evaluasi model (akurasi, confusion matrix, classification report).\n",
        "* `matplotlib.pyplot` dan `seaborn`: Untuk membuat visualisasi data.\n",
        "* `graphviz`: Untuk merender file DOT yang dihasilkan oleh `export_graphviz` menjadi gambar pohon keputusan.\n"
      ],
      "metadata": {
        "id": "MFz8w3sL25Lj"
      }
    },
    {
      "cell_type": "markdown",
      "source": [
        "## **2. Import Dataset yang Digunakan**\n"
      ],
      "metadata": {
        "id": "U9O38xdB3g9y"
      }
    },
    {
      "cell_type": "markdown",
      "source": [],
      "metadata": {
        "id": "9F3bmVWM3j-x"
      }
    },
    {
      "cell_type": "code",
      "source": [],
      "metadata": {
        "id": "fp_oDcYe3jxK"
      },
      "execution_count": null,
      "outputs": []
    }
  ]
}