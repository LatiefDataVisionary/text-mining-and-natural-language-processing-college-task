{
  "nbformat": 4,
  "nbformat_minor": 0,
  "metadata": {
    "colab": {
      "provenance": [],
      "authorship_tag": "ABX9TyPYeeuyp6EO4dFzuO2LqS2Q",
      "include_colab_link": true
    },
    "kernelspec": {
      "name": "python3",
      "display_name": "Python 3"
    },
    "language_info": {
      "name": "python"
    }
  },
  "cells": [
    {
      "cell_type": "markdown",
      "metadata": {
        "id": "view-in-github",
        "colab_type": "text"
      },
      "source": [
        "<a href=\"https://colab.research.google.com/github/LatiefDataVisionary/text-mining-and-natural-language-processing-college-task/blob/main/notebooks/decison_tree_model.ipynb\" target=\"_parent\"><img src=\"https://colab.research.google.com/assets/colab-badge.svg\" alt=\"Open In Colab\"/></a>"
      ]
    },
    {
      "cell_type": "markdown",
      "source": [
        "**Import Libary**"
      ],
      "metadata": {
        "id": "DgFU_FBWLP2g"
      }
    },
    {
      "cell_type": "code",
      "execution_count": 25,
      "metadata": {
        "id": "iZzBLApvK8Vo"
      },
      "outputs": [],
      "source": [
        "import pandas as pd\n",
        "import numpy as np\n",
        "from sklearn.model_selection import train_test_split, GridSearchCV\n",
        "from sklearn.feature_extraction.text import TfidfVectorizer\n",
        "from sklearn.tree import DecisionTreeClassifier, plot_tree\n",
        "from sklearn.metrics import (\n",
        "    accuracy_score,\n",
        "    confusion_matrix,\n",
        "    classification_report,\n",
        "    ConfusionMatrixDisplay\n",
        ")\n",
        "from sklearn.tree import plot_tree\n",
        "import matplotlib.pyplot as plt"
      ]
    },
    {
      "cell_type": "markdown",
      "source": [
        "**1. Load Dataset**"
      ],
      "metadata": {
        "id": "HWmEe1bNM61k"
      }
    },
    {
      "cell_type": "code",
      "source": [
        "path = 'https://raw.githubusercontent.com/LatiefDataVisionary/text-mining-and-natural-language-processing-college-task/refs/heads/main/datasets/ramadan_labeled_sentiment.csv'\n",
        "df = pd.read_csv(path)\n",
        "df"
      ],
      "metadata": {
        "colab": {
          "base_uri": "https://localhost:8080/",
          "height": 1000
        },
        "id": "Gz_5pPqANAmg",
        "outputId": "74afe4de-057b-442b-e1e5-bb7fce594a66"
      },
      "execution_count": 2,
      "outputs": [
        {
          "output_type": "execute_result",
          "data": {
            "text/plain": [
              "                                           tweet_clean  \\\n",
              "0    ['abraj', 'al', 'bait', 'clock', 'tower', 'bea...   \n",
              "1    ['accounts', 'recognised', 'ramadan', 'none', ...   \n",
              "2    ['admin', 'post', 'peaceful', 'ramadan', 'cele...   \n",
              "3               ['admin', 'post', 'ramadan', 'norway']   \n",
              "4    ['admin', 'post', 'ramadan', 'usual', 'peacefu...   \n",
              "..                                                 ...   \n",
              "831  ['ya', 'allah', 'please', 'remove', 'procrasti...   \n",
              "832  ['yaqeen', 'launched', 'official', 'urdu', 'yo...   \n",
              "833  ['yasser', 'abu', 'daqqa', 'recently', 'freed'...   \n",
              "834  ['young', 'arabs', 'took', 'streets', 'last', ...   \n",
              "835  ['zarafshan', 'shiraz', 'hindustan', 'times', ...   \n",
              "\n",
              "                                                 Tweet sentiment  \\\n",
              "0    abraj al bait clock tower beams indicating com...  negative   \n",
              "1    accounts recognised ramadan none recognised be...  negative   \n",
              "2    admin post peaceful ramadan celebrations east ...  positive   \n",
              "3                            admin post ramadan norway  negative   \n",
              "4    admin post ramadan usual peaceful start englan...  positive   \n",
              "..                                                 ...       ...   \n",
              "831  ya allah please remove procrastination body ra...  positive   \n",
              "832  yaqeen launched official urdu youtube channel ...  positive   \n",
              "833  yasser abu daqqa recently freed palestinian de...  negative   \n",
              "834  young arabs took streets last night shouting a...  negative   \n",
              "835  zarafshan shiraz hindustan times confirms horm...  positive   \n",
              "\n",
              "                                      sentiment_scores    neg    neu    pos  \\\n",
              "0    {'neg': 0.0, 'neu': 1.0, 'pos': 0.0, 'compound...  0.000  1.000  0.000   \n",
              "1    {'neg': 0.147, 'neu': 0.853, 'pos': 0.0, 'comp...  0.147  0.853  0.000   \n",
              "2    {'neg': 0.0, 'neu': 0.714, 'pos': 0.286, 'comp...  0.000  0.714  0.286   \n",
              "3    {'neg': 0.0, 'neu': 1.0, 'pos': 0.0, 'compound...  0.000  1.000  0.000   \n",
              "4    {'neg': 0.0, 'neu': 0.775, 'pos': 0.225, 'comp...  0.000  0.775  0.225   \n",
              "..                                                 ...    ...    ...    ...   \n",
              "831  {'neg': 0.171, 'neu': 0.348, 'pos': 0.481, 'co...  0.171  0.348  0.481   \n",
              "832  {'neg': 0.0, 'neu': 0.688, 'pos': 0.312, 'comp...  0.000  0.688  0.312   \n",
              "833  {'neg': 0.336, 'neu': 0.494, 'pos': 0.17, 'com...  0.336  0.494  0.170   \n",
              "834  {'neg': 0.19, 'neu': 0.747, 'pos': 0.063, 'com...  0.190  0.747  0.063   \n",
              "835  {'neg': 0.0, 'neu': 0.817, 'pos': 0.183, 'comp...  0.000  0.817  0.183   \n",
              "\n",
              "     compound  \n",
              "0      0.0000  \n",
              "1     -0.4767  \n",
              "2      0.4939  \n",
              "3      0.0000  \n",
              "4      0.4939  \n",
              "..        ...  \n",
              "831    0.8689  \n",
              "832    0.7003  \n",
              "833   -0.7506  \n",
              "834   -0.6597  \n",
              "835    0.5719  \n",
              "\n",
              "[836 rows x 8 columns]"
            ],
            "text/html": [
              "\n",
              "  <div id=\"df-e402e73b-c39e-440b-810c-d71e27bcbe16\" class=\"colab-df-container\">\n",
              "    <div>\n",
              "<style scoped>\n",
              "    .dataframe tbody tr th:only-of-type {\n",
              "        vertical-align: middle;\n",
              "    }\n",
              "\n",
              "    .dataframe tbody tr th {\n",
              "        vertical-align: top;\n",
              "    }\n",
              "\n",
              "    .dataframe thead th {\n",
              "        text-align: right;\n",
              "    }\n",
              "</style>\n",
              "<table border=\"1\" class=\"dataframe\">\n",
              "  <thead>\n",
              "    <tr style=\"text-align: right;\">\n",
              "      <th></th>\n",
              "      <th>tweet_clean</th>\n",
              "      <th>Tweet</th>\n",
              "      <th>sentiment</th>\n",
              "      <th>sentiment_scores</th>\n",
              "      <th>neg</th>\n",
              "      <th>neu</th>\n",
              "      <th>pos</th>\n",
              "      <th>compound</th>\n",
              "    </tr>\n",
              "  </thead>\n",
              "  <tbody>\n",
              "    <tr>\n",
              "      <th>0</th>\n",
              "      <td>['abraj', 'al', 'bait', 'clock', 'tower', 'bea...</td>\n",
              "      <td>abraj al bait clock tower beams indicating com...</td>\n",
              "      <td>negative</td>\n",
              "      <td>{'neg': 0.0, 'neu': 1.0, 'pos': 0.0, 'compound...</td>\n",
              "      <td>0.000</td>\n",
              "      <td>1.000</td>\n",
              "      <td>0.000</td>\n",
              "      <td>0.0000</td>\n",
              "    </tr>\n",
              "    <tr>\n",
              "      <th>1</th>\n",
              "      <td>['accounts', 'recognised', 'ramadan', 'none', ...</td>\n",
              "      <td>accounts recognised ramadan none recognised be...</td>\n",
              "      <td>negative</td>\n",
              "      <td>{'neg': 0.147, 'neu': 0.853, 'pos': 0.0, 'comp...</td>\n",
              "      <td>0.147</td>\n",
              "      <td>0.853</td>\n",
              "      <td>0.000</td>\n",
              "      <td>-0.4767</td>\n",
              "    </tr>\n",
              "    <tr>\n",
              "      <th>2</th>\n",
              "      <td>['admin', 'post', 'peaceful', 'ramadan', 'cele...</td>\n",
              "      <td>admin post peaceful ramadan celebrations east ...</td>\n",
              "      <td>positive</td>\n",
              "      <td>{'neg': 0.0, 'neu': 0.714, 'pos': 0.286, 'comp...</td>\n",
              "      <td>0.000</td>\n",
              "      <td>0.714</td>\n",
              "      <td>0.286</td>\n",
              "      <td>0.4939</td>\n",
              "    </tr>\n",
              "    <tr>\n",
              "      <th>3</th>\n",
              "      <td>['admin', 'post', 'ramadan', 'norway']</td>\n",
              "      <td>admin post ramadan norway</td>\n",
              "      <td>negative</td>\n",
              "      <td>{'neg': 0.0, 'neu': 1.0, 'pos': 0.0, 'compound...</td>\n",
              "      <td>0.000</td>\n",
              "      <td>1.000</td>\n",
              "      <td>0.000</td>\n",
              "      <td>0.0000</td>\n",
              "    </tr>\n",
              "    <tr>\n",
              "      <th>4</th>\n",
              "      <td>['admin', 'post', 'ramadan', 'usual', 'peacefu...</td>\n",
              "      <td>admin post ramadan usual peaceful start englan...</td>\n",
              "      <td>positive</td>\n",
              "      <td>{'neg': 0.0, 'neu': 0.775, 'pos': 0.225, 'comp...</td>\n",
              "      <td>0.000</td>\n",
              "      <td>0.775</td>\n",
              "      <td>0.225</td>\n",
              "      <td>0.4939</td>\n",
              "    </tr>\n",
              "    <tr>\n",
              "      <th>...</th>\n",
              "      <td>...</td>\n",
              "      <td>...</td>\n",
              "      <td>...</td>\n",
              "      <td>...</td>\n",
              "      <td>...</td>\n",
              "      <td>...</td>\n",
              "      <td>...</td>\n",
              "      <td>...</td>\n",
              "    </tr>\n",
              "    <tr>\n",
              "      <th>831</th>\n",
              "      <td>['ya', 'allah', 'please', 'remove', 'procrasti...</td>\n",
              "      <td>ya allah please remove procrastination body ra...</td>\n",
              "      <td>positive</td>\n",
              "      <td>{'neg': 0.171, 'neu': 0.348, 'pos': 0.481, 'co...</td>\n",
              "      <td>0.171</td>\n",
              "      <td>0.348</td>\n",
              "      <td>0.481</td>\n",
              "      <td>0.8689</td>\n",
              "    </tr>\n",
              "    <tr>\n",
              "      <th>832</th>\n",
              "      <td>['yaqeen', 'launched', 'official', 'urdu', 'yo...</td>\n",
              "      <td>yaqeen launched official urdu youtube channel ...</td>\n",
              "      <td>positive</td>\n",
              "      <td>{'neg': 0.0, 'neu': 0.688, 'pos': 0.312, 'comp...</td>\n",
              "      <td>0.000</td>\n",
              "      <td>0.688</td>\n",
              "      <td>0.312</td>\n",
              "      <td>0.7003</td>\n",
              "    </tr>\n",
              "    <tr>\n",
              "      <th>833</th>\n",
              "      <td>['yasser', 'abu', 'daqqa', 'recently', 'freed'...</td>\n",
              "      <td>yasser abu daqqa recently freed palestinian de...</td>\n",
              "      <td>negative</td>\n",
              "      <td>{'neg': 0.336, 'neu': 0.494, 'pos': 0.17, 'com...</td>\n",
              "      <td>0.336</td>\n",
              "      <td>0.494</td>\n",
              "      <td>0.170</td>\n",
              "      <td>-0.7506</td>\n",
              "    </tr>\n",
              "    <tr>\n",
              "      <th>834</th>\n",
              "      <td>['young', 'arabs', 'took', 'streets', 'last', ...</td>\n",
              "      <td>young arabs took streets last night shouting a...</td>\n",
              "      <td>negative</td>\n",
              "      <td>{'neg': 0.19, 'neu': 0.747, 'pos': 0.063, 'com...</td>\n",
              "      <td>0.190</td>\n",
              "      <td>0.747</td>\n",
              "      <td>0.063</td>\n",
              "      <td>-0.6597</td>\n",
              "    </tr>\n",
              "    <tr>\n",
              "      <th>835</th>\n",
              "      <td>['zarafshan', 'shiraz', 'hindustan', 'times', ...</td>\n",
              "      <td>zarafshan shiraz hindustan times confirms horm...</td>\n",
              "      <td>positive</td>\n",
              "      <td>{'neg': 0.0, 'neu': 0.817, 'pos': 0.183, 'comp...</td>\n",
              "      <td>0.000</td>\n",
              "      <td>0.817</td>\n",
              "      <td>0.183</td>\n",
              "      <td>0.5719</td>\n",
              "    </tr>\n",
              "  </tbody>\n",
              "</table>\n",
              "<p>836 rows × 8 columns</p>\n",
              "</div>\n",
              "    <div class=\"colab-df-buttons\">\n",
              "\n",
              "  <div class=\"colab-df-container\">\n",
              "    <button class=\"colab-df-convert\" onclick=\"convertToInteractive('df-e402e73b-c39e-440b-810c-d71e27bcbe16')\"\n",
              "            title=\"Convert this dataframe to an interactive table.\"\n",
              "            style=\"display:none;\">\n",
              "\n",
              "  <svg xmlns=\"http://www.w3.org/2000/svg\" height=\"24px\" viewBox=\"0 -960 960 960\">\n",
              "    <path d=\"M120-120v-720h720v720H120Zm60-500h600v-160H180v160Zm220 220h160v-160H400v160Zm0 220h160v-160H400v160ZM180-400h160v-160H180v160Zm440 0h160v-160H620v160ZM180-180h160v-160H180v160Zm440 0h160v-160H620v160Z\"/>\n",
              "  </svg>\n",
              "    </button>\n",
              "\n",
              "  <style>\n",
              "    .colab-df-container {\n",
              "      display:flex;\n",
              "      gap: 12px;\n",
              "    }\n",
              "\n",
              "    .colab-df-convert {\n",
              "      background-color: #E8F0FE;\n",
              "      border: none;\n",
              "      border-radius: 50%;\n",
              "      cursor: pointer;\n",
              "      display: none;\n",
              "      fill: #1967D2;\n",
              "      height: 32px;\n",
              "      padding: 0 0 0 0;\n",
              "      width: 32px;\n",
              "    }\n",
              "\n",
              "    .colab-df-convert:hover {\n",
              "      background-color: #E2EBFA;\n",
              "      box-shadow: 0px 1px 2px rgba(60, 64, 67, 0.3), 0px 1px 3px 1px rgba(60, 64, 67, 0.15);\n",
              "      fill: #174EA6;\n",
              "    }\n",
              "\n",
              "    .colab-df-buttons div {\n",
              "      margin-bottom: 4px;\n",
              "    }\n",
              "\n",
              "    [theme=dark] .colab-df-convert {\n",
              "      background-color: #3B4455;\n",
              "      fill: #D2E3FC;\n",
              "    }\n",
              "\n",
              "    [theme=dark] .colab-df-convert:hover {\n",
              "      background-color: #434B5C;\n",
              "      box-shadow: 0px 1px 3px 1px rgba(0, 0, 0, 0.15);\n",
              "      filter: drop-shadow(0px 1px 2px rgba(0, 0, 0, 0.3));\n",
              "      fill: #FFFFFF;\n",
              "    }\n",
              "  </style>\n",
              "\n",
              "    <script>\n",
              "      const buttonEl =\n",
              "        document.querySelector('#df-e402e73b-c39e-440b-810c-d71e27bcbe16 button.colab-df-convert');\n",
              "      buttonEl.style.display =\n",
              "        google.colab.kernel.accessAllowed ? 'block' : 'none';\n",
              "\n",
              "      async function convertToInteractive(key) {\n",
              "        const element = document.querySelector('#df-e402e73b-c39e-440b-810c-d71e27bcbe16');\n",
              "        const dataTable =\n",
              "          await google.colab.kernel.invokeFunction('convertToInteractive',\n",
              "                                                    [key], {});\n",
              "        if (!dataTable) return;\n",
              "\n",
              "        const docLinkHtml = 'Like what you see? Visit the ' +\n",
              "          '<a target=\"_blank\" href=https://colab.research.google.com/notebooks/data_table.ipynb>data table notebook</a>'\n",
              "          + ' to learn more about interactive tables.';\n",
              "        element.innerHTML = '';\n",
              "        dataTable['output_type'] = 'display_data';\n",
              "        await google.colab.output.renderOutput(dataTable, element);\n",
              "        const docLink = document.createElement('div');\n",
              "        docLink.innerHTML = docLinkHtml;\n",
              "        element.appendChild(docLink);\n",
              "      }\n",
              "    </script>\n",
              "  </div>\n",
              "\n",
              "\n",
              "    <div id=\"df-be9ae01d-73ae-4ee1-a3e3-9dae0656e07d\">\n",
              "      <button class=\"colab-df-quickchart\" onclick=\"quickchart('df-be9ae01d-73ae-4ee1-a3e3-9dae0656e07d')\"\n",
              "                title=\"Suggest charts\"\n",
              "                style=\"display:none;\">\n",
              "\n",
              "<svg xmlns=\"http://www.w3.org/2000/svg\" height=\"24px\"viewBox=\"0 0 24 24\"\n",
              "     width=\"24px\">\n",
              "    <g>\n",
              "        <path d=\"M19 3H5c-1.1 0-2 .9-2 2v14c0 1.1.9 2 2 2h14c1.1 0 2-.9 2-2V5c0-1.1-.9-2-2-2zM9 17H7v-7h2v7zm4 0h-2V7h2v10zm4 0h-2v-4h2v4z\"/>\n",
              "    </g>\n",
              "</svg>\n",
              "      </button>\n",
              "\n",
              "<style>\n",
              "  .colab-df-quickchart {\n",
              "      --bg-color: #E8F0FE;\n",
              "      --fill-color: #1967D2;\n",
              "      --hover-bg-color: #E2EBFA;\n",
              "      --hover-fill-color: #174EA6;\n",
              "      --disabled-fill-color: #AAA;\n",
              "      --disabled-bg-color: #DDD;\n",
              "  }\n",
              "\n",
              "  [theme=dark] .colab-df-quickchart {\n",
              "      --bg-color: #3B4455;\n",
              "      --fill-color: #D2E3FC;\n",
              "      --hover-bg-color: #434B5C;\n",
              "      --hover-fill-color: #FFFFFF;\n",
              "      --disabled-bg-color: #3B4455;\n",
              "      --disabled-fill-color: #666;\n",
              "  }\n",
              "\n",
              "  .colab-df-quickchart {\n",
              "    background-color: var(--bg-color);\n",
              "    border: none;\n",
              "    border-radius: 50%;\n",
              "    cursor: pointer;\n",
              "    display: none;\n",
              "    fill: var(--fill-color);\n",
              "    height: 32px;\n",
              "    padding: 0;\n",
              "    width: 32px;\n",
              "  }\n",
              "\n",
              "  .colab-df-quickchart:hover {\n",
              "    background-color: var(--hover-bg-color);\n",
              "    box-shadow: 0 1px 2px rgba(60, 64, 67, 0.3), 0 1px 3px 1px rgba(60, 64, 67, 0.15);\n",
              "    fill: var(--button-hover-fill-color);\n",
              "  }\n",
              "\n",
              "  .colab-df-quickchart-complete:disabled,\n",
              "  .colab-df-quickchart-complete:disabled:hover {\n",
              "    background-color: var(--disabled-bg-color);\n",
              "    fill: var(--disabled-fill-color);\n",
              "    box-shadow: none;\n",
              "  }\n",
              "\n",
              "  .colab-df-spinner {\n",
              "    border: 2px solid var(--fill-color);\n",
              "    border-color: transparent;\n",
              "    border-bottom-color: var(--fill-color);\n",
              "    animation:\n",
              "      spin 1s steps(1) infinite;\n",
              "  }\n",
              "\n",
              "  @keyframes spin {\n",
              "    0% {\n",
              "      border-color: transparent;\n",
              "      border-bottom-color: var(--fill-color);\n",
              "      border-left-color: var(--fill-color);\n",
              "    }\n",
              "    20% {\n",
              "      border-color: transparent;\n",
              "      border-left-color: var(--fill-color);\n",
              "      border-top-color: var(--fill-color);\n",
              "    }\n",
              "    30% {\n",
              "      border-color: transparent;\n",
              "      border-left-color: var(--fill-color);\n",
              "      border-top-color: var(--fill-color);\n",
              "      border-right-color: var(--fill-color);\n",
              "    }\n",
              "    40% {\n",
              "      border-color: transparent;\n",
              "      border-right-color: var(--fill-color);\n",
              "      border-top-color: var(--fill-color);\n",
              "    }\n",
              "    60% {\n",
              "      border-color: transparent;\n",
              "      border-right-color: var(--fill-color);\n",
              "    }\n",
              "    80% {\n",
              "      border-color: transparent;\n",
              "      border-right-color: var(--fill-color);\n",
              "      border-bottom-color: var(--fill-color);\n",
              "    }\n",
              "    90% {\n",
              "      border-color: transparent;\n",
              "      border-bottom-color: var(--fill-color);\n",
              "    }\n",
              "  }\n",
              "</style>\n",
              "\n",
              "      <script>\n",
              "        async function quickchart(key) {\n",
              "          const quickchartButtonEl =\n",
              "            document.querySelector('#' + key + ' button');\n",
              "          quickchartButtonEl.disabled = true;  // To prevent multiple clicks.\n",
              "          quickchartButtonEl.classList.add('colab-df-spinner');\n",
              "          try {\n",
              "            const charts = await google.colab.kernel.invokeFunction(\n",
              "                'suggestCharts', [key], {});\n",
              "          } catch (error) {\n",
              "            console.error('Error during call to suggestCharts:', error);\n",
              "          }\n",
              "          quickchartButtonEl.classList.remove('colab-df-spinner');\n",
              "          quickchartButtonEl.classList.add('colab-df-quickchart-complete');\n",
              "        }\n",
              "        (() => {\n",
              "          let quickchartButtonEl =\n",
              "            document.querySelector('#df-be9ae01d-73ae-4ee1-a3e3-9dae0656e07d button');\n",
              "          quickchartButtonEl.style.display =\n",
              "            google.colab.kernel.accessAllowed ? 'block' : 'none';\n",
              "        })();\n",
              "      </script>\n",
              "    </div>\n",
              "\n",
              "  <div id=\"id_15cc8caf-de15-4c29-bdb0-b9a085fdd0a9\">\n",
              "    <style>\n",
              "      .colab-df-generate {\n",
              "        background-color: #E8F0FE;\n",
              "        border: none;\n",
              "        border-radius: 50%;\n",
              "        cursor: pointer;\n",
              "        display: none;\n",
              "        fill: #1967D2;\n",
              "        height: 32px;\n",
              "        padding: 0 0 0 0;\n",
              "        width: 32px;\n",
              "      }\n",
              "\n",
              "      .colab-df-generate:hover {\n",
              "        background-color: #E2EBFA;\n",
              "        box-shadow: 0px 1px 2px rgba(60, 64, 67, 0.3), 0px 1px 3px 1px rgba(60, 64, 67, 0.15);\n",
              "        fill: #174EA6;\n",
              "      }\n",
              "\n",
              "      [theme=dark] .colab-df-generate {\n",
              "        background-color: #3B4455;\n",
              "        fill: #D2E3FC;\n",
              "      }\n",
              "\n",
              "      [theme=dark] .colab-df-generate:hover {\n",
              "        background-color: #434B5C;\n",
              "        box-shadow: 0px 1px 3px 1px rgba(0, 0, 0, 0.15);\n",
              "        filter: drop-shadow(0px 1px 2px rgba(0, 0, 0, 0.3));\n",
              "        fill: #FFFFFF;\n",
              "      }\n",
              "    </style>\n",
              "    <button class=\"colab-df-generate\" onclick=\"generateWithVariable('df')\"\n",
              "            title=\"Generate code using this dataframe.\"\n",
              "            style=\"display:none;\">\n",
              "\n",
              "  <svg xmlns=\"http://www.w3.org/2000/svg\" height=\"24px\"viewBox=\"0 0 24 24\"\n",
              "       width=\"24px\">\n",
              "    <path d=\"M7,19H8.4L18.45,9,17,7.55,7,17.6ZM5,21V16.75L18.45,3.32a2,2,0,0,1,2.83,0l1.4,1.43a1.91,1.91,0,0,1,.58,1.4,1.91,1.91,0,0,1-.58,1.4L9.25,21ZM18.45,9,17,7.55Zm-12,3A5.31,5.31,0,0,0,4.9,8.1,5.31,5.31,0,0,0,1,6.5,5.31,5.31,0,0,0,4.9,4.9,5.31,5.31,0,0,0,6.5,1,5.31,5.31,0,0,0,8.1,4.9,5.31,5.31,0,0,0,12,6.5,5.46,5.46,0,0,0,6.5,12Z\"/>\n",
              "  </svg>\n",
              "    </button>\n",
              "    <script>\n",
              "      (() => {\n",
              "      const buttonEl =\n",
              "        document.querySelector('#id_15cc8caf-de15-4c29-bdb0-b9a085fdd0a9 button.colab-df-generate');\n",
              "      buttonEl.style.display =\n",
              "        google.colab.kernel.accessAllowed ? 'block' : 'none';\n",
              "\n",
              "      buttonEl.onclick = () => {\n",
              "        google.colab.notebook.generateWithVariable('df');\n",
              "      }\n",
              "      })();\n",
              "    </script>\n",
              "  </div>\n",
              "\n",
              "    </div>\n",
              "  </div>\n"
            ],
            "application/vnd.google.colaboratory.intrinsic+json": {
              "type": "dataframe",
              "variable_name": "df",
              "summary": "{\n  \"name\": \"df\",\n  \"rows\": 836,\n  \"fields\": [\n    {\n      \"column\": \"tweet_clean\",\n      \"properties\": {\n        \"dtype\": \"string\",\n        \"num_unique_values\": 836,\n        \"samples\": [\n          \"['ramadan', 'mubarak', 'muslim', 'family', 'around', 'world']\",\n          \"['wishing', 'olympiens', 'around', 'world', 'blessed', 'peaceful', 'ramadan', '', '']\",\n          \"['king', 'charles', 'helping', 'prepare', 'ramadan', 'great', 'britain', 'would', 'eat']\"\n        ],\n        \"semantic_type\": \"\",\n        \"description\": \"\"\n      }\n    },\n    {\n      \"column\": \"Tweet\",\n      \"properties\": {\n        \"dtype\": \"string\",\n        \"num_unique_values\": 836,\n        \"samples\": [\n          \"ramadan mubarak muslim family around world\",\n          \"wishing olympiens around world blessed peaceful ramadan\",\n          \"king charles helping prepare ramadan great britain would eat\"\n        ],\n        \"semantic_type\": \"\",\n        \"description\": \"\"\n      }\n    },\n    {\n      \"column\": \"sentiment\",\n      \"properties\": {\n        \"dtype\": \"category\",\n        \"num_unique_values\": 2,\n        \"samples\": [\n          \"positive\",\n          \"negative\"\n        ],\n        \"semantic_type\": \"\",\n        \"description\": \"\"\n      }\n    },\n    {\n      \"column\": \"sentiment_scores\",\n      \"properties\": {\n        \"dtype\": \"string\",\n        \"num_unique_values\": 572,\n        \"samples\": [\n          \"{'neg': 0.268, 'neu': 0.732, 'pos': 0.0, 'compound': -0.296}\",\n          \"{'neg': 0.0, 'neu': 0.503, 'pos': 0.497, 'compound': 0.9413}\"\n        ],\n        \"semantic_type\": \"\",\n        \"description\": \"\"\n      }\n    },\n    {\n      \"column\": \"neg\",\n      \"properties\": {\n        \"dtype\": \"number\",\n        \"std\": 0.12690919569443948,\n        \"min\": 0.0,\n        \"max\": 0.747,\n        \"num_unique_values\": 192,\n        \"samples\": [\n          0.195,\n          0.262\n        ],\n        \"semantic_type\": \"\",\n        \"description\": \"\"\n      }\n    },\n    {\n      \"column\": \"neu\",\n      \"properties\": {\n        \"dtype\": \"number\",\n        \"std\": 0.2264602671078858,\n        \"min\": 0.095,\n        \"max\": 1.0,\n        \"num_unique_values\": 366,\n        \"samples\": [\n          0.48,\n          0.506\n        ],\n        \"semantic_type\": \"\",\n        \"description\": \"\"\n      }\n    },\n    {\n      \"column\": \"pos\",\n      \"properties\": {\n        \"dtype\": \"number\",\n        \"std\": 0.22091634423279963,\n        \"min\": 0.0,\n        \"max\": 0.905,\n        \"num_unique_values\": 350,\n        \"samples\": [\n          0.355,\n          0.623\n        ],\n        \"semantic_type\": \"\",\n        \"description\": \"\"\n      }\n    },\n    {\n      \"column\": \"compound\",\n      \"properties\": {\n        \"dtype\": \"number\",\n        \"std\": 0.486628700627626,\n        \"min\": -0.9761,\n        \"max\": 0.9831,\n        \"num_unique_values\": 218,\n        \"samples\": [\n          0.9062,\n          0.9432\n        ],\n        \"semantic_type\": \"\",\n        \"description\": \"\"\n      }\n    }\n  ]\n}"
            }
          },
          "metadata": {},
          "execution_count": 2
        }
      ]
    },
    {
      "cell_type": "code",
      "source": [
        "df.info()"
      ],
      "metadata": {
        "colab": {
          "base_uri": "https://localhost:8080/"
        },
        "id": "kimqaNLFXlGl",
        "outputId": "5524ed0a-9cc1-4c77-ac78-50df30f594d5"
      },
      "execution_count": 3,
      "outputs": [
        {
          "output_type": "stream",
          "name": "stdout",
          "text": [
            "<class 'pandas.core.frame.DataFrame'>\n",
            "RangeIndex: 836 entries, 0 to 835\n",
            "Data columns (total 8 columns):\n",
            " #   Column            Non-Null Count  Dtype  \n",
            "---  ------            --------------  -----  \n",
            " 0   tweet_clean       836 non-null    object \n",
            " 1   Tweet             836 non-null    object \n",
            " 2   sentiment         836 non-null    object \n",
            " 3   sentiment_scores  836 non-null    object \n",
            " 4   neg               836 non-null    float64\n",
            " 5   neu               836 non-null    float64\n",
            " 6   pos               836 non-null    float64\n",
            " 7   compound          836 non-null    float64\n",
            "dtypes: float64(4), object(4)\n",
            "memory usage: 52.4+ KB\n"
          ]
        }
      ]
    },
    {
      "cell_type": "markdown",
      "source": [
        "**2. Data Preprocessing**"
      ],
      "metadata": {
        "id": "i3FXeoJROJs4"
      }
    },
    {
      "cell_type": "markdown",
      "source": [
        "Konversi label ke numerik\n"
      ],
      "metadata": {
        "id": "4UEZ9Y4IOfLW"
      }
    },
    {
      "cell_type": "code",
      "source": [
        "df['sentiment'] = df['sentiment'].map({'positi': 1, 'negative' : 0})"
      ],
      "metadata": {
        "id": "ZB4_zQgfOJWH"
      },
      "execution_count": 4,
      "outputs": []
    },
    {
      "cell_type": "markdown",
      "source": [
        "Handle missing values"
      ],
      "metadata": {
        "id": "vKZ1ilRoWeh0"
      }
    },
    {
      "cell_type": "code",
      "source": [
        "print('Missing values:\\n', df.isnull().sum())"
      ],
      "metadata": {
        "colab": {
          "base_uri": "https://localhost:8080/"
        },
        "id": "O86IT-3LWvFE",
        "outputId": "fdc5037a-b2fd-4806-d201-ea3aacdc56b0"
      },
      "execution_count": 5,
      "outputs": [
        {
          "output_type": "stream",
          "name": "stdout",
          "text": [
            "Missing values:\n",
            " tweet_clean           0\n",
            "Tweet                 0\n",
            "sentiment           446\n",
            "sentiment_scores      0\n",
            "neg                   0\n",
            "neu                   0\n",
            "pos                   0\n",
            "compound              0\n",
            "dtype: int64\n"
          ]
        }
      ]
    },
    {
      "cell_type": "code",
      "source": [
        "df = df.dropna(subset=['tweet_clean', 'sentiment'])\n",
        "print('\\nMissing values after treatment:\\n', df.isnull().sum())"
      ],
      "metadata": {
        "colab": {
          "base_uri": "https://localhost:8080/"
        },
        "id": "sSDy1oI_XrXe",
        "outputId": "57acab84-6aa3-4fd4-de34-2a5baec1b232"
      },
      "execution_count": 6,
      "outputs": [
        {
          "output_type": "stream",
          "name": "stdout",
          "text": [
            "\n",
            "Missing values after treatment:\n",
            " tweet_clean         0\n",
            "Tweet               0\n",
            "sentiment           0\n",
            "sentiment_scores    0\n",
            "neg                 0\n",
            "neu                 0\n",
            "pos                 0\n",
            "compound            0\n",
            "dtype: int64\n"
          ]
        }
      ]
    },
    {
      "cell_type": "code",
      "source": [
        "df.info()"
      ],
      "metadata": {
        "colab": {
          "base_uri": "https://localhost:8080/"
        },
        "id": "ada9Ih81Xw2G",
        "outputId": "1982720e-80a1-4173-99e9-4fd6d176cc43"
      },
      "execution_count": 7,
      "outputs": [
        {
          "output_type": "stream",
          "name": "stdout",
          "text": [
            "<class 'pandas.core.frame.DataFrame'>\n",
            "Index: 390 entries, 0 to 834\n",
            "Data columns (total 8 columns):\n",
            " #   Column            Non-Null Count  Dtype  \n",
            "---  ------            --------------  -----  \n",
            " 0   tweet_clean       390 non-null    object \n",
            " 1   Tweet             390 non-null    object \n",
            " 2   sentiment         390 non-null    float64\n",
            " 3   sentiment_scores  390 non-null    object \n",
            " 4   neg               390 non-null    float64\n",
            " 5   neu               390 non-null    float64\n",
            " 6   pos               390 non-null    float64\n",
            " 7   compound          390 non-null    float64\n",
            "dtypes: float64(5), object(3)\n",
            "memory usage: 27.4+ KB\n"
          ]
        }
      ]
    },
    {
      "cell_type": "markdown",
      "source": [
        "**3. Feature Engineering**"
      ],
      "metadata": {
        "id": "0kDgvJBWWcow"
      }
    },
    {
      "cell_type": "markdown",
      "source": [
        "Gabungkan list kata menjadi string"
      ],
      "metadata": {
        "id": "ESIgus4uYOaX"
      }
    },
    {
      "cell_type": "code",
      "source": [
        "df['text_processed'] = df['tweet_clean'].apply(\n",
        "    lambda x: ' '.join(eval(x)) if isinstance(x, str) else ''\n",
        ")"
      ],
      "metadata": {
        "colab": {
          "base_uri": "https://localhost:8080/"
        },
        "id": "CpTzk2QmWc4j",
        "outputId": "b64601d8-0e58-4c70-8993-8efb76023183"
      },
      "execution_count": 8,
      "outputs": [
        {
          "output_type": "stream",
          "name": "stderr",
          "text": [
            "<ipython-input-8-1ce0ab69bc5e>:1: SettingWithCopyWarning: \n",
            "A value is trying to be set on a copy of a slice from a DataFrame.\n",
            "Try using .loc[row_indexer,col_indexer] = value instead\n",
            "\n",
            "See the caveats in the documentation: https://pandas.pydata.org/pandas-docs/stable/user_guide/indexing.html#returning-a-view-versus-a-copy\n",
            "  df['text_processed'] = df['tweet_clean'].apply(\n"
          ]
        }
      ]
    },
    {
      "cell_type": "markdown",
      "source": [
        "**4. TF-IDF Vectorization**"
      ],
      "metadata": {
        "id": "Xeq3FFBDY2Nw"
      }
    },
    {
      "cell_type": "code",
      "source": [
        "tfidf = TfidfVectorizer(\n",
        "    max_features=1000,\n",
        "    ngram_range=(1,2),\n",
        "    stop_words='english'\n",
        ")\n",
        "\n",
        "X = tfidf.fit_transform(df['text_processed'])\n",
        "y = df['sentiment']"
      ],
      "metadata": {
        "id": "jEBp6PG8Y6l8"
      },
      "execution_count": 9,
      "outputs": []
    },
    {
      "cell_type": "markdown",
      "source": [
        "**5. Train-Test Split**"
      ],
      "metadata": {
        "id": "Qsw8tozjaqwe"
      }
    },
    {
      "cell_type": "code",
      "source": [
        "X_train, X_test, y_train, y_test = train_test_split(\n",
        "    X, y,\n",
        "    test_size=0.2,\n",
        "    random_state=42,\n",
        "    stratify=y # Pertahankan distribusi kelas\n",
        ")"
      ],
      "metadata": {
        "id": "uUx3WeuiauKC"
      },
      "execution_count": 10,
      "outputs": []
    },
    {
      "cell_type": "markdown",
      "source": [
        "**6. Model Training dengan Hyperparameter Tuning**"
      ],
      "metadata": {
        "id": "HUWugfCBZiIc"
      }
    },
    {
      "cell_type": "code",
      "source": [
        "param_grid = {\n",
        "    'max_depth': [None, 10, 20, 30],\n",
        "    'min_samples_split': [2, 5, 10],\n",
        "    'min_samples_leaf': [1, 2, 4],\n",
        "    'criterion': ['gini', 'entropy']\n",
        "}"
      ],
      "metadata": {
        "id": "x_RJuCYlZqLD"
      },
      "execution_count": 11,
      "outputs": []
    },
    {
      "cell_type": "code",
      "source": [
        "dt = DecisionTreeClassifier(random_state=42)\n",
        "grid_search = GridSearchCV(\n",
        "    dt, param_grid,\n",
        "    cv=5,\n",
        "    scoring='accuracy',\n",
        "    n_jobs=-1\n",
        ")\n",
        "\n",
        "grid_search.fit(X_train, y_train)\n",
        "\n",
        "best_dt = grid_search.best_estimator_"
      ],
      "metadata": {
        "id": "quU85FJ1aGiT"
      },
      "execution_count": 12,
      "outputs": []
    },
    {
      "cell_type": "markdown",
      "source": [
        "**7. Evaluasi Model**"
      ],
      "metadata": {
        "id": "fDeIJCZJdEQd"
      }
    },
    {
      "cell_type": "code",
      "source": [
        "y_pred = best_dt.predict(X_test)\n",
        "\n",
        "print('\\Best Parameters:', grid_search.best_params_)\n",
        "print('Accuracy:', accuracy_score(y_test, y_pred))\n",
        "print('\\nClassification Report:')\n",
        "print(classification_report(y_test, y_pred))"
      ],
      "metadata": {
        "colab": {
          "base_uri": "https://localhost:8080/"
        },
        "id": "HcBiX1RtaXwe",
        "outputId": "e22b6713-a555-4565-ec38-31b522e2c9d7"
      },
      "execution_count": 13,
      "outputs": [
        {
          "output_type": "stream",
          "name": "stdout",
          "text": [
            "\\Best Parameters: {'criterion': 'gini', 'max_depth': None, 'min_samples_leaf': 1, 'min_samples_split': 2}\n",
            "Accuracy: 1.0\n",
            "\n",
            "Classification Report:\n",
            "              precision    recall  f1-score   support\n",
            "\n",
            "         0.0       1.00      1.00      1.00        78\n",
            "\n",
            "    accuracy                           1.00        78\n",
            "   macro avg       1.00      1.00      1.00        78\n",
            "weighted avg       1.00      1.00      1.00        78\n",
            "\n"
          ]
        }
      ]
    },
    {
      "cell_type": "markdown",
      "source": [
        "Confusin Matrix"
      ],
      "metadata": {
        "id": "qrTDOeRFdoz8"
      }
    },
    {
      "cell_type": "code",
      "source": [
        "cm = confusion_matrix(y_test, y_pred)\n",
        "disp = ConfusionMatrixDisplay(confusion_matrix=cm)\n",
        "disp.plot(cmap='Blues')\n",
        "plt.title('Confusion Matrix')\n",
        "plt.show()"
      ],
      "metadata": {
        "colab": {
          "base_uri": "https://localhost:8080/",
          "height": 528
        },
        "id": "Q055lNP8doF3",
        "outputId": "f171ef7e-bac0-4a53-81e9-b90fea11f89f"
      },
      "execution_count": 14,
      "outputs": [
        {
          "output_type": "stream",
          "name": "stderr",
          "text": [
            "/usr/local/lib/python3.11/dist-packages/sklearn/metrics/_classification.py:407: UserWarning: A single label was found in 'y_true' and 'y_pred'. For the confusion matrix to have the correct shape, use the 'labels' parameter to pass all known labels.\n",
            "  warnings.warn(\n"
          ]
        },
        {
          "output_type": "display_data",
          "data": {
            "text/plain": [
              "<Figure size 640x480 with 2 Axes>"
            ],
            "image/png": "[encoded data removed]"
          },
          "metadata": {}
        }
      ]
    },
    {
      "cell_type": "markdown",
      "source": [
        "**8. Visualisasi Decision Tree (Pohon Kecil)**"
      ],
      "metadata": {
        "id": "tGg7caVmKG-s"
      }
    },
    {
      "cell_type": "code",
      "source": [
        "plt.figure(figsize=(15, 5), dpi=100)\n",
        "plot_tree(\n",
        "    best_dt,\n",
        "    filled=True,\n",
        "    feature_names = tfidf.get_feature_names_out(),\n",
        "    class_names=['Negative', 'Positive'],\n",
        "    max_depth=2,\n",
        "    fontsize=14,\n",
        "    proportion=True,\n",
        "    node_ids=True,\n",
        "    rounded=True,\n",
        "    precision=2,\n",
        ")\n",
        "\n",
        "plt.title('Decision Tree Visualization (fisrt 2 levels)', )\n",
        "plt.show()"
      ],
      "metadata": {
        "colab": {
          "base_uri": "https://localhost:8080/",
          "height": 245
        },
        "id": "s0nGSNtqK2ar",
        "outputId": "47a04408-99dd-4d5f-987f-d016764b6f4f"
      },
      "execution_count": 29,
      "outputs": [
        {
          "output_type": "display_data",
          "data": {
            "text/plain": [
              "<Figure size 1500x500 with 1 Axes>"
            ],
            "image/png": "[encoded data removed]"
          },
          "metadata": {}
        }
      ]
    },
    {
      "cell_type": "code",
      "source": [
        "from sklearn.tree import export_graphviz\n",
        "import graphviz\n",
        "\n",
        "dot_data = export_graphviz(\n",
        "    best_dt,\n",
        "    out_file=None,\n",
        "    feature_names=tfidf.get_feature_names_out(),\n",
        "    class_names=['Negative', 'Positive'],\n",
        "    filled=True,\n",
        "    rounded=True,\n",
        "    max_depth=2,\n",
        "    special_characters=True\n",
        ")\n",
        "\n",
        "graph = graphviz.Source(dot_data)\n",
        "graph.render(\"decision_tree\", format=\"png\")  # Hasilkan file PNG"
      ],
      "metadata": {
        "id": "qsiyXSCVOYVz",
        "outputId": "d45f0eb9-e9c8-4836-fb63-1cd719de1565",
        "colab": {
          "base_uri": "https://localhost:8080/",
          "height": 36
        }
      },
      "execution_count": 31,
      "outputs": [
        {
          "output_type": "execute_result",
          "data": {
            "text/plain": [
              "'decision_tree.png'"
            ],
            "application/vnd.google.colaboratory.intrinsic+json": {
              "type": "string"
            }
          },
          "metadata": {},
          "execution_count": 31
        }
      ]
    },
    {
      "cell_type": "markdown",
      "source": [
        "**9. Feature Importance Analysis**\n"
      ],
      "metadata": {
        "id": "WNYoYJU0MHx4"
      }
    },
    {
      "cell_type": "code",
      "source": [
        "feature_importances = pd.DataFrame({\n",
        "    'feature': tfidf.get_feature_names_out(),\n",
        "    'importance': best_dt.feature_importances_\n",
        "}).sort_values('importance', ascending=False).head(20)\n",
        "\n",
        "print(\"\\nTop 20 Important Features:\")\n",
        "print(feature_importances)\n",
        "\n",
        "# Visualisasi Feature Importance\n",
        "plt.figure(figsize=(10,6))\n",
        "plt.barh(\n",
        "    feature_importances['feature'],\n",
        "    feature_importances['importance'],\n",
        "    color='skyblue'\n",
        ")\n",
        "plt.gca().invert_yaxis()\n",
        "plt.xlabel('Importance')\n",
        "plt.title('Top 20 Feature Importances')\n",
        "plt.show()"
      ],
      "metadata": {
        "colab": {
          "base_uri": "https://localhost:8080/",
          "height": 799
        },
        "id": "tORoUkBYLm1v",
        "outputId": "f319d73a-294f-41b9-fb13-1c73944380e2"
      },
      "execution_count": 28,
      "outputs": [
        {
          "output_type": "stream",
          "name": "stdout",
          "text": [
            "\n",
            "Top 20 Important Features:\n",
            "                feature  importance\n",
            "999    zealand pakistan         0.0\n",
            "0     abducted murdered         0.0\n",
            "1                 abdul         0.0\n",
            "2          abdul caught         0.0\n",
            "3                  able         0.0\n",
            "4            able north         0.0\n",
            "5                 abraj         0.0\n",
            "6              abraj al         0.0\n",
            "983               young         0.0\n",
            "982           yesterday         0.0\n",
            "981                 yes         0.0\n",
            "980               years         0.0\n",
            "979            year old         0.0\n",
            "978                year         0.0\n",
            "977               wrong         0.0\n",
            "976  worrying financial         0.0\n",
            "975            worrying         0.0\n",
            "974               world         0.0\n",
            "973             working         0.0\n",
            "972                word         0.0\n"
          ]
        },
        {
          "output_type": "display_data",
          "data": {
            "text/plain": [
              "<Figure size 1000x600 with 1 Axes>"
            ],
            "image/png": "[encoded data removed]"
          },
          "metadata": {}
        }
      ]
    },
    {
      "cell_type": "code",
      "source": [],
      "metadata": {
        "id": "hWZGmFZONRaF"
      },
      "execution_count": null,
      "outputs": []
    }
  ]
}