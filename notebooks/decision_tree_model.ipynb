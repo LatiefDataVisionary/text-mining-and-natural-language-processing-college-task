{
  "nbformat": 4,
  "nbformat_minor": 0,
  "metadata": {
    "colab": {
      "provenance": [],
      "authorship_tag": "ABX9TyNmpx7JybHORGpskNlujC+P",
      "include_colab_link": true
    },
    "kernelspec": {
      "name": "python3",
      "display_name": "Python 3"
    },
    "language_info": {
      "name": "python"
    }
  },
  "cells": [
    {
      "cell_type": "markdown",
      "metadata": {
        "id": "view-in-github",
        "colab_type": "text"
      },
      "source": [
        "<a href=\"https://colab.research.google.com/github/LatiefDataVisionary/text-mining-and-natural-language-processing-college-task/blob/main/notebooks/decision_tree_model.ipynb\" target=\"_parent\"><img src=\"https://colab.research.google.com/assets/colab-badge.svg\" alt=\"Open In Colab\"/></a>"
      ]
    },
    {
      "cell_type": "markdown",
      "source": [
        "## **1. Import Library yang Digunakan**"
      ],
      "metadata": {
        "id": "GSdmPOBN0zBr"
      }
    },
    {
      "cell_type": "markdown",
      "source": [
        "Berikut adalah library yang digunakan dalam proyek klasifikasi teks ini. Setiap library memiliki peran penting dalam tahapan analisis data, mulai dari pemrosesan data hingga pemodelan dan evaluasi.\n"
      ],
      "metadata": {
        "id": "Rw_ELQWn1OXA"
      }
    },
    {
      "cell_type": "code",
      "execution_count": 1,
      "metadata": {
        "id": "CqiXz8fA0qwd"
      },
      "outputs": [],
      "source": [
        "import pandas as pd\n",
        "import numpy as np\n",
        "from sklearn.model_selection import train_test_split, GridSearchCV\n",
        "from sklearn.feature_extraction.text import TfidfVectorizer\n",
        "from sklearn.tree import DecisionTreeClassifier, plot_tree, export_graphviz\n",
        "from sklearn.metrics import (\n",
        "    accuracy_score,\n",
        "    confusion_matrix,\n",
        "    classification_report,\n",
        "    ConfusionMatrixDisplay,\n",
        ")\n",
        "import matplotlib.pyplot as plt\n",
        "import seaborn as sns\n",
        "import graphviz # utk merender visualisasi decision tree\n",
        "\n",
        "# pengaturan untuk plot agar lebih menarik\n",
        "plt.style.use('seaborn-v0_8-whitegrid')\n",
        "sns.set_palette('viridis')"
      ]
    },
    {
      "cell_type": "markdown",
      "source": [
        "**Penjelasan Library:**\n",
        "\n",
        "* `pandas` dan `numpy`: Untuk manipulasi dan analisis data numerik dan tabular.\n",
        "* `sklearn.model_selection`: Untuk membagi dataset (`train_test_split`) dan tuning hyperparameter (`GridSearchCV`).\n",
        "* `sklearn.feature_extraction.text`: Untuk mengubah teks menjadi representasi numerik menggunakan `TfidfVectorizer`.\n",
        "* `sklearn.tree`: Untuk model Decision Tree (`DecisionTreeClassifier`) dan visualisasinya (`plot_tree`, `export_graphviz`).\n",
        "* `sklearn.metrics`: Untuk evaluasi model (akurasi, confusion matrix, classification report).\n",
        "* `matplotlib.pyplot` dan `seaborn`: Untuk membuat visualisasi data.\n",
        "* `graphviz`: Untuk merender file DOT yang dihasilkan oleh `export_graphviz` menjadi gambar pohon keputusan.\n"
      ],
      "metadata": {
        "id": "MFz8w3sL25Lj"
      }
    },
    {
      "cell_type": "markdown",
      "source": [
        "## **2. Import Dataset yang Digunakan**\n"
      ],
      "metadata": {
        "id": "U9O38xdB3g9y"
      }
    },
    {
      "cell_type": "markdown",
      "source": [
        "Dataset yang digunakan dalam analisis sentimen ini adalah `ramadan_labeled_sentiment.csv`. Dataset ini berisi tweet yang berkaitan dengan Ramadan beserta label sentimennya (positif atau negatif) dan skor sentimen lainnya.\n"
      ],
      "metadata": {
        "id": "9F3bmVWM3j-x"
      }
    },
    {
      "cell_type": "code",
      "source": [
        "path = 'https://raw.githubusercontent.com/LatiefDataVisionary/text-mining-and-natural-language-processing-college-task/refs/heads/main/datasets/ramadan_labeled_sentiment.csv'\n",
        "df = pd.read_csv(path)"
      ],
      "metadata": {
        "id": "fp_oDcYe3jxK"
      },
      "execution_count": 2,
      "outputs": []
    },
    {
      "cell_type": "markdown",
      "source": [
        "Menampilkan 5 baris pertama dataset"
      ],
      "metadata": {
        "id": "vhXugAiK4Nhq"
      }
    },
    {
      "cell_type": "code",
      "source": [
        "df.head()"
      ],
      "metadata": {
        "id": "K0hAD0WV4P5s",
        "outputId": "3006e8f7-b293-4460-8d4f-3561722ded6c",
        "colab": {
          "base_uri": "https://localhost:8080/",
          "height": 501
        }
      },
      "execution_count": 3,
      "outputs": [
        {
          "output_type": "execute_result",
          "data": {
            "text/plain": [
              "                                         tweet_clean  \\\n",
              "0  ['abraj', 'al', 'bait', 'clock', 'tower', 'bea...   \n",
              "1  ['accounts', 'recognised', 'ramadan', 'none', ...   \n",
              "2  ['admin', 'post', 'peaceful', 'ramadan', 'cele...   \n",
              "3             ['admin', 'post', 'ramadan', 'norway']   \n",
              "4  ['admin', 'post', 'ramadan', 'usual', 'peacefu...   \n",
              "\n",
              "                                               Tweet sentiment  \\\n",
              "0  abraj al bait clock tower beams indicating com...  negative   \n",
              "1  accounts recognised ramadan none recognised be...  negative   \n",
              "2  admin post peaceful ramadan celebrations east ...  positive   \n",
              "3                          admin post ramadan norway  negative   \n",
              "4  admin post ramadan usual peaceful start englan...  positive   \n",
              "\n",
              "                                    sentiment_scores    neg    neu    pos  \\\n",
              "0  {'neg': 0.0, 'neu': 1.0, 'pos': 0.0, 'compound...  0.000  1.000  0.000   \n",
              "1  {'neg': 0.147, 'neu': 0.853, 'pos': 0.0, 'comp...  0.147  0.853  0.000   \n",
              "2  {'neg': 0.0, 'neu': 0.714, 'pos': 0.286, 'comp...  0.000  0.714  0.286   \n",
              "3  {'neg': 0.0, 'neu': 1.0, 'pos': 0.0, 'compound...  0.000  1.000  0.000   \n",
              "4  {'neg': 0.0, 'neu': 0.775, 'pos': 0.225, 'comp...  0.000  0.775  0.225   \n",
              "\n",
              "   compound  \n",
              "0    0.0000  \n",
              "1   -0.4767  \n",
              "2    0.4939  \n",
              "3    0.0000  \n",
              "4    0.4939  "
            ],
            "text/html": [
              "\n",
              "  <div id=\"df-fe2688a2-afee-461c-a37f-964b73cc4d0e\" class=\"colab-df-container\">\n",
              "    <div>\n",
              "<style scoped>\n",
              "    .dataframe tbody tr th:only-of-type {\n",
              "        vertical-align: middle;\n",
              "    }\n",
              "\n",
              "    .dataframe tbody tr th {\n",
              "        vertical-align: top;\n",
              "    }\n",
              "\n",
              "    .dataframe thead th {\n",
              "        text-align: right;\n",
              "    }\n",
              "</style>\n",
              "<table border=\"1\" class=\"dataframe\">\n",
              "  <thead>\n",
              "    <tr style=\"text-align: right;\">\n",
              "      <th></th>\n",
              "      <th>tweet_clean</th>\n",
              "      <th>Tweet</th>\n",
              "      <th>sentiment</th>\n",
              "      <th>sentiment_scores</th>\n",
              "      <th>neg</th>\n",
              "      <th>neu</th>\n",
              "      <th>pos</th>\n",
              "      <th>compound</th>\n",
              "    </tr>\n",
              "  </thead>\n",
              "  <tbody>\n",
              "    <tr>\n",
              "      <th>0</th>\n",
              "      <td>['abraj', 'al', 'bait', 'clock', 'tower', 'bea...</td>\n",
              "      <td>abraj al bait clock tower beams indicating com...</td>\n",
              "      <td>negative</td>\n",
              "      <td>{'neg': 0.0, 'neu': 1.0, 'pos': 0.0, 'compound...</td>\n",
              "      <td>0.000</td>\n",
              "      <td>1.000</td>\n",
              "      <td>0.000</td>\n",
              "      <td>0.0000</td>\n",
              "    </tr>\n",
              "    <tr>\n",
              "      <th>1</th>\n",
              "      <td>['accounts', 'recognised', 'ramadan', 'none', ...</td>\n",
              "      <td>accounts recognised ramadan none recognised be...</td>\n",
              "      <td>negative</td>\n",
              "      <td>{'neg': 0.147, 'neu': 0.853, 'pos': 0.0, 'comp...</td>\n",
              "      <td>0.147</td>\n",
              "      <td>0.853</td>\n",
              "      <td>0.000</td>\n",
              "      <td>-0.4767</td>\n",
              "    </tr>\n",
              "    <tr>\n",
              "      <th>2</th>\n",
              "      <td>['admin', 'post', 'peaceful', 'ramadan', 'cele...</td>\n",
              "      <td>admin post peaceful ramadan celebrations east ...</td>\n",
              "      <td>positive</td>\n",
              "      <td>{'neg': 0.0, 'neu': 0.714, 'pos': 0.286, 'comp...</td>\n",
              "      <td>0.000</td>\n",
              "      <td>0.714</td>\n",
              "      <td>0.286</td>\n",
              "      <td>0.4939</td>\n",
              "    </tr>\n",
              "    <tr>\n",
              "      <th>3</th>\n",
              "      <td>['admin', 'post', 'ramadan', 'norway']</td>\n",
              "      <td>admin post ramadan norway</td>\n",
              "      <td>negative</td>\n",
              "      <td>{'neg': 0.0, 'neu': 1.0, 'pos': 0.0, 'compound...</td>\n",
              "      <td>0.000</td>\n",
              "      <td>1.000</td>\n",
              "      <td>0.000</td>\n",
              "      <td>0.0000</td>\n",
              "    </tr>\n",
              "    <tr>\n",
              "      <th>4</th>\n",
              "      <td>['admin', 'post', 'ramadan', 'usual', 'peacefu...</td>\n",
              "      <td>admin post ramadan usual peaceful start englan...</td>\n",
              "      <td>positive</td>\n",
              "      <td>{'neg': 0.0, 'neu': 0.775, 'pos': 0.225, 'comp...</td>\n",
              "      <td>0.000</td>\n",
              "      <td>0.775</td>\n",
              "      <td>0.225</td>\n",
              "      <td>0.4939</td>\n",
              "    </tr>\n",
              "  </tbody>\n",
              "</table>\n",
              "</div>\n",
              "    <div class=\"colab-df-buttons\">\n",
              "\n",
              "  <div class=\"colab-df-container\">\n",
              "    <button class=\"colab-df-convert\" onclick=\"convertToInteractive('df-fe2688a2-afee-461c-a37f-964b73cc4d0e')\"\n",
              "            title=\"Convert this dataframe to an interactive table.\"\n",
              "            style=\"display:none;\">\n",
              "\n",
              "  <svg xmlns=\"http://www.w3.org/2000/svg\" height=\"24px\" viewBox=\"0 -960 960 960\">\n",
              "    <path d=\"M120-120v-720h720v720H120Zm60-500h600v-160H180v160Zm220 220h160v-160H400v160Zm0 220h160v-160H400v160ZM180-400h160v-160H180v160Zm440 0h160v-160H620v160ZM180-180h160v-160H180v160Zm440 0h160v-160H620v160Z\"/>\n",
              "  </svg>\n",
              "    </button>\n",
              "\n",
              "  <style>\n",
              "    .colab-df-container {\n",
              "      display:flex;\n",
              "      gap: 12px;\n",
              "    }\n",
              "\n",
              "    .colab-df-convert {\n",
              "      background-color: #E8F0FE;\n",
              "      border: none;\n",
              "      border-radius: 50%;\n",
              "      cursor: pointer;\n",
              "      display: none;\n",
              "      fill: #1967D2;\n",
              "      height: 32px;\n",
              "      padding: 0 0 0 0;\n",
              "      width: 32px;\n",
              "    }\n",
              "\n",
              "    .colab-df-convert:hover {\n",
              "      background-color: #E2EBFA;\n",
              "      box-shadow: 0px 1px 2px rgba(60, 64, 67, 0.3), 0px 1px 3px 1px rgba(60, 64, 67, 0.15);\n",
              "      fill: #174EA6;\n",
              "    }\n",
              "\n",
              "    .colab-df-buttons div {\n",
              "      margin-bottom: 4px;\n",
              "    }\n",
              "\n",
              "    [theme=dark] .colab-df-convert {\n",
              "      background-color: #3B4455;\n",
              "      fill: #D2E3FC;\n",
              "    }\n",
              "\n",
              "    [theme=dark] .colab-df-convert:hover {\n",
              "      background-color: #434B5C;\n",
              "      box-shadow: 0px 1px 3px 1px rgba(0, 0, 0, 0.15);\n",
              "      filter: drop-shadow(0px 1px 2px rgba(0, 0, 0, 0.3));\n",
              "      fill: #FFFFFF;\n",
              "    }\n",
              "  </style>\n",
              "\n",
              "    <script>\n",
              "      const buttonEl =\n",
              "        document.querySelector('#df-fe2688a2-afee-461c-a37f-964b73cc4d0e button.colab-df-convert');\n",
              "      buttonEl.style.display =\n",
              "        google.colab.kernel.accessAllowed ? 'block' : 'none';\n",
              "\n",
              "      async function convertToInteractive(key) {\n",
              "        const element = document.querySelector('#df-fe2688a2-afee-461c-a37f-964b73cc4d0e');\n",
              "        const dataTable =\n",
              "          await google.colab.kernel.invokeFunction('convertToInteractive',\n",
              "                                                    [key], {});\n",
              "        if (!dataTable) return;\n",
              "\n",
              "        const docLinkHtml = 'Like what you see? Visit the ' +\n",
              "          '<a target=\"_blank\" href=https://colab.research.google.com/notebooks/data_table.ipynb>data table notebook</a>'\n",
              "          + ' to learn more about interactive tables.';\n",
              "        element.innerHTML = '';\n",
              "        dataTable['output_type'] = 'display_data';\n",
              "        await google.colab.output.renderOutput(dataTable, element);\n",
              "        const docLink = document.createElement('div');\n",
              "        docLink.innerHTML = docLinkHtml;\n",
              "        element.appendChild(docLink);\n",
              "      }\n",
              "    </script>\n",
              "  </div>\n",
              "\n",
              "\n",
              "    <div id=\"df-649b9f8a-e518-4669-8ee1-08e1664ba5e6\">\n",
              "      <button class=\"colab-df-quickchart\" onclick=\"quickchart('df-649b9f8a-e518-4669-8ee1-08e1664ba5e6')\"\n",
              "                title=\"Suggest charts\"\n",
              "                style=\"display:none;\">\n",
              "\n",
              "<svg xmlns=\"http://www.w3.org/2000/svg\" height=\"24px\"viewBox=\"0 0 24 24\"\n",
              "     width=\"24px\">\n",
              "    <g>\n",
              "        <path d=\"M19 3H5c-1.1 0-2 .9-2 2v14c0 1.1.9 2 2 2h14c1.1 0 2-.9 2-2V5c0-1.1-.9-2-2-2zM9 17H7v-7h2v7zm4 0h-2V7h2v10zm4 0h-2v-4h2v4z\"/>\n",
              "    </g>\n",
              "</svg>\n",
              "      </button>\n",
              "\n",
              "<style>\n",
              "  .colab-df-quickchart {\n",
              "      --bg-color: #E8F0FE;\n",
              "      --fill-color: #1967D2;\n",
              "      --hover-bg-color: #E2EBFA;\n",
              "      --hover-fill-color: #174EA6;\n",
              "      --disabled-fill-color: #AAA;\n",
              "      --disabled-bg-color: #DDD;\n",
              "  }\n",
              "\n",
              "  [theme=dark] .colab-df-quickchart {\n",
              "      --bg-color: #3B4455;\n",
              "      --fill-color: #D2E3FC;\n",
              "      --hover-bg-color: #434B5C;\n",
              "      --hover-fill-color: #FFFFFF;\n",
              "      --disabled-bg-color: #3B4455;\n",
              "      --disabled-fill-color: #666;\n",
              "  }\n",
              "\n",
              "  .colab-df-quickchart {\n",
              "    background-color: var(--bg-color);\n",
              "    border: none;\n",
              "    border-radius: 50%;\n",
              "    cursor: pointer;\n",
              "    display: none;\n",
              "    fill: var(--fill-color);\n",
              "    height: 32px;\n",
              "    padding: 0;\n",
              "    width: 32px;\n",
              "  }\n",
              "\n",
              "  .colab-df-quickchart:hover {\n",
              "    background-color: var(--hover-bg-color);\n",
              "    box-shadow: 0 1px 2px rgba(60, 64, 67, 0.3), 0 1px 3px 1px rgba(60, 64, 67, 0.15);\n",
              "    fill: var(--button-hover-fill-color);\n",
              "  }\n",
              "\n",
              "  .colab-df-quickchart-complete:disabled,\n",
              "  .colab-df-quickchart-complete:disabled:hover {\n",
              "    background-color: var(--disabled-bg-color);\n",
              "    fill: var(--disabled-fill-color);\n",
              "    box-shadow: none;\n",
              "  }\n",
              "\n",
              "  .colab-df-spinner {\n",
              "    border: 2px solid var(--fill-color);\n",
              "    border-color: transparent;\n",
              "    border-bottom-color: var(--fill-color);\n",
              "    animation:\n",
              "      spin 1s steps(1) infinite;\n",
              "  }\n",
              "\n",
              "  @keyframes spin {\n",
              "    0% {\n",
              "      border-color: transparent;\n",
              "      border-bottom-color: var(--fill-color);\n",
              "      border-left-color: var(--fill-color);\n",
              "    }\n",
              "    20% {\n",
              "      border-color: transparent;\n",
              "      border-left-color: var(--fill-color);\n",
              "      border-top-color: var(--fill-color);\n",
              "    }\n",
              "    30% {\n",
              "      border-color: transparent;\n",
              "      border-left-color: var(--fill-color);\n",
              "      border-top-color: var(--fill-color);\n",
              "      border-right-color: var(--fill-color);\n",
              "    }\n",
              "    40% {\n",
              "      border-color: transparent;\n",
              "      border-right-color: var(--fill-color);\n",
              "      border-top-color: var(--fill-color);\n",
              "    }\n",
              "    60% {\n",
              "      border-color: transparent;\n",
              "      border-right-color: var(--fill-color);\n",
              "    }\n",
              "    80% {\n",
              "      border-color: transparent;\n",
              "      border-right-color: var(--fill-color);\n",
              "      border-bottom-color: var(--fill-color);\n",
              "    }\n",
              "    90% {\n",
              "      border-color: transparent;\n",
              "      border-bottom-color: var(--fill-color);\n",
              "    }\n",
              "  }\n",
              "</style>\n",
              "\n",
              "      <script>\n",
              "        async function quickchart(key) {\n",
              "          const quickchartButtonEl =\n",
              "            document.querySelector('#' + key + ' button');\n",
              "          quickchartButtonEl.disabled = true;  // To prevent multiple clicks.\n",
              "          quickchartButtonEl.classList.add('colab-df-spinner');\n",
              "          try {\n",
              "            const charts = await google.colab.kernel.invokeFunction(\n",
              "                'suggestCharts', [key], {});\n",
              "          } catch (error) {\n",
              "            console.error('Error during call to suggestCharts:', error);\n",
              "          }\n",
              "          quickchartButtonEl.classList.remove('colab-df-spinner');\n",
              "          quickchartButtonEl.classList.add('colab-df-quickchart-complete');\n",
              "        }\n",
              "        (() => {\n",
              "          let quickchartButtonEl =\n",
              "            document.querySelector('#df-649b9f8a-e518-4669-8ee1-08e1664ba5e6 button');\n",
              "          quickchartButtonEl.style.display =\n",
              "            google.colab.kernel.accessAllowed ? 'block' : 'none';\n",
              "        })();\n",
              "      </script>\n",
              "    </div>\n",
              "\n",
              "    </div>\n",
              "  </div>\n"
            ],
            "application/vnd.google.colaboratory.intrinsic+json": {
              "type": "dataframe",
              "variable_name": "df",
              "summary": "{\n  \"name\": \"df\",\n  \"rows\": 836,\n  \"fields\": [\n    {\n      \"column\": \"tweet_clean\",\n      \"properties\": {\n        \"dtype\": \"string\",\n        \"num_unique_values\": 836,\n        \"samples\": [\n          \"['ramadan', 'mubarak', 'muslim', 'family', 'around', 'world']\",\n          \"['wishing', 'olympiens', 'around', 'world', 'blessed', 'peaceful', 'ramadan', '', '']\",\n          \"['king', 'charles', 'helping', 'prepare', 'ramadan', 'great', 'britain', 'would', 'eat']\"\n        ],\n        \"semantic_type\": \"\",\n        \"description\": \"\"\n      }\n    },\n    {\n      \"column\": \"Tweet\",\n      \"properties\": {\n        \"dtype\": \"string\",\n        \"num_unique_values\": 836,\n        \"samples\": [\n          \"ramadan mubarak muslim family around world\",\n          \"wishing olympiens around world blessed peaceful ramadan\",\n          \"king charles helping prepare ramadan great britain would eat\"\n        ],\n        \"semantic_type\": \"\",\n        \"description\": \"\"\n      }\n    },\n    {\n      \"column\": \"sentiment\",\n      \"properties\": {\n        \"dtype\": \"category\",\n        \"num_unique_values\": 2,\n        \"samples\": [\n          \"positive\",\n          \"negative\"\n        ],\n        \"semantic_type\": \"\",\n        \"description\": \"\"\n      }\n    },\n    {\n      \"column\": \"sentiment_scores\",\n      \"properties\": {\n        \"dtype\": \"string\",\n        \"num_unique_values\": 572,\n        \"samples\": [\n          \"{'neg': 0.268, 'neu': 0.732, 'pos': 0.0, 'compound': -0.296}\",\n          \"{'neg': 0.0, 'neu': 0.503, 'pos': 0.497, 'compound': 0.9413}\"\n        ],\n        \"semantic_type\": \"\",\n        \"description\": \"\"\n      }\n    },\n    {\n      \"column\": \"neg\",\n      \"properties\": {\n        \"dtype\": \"number\",\n        \"std\": 0.12690919569443948,\n        \"min\": 0.0,\n        \"max\": 0.747,\n        \"num_unique_values\": 192,\n        \"samples\": [\n          0.195,\n          0.262\n        ],\n        \"semantic_type\": \"\",\n        \"description\": \"\"\n      }\n    },\n    {\n      \"column\": \"neu\",\n      \"properties\": {\n        \"dtype\": \"number\",\n        \"std\": 0.2264602671078858,\n        \"min\": 0.095,\n        \"max\": 1.0,\n        \"num_unique_values\": 366,\n        \"samples\": [\n          0.48,\n          0.506\n        ],\n        \"semantic_type\": \"\",\n        \"description\": \"\"\n      }\n    },\n    {\n      \"column\": \"pos\",\n      \"properties\": {\n        \"dtype\": \"number\",\n        \"std\": 0.22091634423279963,\n        \"min\": 0.0,\n        \"max\": 0.905,\n        \"num_unique_values\": 350,\n        \"samples\": [\n          0.355,\n          0.623\n        ],\n        \"semantic_type\": \"\",\n        \"description\": \"\"\n      }\n    },\n    {\n      \"column\": \"compound\",\n      \"properties\": {\n        \"dtype\": \"number\",\n        \"std\": 0.486628700627626,\n        \"min\": -0.9761,\n        \"max\": 0.9831,\n        \"num_unique_values\": 218,\n        \"samples\": [\n          0.9062,\n          0.9432\n        ],\n        \"semantic_type\": \"\",\n        \"description\": \"\"\n      }\n    }\n  ]\n}"
            }
          },
          "metadata": {},
          "execution_count": 3
        }
      ]
    },
    {
      "cell_type": "markdown",
      "source": [
        "Menampilkan informasi umum dataset"
      ],
      "metadata": {
        "id": "cvvpnibz4V3I"
      }
    },
    {
      "cell_type": "code",
      "source": [
        "df.info()"
      ],
      "metadata": {
        "id": "_8jQyZiU4Wtl",
        "outputId": "dbd01ffa-8b60-4bb0-f46e-0466e78fe2e7",
        "colab": {
          "base_uri": "https://localhost:8080/"
        }
      },
      "execution_count": 4,
      "outputs": [
        {
          "output_type": "stream",
          "name": "stdout",
          "text": [
            "<class 'pandas.core.frame.DataFrame'>\n",
            "RangeIndex: 836 entries, 0 to 835\n",
            "Data columns (total 8 columns):\n",
            " #   Column            Non-Null Count  Dtype  \n",
            "---  ------            --------------  -----  \n",
            " 0   tweet_clean       836 non-null    object \n",
            " 1   Tweet             836 non-null    object \n",
            " 2   sentiment         836 non-null    object \n",
            " 3   sentiment_scores  836 non-null    object \n",
            " 4   neg               836 non-null    float64\n",
            " 5   neu               836 non-null    float64\n",
            " 6   pos               836 non-null    float64\n",
            " 7   compound          836 non-null    float64\n",
            "dtypes: float64(4), object(4)\n",
            "memory usage: 52.4+ KB\n"
          ]
        }
      ]
    },
    {
      "cell_type": "markdown",
      "source": [
        "Menampilkan statistik deskriptif untuk kolom numerik (jika ada yang relevan selain skor sentimen)"
      ],
      "metadata": {
        "id": "iKILg2vy4bKM"
      }
    },
    {
      "cell_type": "code",
      "source": [
        "df.describe(include='all')"
      ],
      "metadata": {
        "id": "5yp0VpAe4c4B",
        "outputId": "87e1be0c-8a86-4eaa-d081-a7f0800a7780",
        "colab": {
          "base_uri": "https://localhost:8080/",
          "height": 501
        }
      },
      "execution_count": 5,
      "outputs": [
        {
          "output_type": "execute_result",
          "data": {
            "text/plain": [
              "                                              tweet_clean  \\\n",
              "count                                                 836   \n",
              "unique                                                836   \n",
              "top     ['zarafshan', 'shiraz', 'hindustan', 'times', ...   \n",
              "freq                                                    1   \n",
              "mean                                                  NaN   \n",
              "std                                                   NaN   \n",
              "min                                                   NaN   \n",
              "25%                                                   NaN   \n",
              "50%                                                   NaN   \n",
              "75%                                                   NaN   \n",
              "max                                                   NaN   \n",
              "\n",
              "                                                    Tweet sentiment  \\\n",
              "count                                                 836       836   \n",
              "unique                                                836         2   \n",
              "top     zarafshan shiraz hindustan times confirms horm...  positive   \n",
              "freq                                                    1       446   \n",
              "mean                                                  NaN       NaN   \n",
              "std                                                   NaN       NaN   \n",
              "min                                                   NaN       NaN   \n",
              "25%                                                   NaN       NaN   \n",
              "50%                                                   NaN       NaN   \n",
              "75%                                                   NaN       NaN   \n",
              "max                                                   NaN       NaN   \n",
              "\n",
              "                                         sentiment_scores         neg  \\\n",
              "count                                                 836  836.000000   \n",
              "unique                                                572         NaN   \n",
              "top     {'neg': 0.0, 'neu': 1.0, 'pos': 0.0, 'compound...         NaN   \n",
              "freq                                                  226         NaN   \n",
              "mean                                                  NaN    0.071161   \n",
              "std                                                   NaN    0.126909   \n",
              "min                                                   NaN    0.000000   \n",
              "25%                                                   NaN    0.000000   \n",
              "50%                                                   NaN    0.000000   \n",
              "75%                                                   NaN    0.115250   \n",
              "max                                                   NaN    0.747000   \n",
              "\n",
              "               neu         pos    compound  \n",
              "count   836.000000  836.000000  836.000000  \n",
              "unique         NaN         NaN         NaN  \n",
              "top            NaN         NaN         NaN  \n",
              "freq           NaN         NaN         NaN  \n",
              "mean      0.710489    0.218349    0.238149  \n",
              "std       0.226460    0.220916    0.486629  \n",
              "min       0.095000    0.000000   -0.976100  \n",
              "25%       0.536000    0.000000    0.000000  \n",
              "50%       0.691500    0.180000    0.202300  \n",
              "75%       1.000000    0.372000    0.659700  \n",
              "max       1.000000    0.905000    0.983100  "
            ],
            "text/html": [
              "\n",
              "  <div id=\"df-4b8634fc-1e14-4317-8783-154262287eb9\" class=\"colab-df-container\">\n",
              "    <div>\n",
              "<style scoped>\n",
              "    .dataframe tbody tr th:only-of-type {\n",
              "        vertical-align: middle;\n",
              "    }\n",
              "\n",
              "    .dataframe tbody tr th {\n",
              "        vertical-align: top;\n",
              "    }\n",
              "\n",
              "    .dataframe thead th {\n",
              "        text-align: right;\n",
              "    }\n",
              "</style>\n",
              "<table border=\"1\" class=\"dataframe\">\n",
              "  <thead>\n",
              "    <tr style=\"text-align: right;\">\n",
              "      <th></th>\n",
              "      <th>tweet_clean</th>\n",
              "      <th>Tweet</th>\n",
              "      <th>sentiment</th>\n",
              "      <th>sentiment_scores</th>\n",
              "      <th>neg</th>\n",
              "      <th>neu</th>\n",
              "      <th>pos</th>\n",
              "      <th>compound</th>\n",
              "    </tr>\n",
              "  </thead>\n",
              "  <tbody>\n",
              "    <tr>\n",
              "      <th>count</th>\n",
              "      <td>836</td>\n",
              "      <td>836</td>\n",
              "      <td>836</td>\n",
              "      <td>836</td>\n",
              "      <td>836.000000</td>\n",
              "      <td>836.000000</td>\n",
              "      <td>836.000000</td>\n",
              "      <td>836.000000</td>\n",
              "    </tr>\n",
              "    <tr>\n",
              "      <th>unique</th>\n",
              "      <td>836</td>\n",
              "      <td>836</td>\n",
              "      <td>2</td>\n",
              "      <td>572</td>\n",
              "      <td>NaN</td>\n",
              "      <td>NaN</td>\n",
              "      <td>NaN</td>\n",
              "      <td>NaN</td>\n",
              "    </tr>\n",
              "    <tr>\n",
              "      <th>top</th>\n",
              "      <td>['zarafshan', 'shiraz', 'hindustan', 'times', ...</td>\n",
              "      <td>zarafshan shiraz hindustan times confirms horm...</td>\n",
              "      <td>positive</td>\n",
              "      <td>{'neg': 0.0, 'neu': 1.0, 'pos': 0.0, 'compound...</td>\n",
              "      <td>NaN</td>\n",
              "      <td>NaN</td>\n",
              "      <td>NaN</td>\n",
              "      <td>NaN</td>\n",
              "    </tr>\n",
              "    <tr>\n",
              "      <th>freq</th>\n",
              "      <td>1</td>\n",
              "      <td>1</td>\n",
              "      <td>446</td>\n",
              "      <td>226</td>\n",
              "      <td>NaN</td>\n",
              "      <td>NaN</td>\n",
              "      <td>NaN</td>\n",
              "      <td>NaN</td>\n",
              "    </tr>\n",
              "    <tr>\n",
              "      <th>mean</th>\n",
              "      <td>NaN</td>\n",
              "      <td>NaN</td>\n",
              "      <td>NaN</td>\n",
              "      <td>NaN</td>\n",
              "      <td>0.071161</td>\n",
              "      <td>0.710489</td>\n",
              "      <td>0.218349</td>\n",
              "      <td>0.238149</td>\n",
              "    </tr>\n",
              "    <tr>\n",
              "      <th>std</th>\n",
              "      <td>NaN</td>\n",
              "      <td>NaN</td>\n",
              "      <td>NaN</td>\n",
              "      <td>NaN</td>\n",
              "      <td>0.126909</td>\n",
              "      <td>0.226460</td>\n",
              "      <td>0.220916</td>\n",
              "      <td>0.486629</td>\n",
              "    </tr>\n",
              "    <tr>\n",
              "      <th>min</th>\n",
              "      <td>NaN</td>\n",
              "      <td>NaN</td>\n",
              "      <td>NaN</td>\n",
              "      <td>NaN</td>\n",
              "      <td>0.000000</td>\n",
              "      <td>0.095000</td>\n",
              "      <td>0.000000</td>\n",
              "      <td>-0.976100</td>\n",
              "    </tr>\n",
              "    <tr>\n",
              "      <th>25%</th>\n",
              "      <td>NaN</td>\n",
              "      <td>NaN</td>\n",
              "      <td>NaN</td>\n",
              "      <td>NaN</td>\n",
              "      <td>0.000000</td>\n",
              "      <td>0.536000</td>\n",
              "      <td>0.000000</td>\n",
              "      <td>0.000000</td>\n",
              "    </tr>\n",
              "    <tr>\n",
              "      <th>50%</th>\n",
              "      <td>NaN</td>\n",
              "      <td>NaN</td>\n",
              "      <td>NaN</td>\n",
              "      <td>NaN</td>\n",
              "      <td>0.000000</td>\n",
              "      <td>0.691500</td>\n",
              "      <td>0.180000</td>\n",
              "      <td>0.202300</td>\n",
              "    </tr>\n",
              "    <tr>\n",
              "      <th>75%</th>\n",
              "      <td>NaN</td>\n",
              "      <td>NaN</td>\n",
              "      <td>NaN</td>\n",
              "      <td>NaN</td>\n",
              "      <td>0.115250</td>\n",
              "      <td>1.000000</td>\n",
              "      <td>0.372000</td>\n",
              "      <td>0.659700</td>\n",
              "    </tr>\n",
              "    <tr>\n",
              "      <th>max</th>\n",
              "      <td>NaN</td>\n",
              "      <td>NaN</td>\n",
              "      <td>NaN</td>\n",
              "      <td>NaN</td>\n",
              "      <td>0.747000</td>\n",
              "      <td>1.000000</td>\n",
              "      <td>0.905000</td>\n",
              "      <td>0.983100</td>\n",
              "    </tr>\n",
              "  </tbody>\n",
              "</table>\n",
              "</div>\n",
              "    <div class=\"colab-df-buttons\">\n",
              "\n",
              "  <div class=\"colab-df-container\">\n",
              "    <button class=\"colab-df-convert\" onclick=\"convertToInteractive('df-4b8634fc-1e14-4317-8783-154262287eb9')\"\n",
              "            title=\"Convert this dataframe to an interactive table.\"\n",
              "            style=\"display:none;\">\n",
              "\n",
              "  <svg xmlns=\"http://www.w3.org/2000/svg\" height=\"24px\" viewBox=\"0 -960 960 960\">\n",
              "    <path d=\"M120-120v-720h720v720H120Zm60-500h600v-160H180v160Zm220 220h160v-160H400v160Zm0 220h160v-160H400v160ZM180-400h160v-160H180v160Zm440 0h160v-160H620v160ZM180-180h160v-160H180v160Zm440 0h160v-160H620v160Z\"/>\n",
              "  </svg>\n",
              "    </button>\n",
              "\n",
              "  <style>\n",
              "    .colab-df-container {\n",
              "      display:flex;\n",
              "      gap: 12px;\n",
              "    }\n",
              "\n",
              "    .colab-df-convert {\n",
              "      background-color: #E8F0FE;\n",
              "      border: none;\n",
              "      border-radius: 50%;\n",
              "      cursor: pointer;\n",
              "      display: none;\n",
              "      fill: #1967D2;\n",
              "      height: 32px;\n",
              "      padding: 0 0 0 0;\n",
              "      width: 32px;\n",
              "    }\n",
              "\n",
              "    .colab-df-convert:hover {\n",
              "      background-color: #E2EBFA;\n",
              "      box-shadow: 0px 1px 2px rgba(60, 64, 67, 0.3), 0px 1px 3px 1px rgba(60, 64, 67, 0.15);\n",
              "      fill: #174EA6;\n",
              "    }\n",
              "\n",
              "    .colab-df-buttons div {\n",
              "      margin-bottom: 4px;\n",
              "    }\n",
              "\n",
              "    [theme=dark] .colab-df-convert {\n",
              "      background-color: #3B4455;\n",
              "      fill: #D2E3FC;\n",
              "    }\n",
              "\n",
              "    [theme=dark] .colab-df-convert:hover {\n",
              "      background-color: #434B5C;\n",
              "      box-shadow: 0px 1px 3px 1px rgba(0, 0, 0, 0.15);\n",
              "      filter: drop-shadow(0px 1px 2px rgba(0, 0, 0, 0.3));\n",
              "      fill: #FFFFFF;\n",
              "    }\n",
              "  </style>\n",
              "\n",
              "    <script>\n",
              "      const buttonEl =\n",
              "        document.querySelector('#df-4b8634fc-1e14-4317-8783-154262287eb9 button.colab-df-convert');\n",
              "      buttonEl.style.display =\n",
              "        google.colab.kernel.accessAllowed ? 'block' : 'none';\n",
              "\n",
              "      async function convertToInteractive(key) {\n",
              "        const element = document.querySelector('#df-4b8634fc-1e14-4317-8783-154262287eb9');\n",
              "        const dataTable =\n",
              "          await google.colab.kernel.invokeFunction('convertToInteractive',\n",
              "                                                    [key], {});\n",
              "        if (!dataTable) return;\n",
              "\n",
              "        const docLinkHtml = 'Like what you see? Visit the ' +\n",
              "          '<a target=\"_blank\" href=https://colab.research.google.com/notebooks/data_table.ipynb>data table notebook</a>'\n",
              "          + ' to learn more about interactive tables.';\n",
              "        element.innerHTML = '';\n",
              "        dataTable['output_type'] = 'display_data';\n",
              "        await google.colab.output.renderOutput(dataTable, element);\n",
              "        const docLink = document.createElement('div');\n",
              "        docLink.innerHTML = docLinkHtml;\n",
              "        element.appendChild(docLink);\n",
              "      }\n",
              "    </script>\n",
              "  </div>\n",
              "\n",
              "\n",
              "    <div id=\"df-5827a86a-54cf-4137-b0f5-9811aae28553\">\n",
              "      <button class=\"colab-df-quickchart\" onclick=\"quickchart('df-5827a86a-54cf-4137-b0f5-9811aae28553')\"\n",
              "                title=\"Suggest charts\"\n",
              "                style=\"display:none;\">\n",
              "\n",
              "<svg xmlns=\"http://www.w3.org/2000/svg\" height=\"24px\"viewBox=\"0 0 24 24\"\n",
              "     width=\"24px\">\n",
              "    <g>\n",
              "        <path d=\"M19 3H5c-1.1 0-2 .9-2 2v14c0 1.1.9 2 2 2h14c1.1 0 2-.9 2-2V5c0-1.1-.9-2-2-2zM9 17H7v-7h2v7zm4 0h-2V7h2v10zm4 0h-2v-4h2v4z\"/>\n",
              "    </g>\n",
              "</svg>\n",
              "      </button>\n",
              "\n",
              "<style>\n",
              "  .colab-df-quickchart {\n",
              "      --bg-color: #E8F0FE;\n",
              "      --fill-color: #1967D2;\n",
              "      --hover-bg-color: #E2EBFA;\n",
              "      --hover-fill-color: #174EA6;\n",
              "      --disabled-fill-color: #AAA;\n",
              "      --disabled-bg-color: #DDD;\n",
              "  }\n",
              "\n",
              "  [theme=dark] .colab-df-quickchart {\n",
              "      --bg-color: #3B4455;\n",
              "      --fill-color: #D2E3FC;\n",
              "      --hover-bg-color: #434B5C;\n",
              "      --hover-fill-color: #FFFFFF;\n",
              "      --disabled-bg-color: #3B4455;\n",
              "      --disabled-fill-color: #666;\n",
              "  }\n",
              "\n",
              "  .colab-df-quickchart {\n",
              "    background-color: var(--bg-color);\n",
              "    border: none;\n",
              "    border-radius: 50%;\n",
              "    cursor: pointer;\n",
              "    display: none;\n",
              "    fill: var(--fill-color);\n",
              "    height: 32px;\n",
              "    padding: 0;\n",
              "    width: 32px;\n",
              "  }\n",
              "\n",
              "  .colab-df-quickchart:hover {\n",
              "    background-color: var(--hover-bg-color);\n",
              "    box-shadow: 0 1px 2px rgba(60, 64, 67, 0.3), 0 1px 3px 1px rgba(60, 64, 67, 0.15);\n",
              "    fill: var(--button-hover-fill-color);\n",
              "  }\n",
              "\n",
              "  .colab-df-quickchart-complete:disabled,\n",
              "  .colab-df-quickchart-complete:disabled:hover {\n",
              "    background-color: var(--disabled-bg-color);\n",
              "    fill: var(--disabled-fill-color);\n",
              "    box-shadow: none;\n",
              "  }\n",
              "\n",
              "  .colab-df-spinner {\n",
              "    border: 2px solid var(--fill-color);\n",
              "    border-color: transparent;\n",
              "    border-bottom-color: var(--fill-color);\n",
              "    animation:\n",
              "      spin 1s steps(1) infinite;\n",
              "  }\n",
              "\n",
              "  @keyframes spin {\n",
              "    0% {\n",
              "      border-color: transparent;\n",
              "      border-bottom-color: var(--fill-color);\n",
              "      border-left-color: var(--fill-color);\n",
              "    }\n",
              "    20% {\n",
              "      border-color: transparent;\n",
              "      border-left-color: var(--fill-color);\n",
              "      border-top-color: var(--fill-color);\n",
              "    }\n",
              "    30% {\n",
              "      border-color: transparent;\n",
              "      border-left-color: var(--fill-color);\n",
              "      border-top-color: var(--fill-color);\n",
              "      border-right-color: var(--fill-color);\n",
              "    }\n",
              "    40% {\n",
              "      border-color: transparent;\n",
              "      border-right-color: var(--fill-color);\n",
              "      border-top-color: var(--fill-color);\n",
              "    }\n",
              "    60% {\n",
              "      border-color: transparent;\n",
              "      border-right-color: var(--fill-color);\n",
              "    }\n",
              "    80% {\n",
              "      border-color: transparent;\n",
              "      border-right-color: var(--fill-color);\n",
              "      border-bottom-color: var(--fill-color);\n",
              "    }\n",
              "    90% {\n",
              "      border-color: transparent;\n",
              "      border-bottom-color: var(--fill-color);\n",
              "    }\n",
              "  }\n",
              "</style>\n",
              "\n",
              "      <script>\n",
              "        async function quickchart(key) {\n",
              "          const quickchartButtonEl =\n",
              "            document.querySelector('#' + key + ' button');\n",
              "          quickchartButtonEl.disabled = true;  // To prevent multiple clicks.\n",
              "          quickchartButtonEl.classList.add('colab-df-spinner');\n",
              "          try {\n",
              "            const charts = await google.colab.kernel.invokeFunction(\n",
              "                'suggestCharts', [key], {});\n",
              "          } catch (error) {\n",
              "            console.error('Error during call to suggestCharts:', error);\n",
              "          }\n",
              "          quickchartButtonEl.classList.remove('colab-df-spinner');\n",
              "          quickchartButtonEl.classList.add('colab-df-quickchart-complete');\n",
              "        }\n",
              "        (() => {\n",
              "          let quickchartButtonEl =\n",
              "            document.querySelector('#df-5827a86a-54cf-4137-b0f5-9811aae28553 button');\n",
              "          quickchartButtonEl.style.display =\n",
              "            google.colab.kernel.accessAllowed ? 'block' : 'none';\n",
              "        })();\n",
              "      </script>\n",
              "    </div>\n",
              "\n",
              "    </div>\n",
              "  </div>\n"
            ],
            "application/vnd.google.colaboratory.intrinsic+json": {
              "type": "dataframe",
              "summary": "{\n  \"name\": \"df\",\n  \"rows\": 11,\n  \"fields\": [\n    {\n      \"column\": \"tweet_clean\",\n      \"properties\": {\n        \"dtype\": \"category\",\n        \"num_unique_values\": 3,\n        \"samples\": [\n          \"836\",\n          \"['zarafshan', 'shiraz', 'hindustan', 'times', 'confirms', 'hormonal', 'issues', 'due', 'karwa', 'chauth', 'fasting', 'sanya', 'panwar', 'hindustan', 'times', 'explains', 'ramadan', 'fasting', 'helps', 'body', 'transformation', 'well', 'done']\",\n          \"1\"\n        ],\n        \"semantic_type\": \"\",\n        \"description\": \"\"\n      }\n    },\n    {\n      \"column\": \"Tweet\",\n      \"properties\": {\n        \"dtype\": \"category\",\n        \"num_unique_values\": 3,\n        \"samples\": [\n          \"836\",\n          \"zarafshan shiraz hindustan times confirms hormonal issues due karwa chauth fasting sanya panwar hindustan times explains ramadan fasting helps body transformation well done\",\n          \"1\"\n        ],\n        \"semantic_type\": \"\",\n        \"description\": \"\"\n      }\n    },\n    {\n      \"column\": \"sentiment\",\n      \"properties\": {\n        \"dtype\": \"category\",\n        \"num_unique_values\": 4,\n        \"samples\": [\n          2,\n          \"446\",\n          \"836\"\n        ],\n        \"semantic_type\": \"\",\n        \"description\": \"\"\n      }\n    },\n    {\n      \"column\": \"sentiment_scores\",\n      \"properties\": {\n        \"dtype\": \"category\",\n        \"num_unique_values\": 4,\n        \"samples\": [\n          572,\n          \"226\",\n          \"836\"\n        ],\n        \"semantic_type\": \"\",\n        \"description\": \"\"\n      }\n    },\n    {\n      \"column\": \"neg\",\n      \"properties\": {\n        \"dtype\": \"number\",\n        \"std\": 295.51718463557853,\n        \"min\": 0.0,\n        \"max\": 836.0,\n        \"num_unique_values\": 6,\n        \"samples\": [\n          836.0,\n          0.07116148325358852,\n          0.747\n        ],\n        \"semantic_type\": \"\",\n        \"description\": \"\"\n      }\n    },\n    {\n      \"column\": \"neu\",\n      \"properties\": {\n        \"dtype\": \"number\",\n        \"std\": 295.35567850181496,\n        \"min\": 0.095,\n        \"max\": 836.0,\n        \"num_unique_values\": 7,\n        \"samples\": [\n          836.0,\n          0.7104892344497609,\n          0.6915\n        ],\n        \"semantic_type\": \"\",\n        \"description\": \"\"\n      }\n    },\n    {\n      \"column\": \"pos\",\n      \"properties\": {\n        \"dtype\": \"number\",\n        \"std\": 295.4749970799028,\n        \"min\": 0.0,\n        \"max\": 836.0,\n        \"num_unique_values\": 7,\n        \"samples\": [\n          836.0,\n          0.21834928229665074,\n          0.372\n        ],\n        \"semantic_type\": \"\",\n        \"description\": \"\"\n      }\n    },\n    {\n      \"column\": \"compound\",\n      \"properties\": {\n        \"dtype\": \"number\",\n        \"std\": 295.490698873269,\n        \"min\": -0.9761,\n        \"max\": 836.0,\n        \"num_unique_values\": 8,\n        \"samples\": [\n          0.23814904306220097,\n          0.2023,\n          836.0\n        ],\n        \"semantic_type\": \"\",\n        \"description\": \"\"\n      }\n    }\n  ]\n}"
            }
          },
          "metadata": {},
          "execution_count": 5
        }
      ]
    },
    {
      "cell_type": "markdown",
      "source": [
        "**Menampilkan distribusi kelas sentimen**"
      ],
      "metadata": {
        "id": "UfT-n_qI4fRS"
      }
    },
    {
      "cell_type": "code",
      "source": [
        "plt.figure(figsize=(6, 4))\n",
        "sns.countplot(data=df, x='sentiment')\n",
        "plt.title('Dsintribusi Kelas Sentimen Awal', fontsize=16, fontweight='bold')\n",
        "plt.show()\n",
        "df['sentiment'].value_counts()"
      ],
      "metadata": {
        "id": "wqoATjfD4ik6",
        "outputId": "15dbfe3f-10ad-448a-d474-4f0b5352059d",
        "colab": {
          "base_uri": "https://localhost:8080/",
          "height": 568
        }
      },
      "execution_count": 6,
      "outputs": [
        {
          "output_type": "display_data",
          "data": {
            "text/plain": [
              "<Figure size 600x400 with 1 Axes>"
            ],
            "image/png": "[encoded data removed]"
          },
          "metadata": {}
        },
        {
          "output_type": "execute_result",
          "data": {
            "text/plain": [
              "sentiment\n",
              "positive    446\n",
              "negative    390\n",
              "Name: count, dtype: int64"
            ],
            "text/html": [
              "<div>\n",
              "<style scoped>\n",
              "    .dataframe tbody tr th:only-of-type {\n",
              "        vertical-align: middle;\n",
              "    }\n",
              "\n",
              "    .dataframe tbody tr th {\n",
              "        vertical-align: top;\n",
              "    }\n",
              "\n",
              "    .dataframe thead th {\n",
              "        text-align: right;\n",
              "    }\n",
              "</style>\n",
              "<table border=\"1\" class=\"dataframe\">\n",
              "  <thead>\n",
              "    <tr style=\"text-align: right;\">\n",
              "      <th></th>\n",
              "      <th>count</th>\n",
              "    </tr>\n",
              "    <tr>\n",
              "      <th>sentiment</th>\n",
              "      <th></th>\n",
              "    </tr>\n",
              "  </thead>\n",
              "  <tbody>\n",
              "    <tr>\n",
              "      <th>positive</th>\n",
              "      <td>446</td>\n",
              "    </tr>\n",
              "    <tr>\n",
              "      <th>negative</th>\n",
              "      <td>390</td>\n",
              "    </tr>\n",
              "  </tbody>\n",
              "</table>\n",
              "</div><br><label><b>dtype:</b> int64</label>"
            ]
          },
          "metadata": {},
          "execution_count": 6
        }
      ]
    },
    {
      "cell_type": "markdown",
      "source": [
        "## **- Tahap Pra-Pemrosesan Data (Data Preprocessing)**\n"
      ],
      "metadata": {
        "id": "LOtzx4mM5Wi-"
      }
    },
    {
      "cell_type": "markdown",
      "source": [
        "Meskipun tidak secara eksplisit diminta dalam urutan nomor 1-6, tahap ini sangat penting untuk menyiapkan data sebelum dilakukan pemodelan.\n",
        "Ini mencakup:\n",
        "1. Konversi label sentimen kategorikal menjadi numerik.\n",
        "2. Pengecekan dan penanganan nilai yang hilang (jika ada).\n",
        "3. Pemrosesan kolom `tweet_clean` yang berisi list kata menjadi string tunggal agar dapat diproses oleh `TfidfVectorizer`."
      ],
      "metadata": {
        "id": "AuCT9ORq5evy"
      }
    },
    {
      "cell_type": "markdown",
      "source": [
        "## **a. Konversi Label Sentimen ke Numerik**"
      ],
      "metadata": {
        "id": "dcT0Js925lkR"
      }
    },
    {
      "cell_type": "markdown",
      "source": [
        "Label sentimen yang awalnya 'positive' dan 'negative' akan diubah menjadi representasi numerik (misalnya, 1 untuk positif dan 0 untuk negatif) agar dapat digunakan oleh model machine learning."
      ],
      "metadata": {
        "id": "-lEXe5LU6Lz4"
      }
    },
    {
      "cell_type": "markdown",
      "source": [
        "Label sentimen sebelum konversi:"
      ],
      "metadata": {
        "id": "FTWsW7P-6YUD"
      }
    },
    {
      "cell_type": "code",
      "source": [
        "df['sentiment'].unique()\n",
        "\n",
        "df['sentiment'] = df['sentiment'].map({'positive': 1, 'negative': 0})"
      ],
      "metadata": {
        "id": "enhOpkDF5Y9N"
      },
      "execution_count": 7,
      "outputs": []
    },
    {
      "cell_type": "markdown",
      "source": [
        "Label sentimen setelah konversi:"
      ],
      "metadata": {
        "id": "pnqwWQCY61Sk"
      }
    },
    {
      "cell_type": "code",
      "source": [
        "df['sentiment'].unique()\n",
        "\n",
        "df[['Tweet', 'sentiment']].head(10)"
      ],
      "metadata": {
        "colab": {
          "base_uri": "https://localhost:8080/",
          "height": 363
        },
        "id": "dmLhG5im62Ma",
        "outputId": "7657cd29-a040-40b6-8aa8-358300a7bf14"
      },
      "execution_count": 8,
      "outputs": [
        {
          "output_type": "execute_result",
          "data": {
            "text/plain": [
              "                                               Tweet  sentiment\n",
              "0  abraj al bait clock tower beams indicating com...          0\n",
              "1  accounts recognised ramadan none recognised be...          0\n",
              "2  admin post peaceful ramadan celebrations east ...          1\n",
              "3                          admin post ramadan norway          0\n",
              "4  admin post ramadan usual peaceful start englan...          1\n",
              "5        alfas inside mega chicken afternoon ramadan          0\n",
              "6  alhamdulillah every lesson every prayer brings...          1\n",
              "7  allah forgive us sins past future public priva...          1\n",
              "8  allah help brothers gaza lift siege brothers d...          1\n",
              "9  allah help us al-aqsa prisons oppressors gaza ...          0"
            ],
            "text/html": [
              "\n",
              "  <div id=\"df-326dce0a-8574-4bcf-b9cc-02047fa06171\" class=\"colab-df-container\">\n",
              "    <div>\n",
              "<style scoped>\n",
              "    .dataframe tbody tr th:only-of-type {\n",
              "        vertical-align: middle;\n",
              "    }\n",
              "\n",
              "    .dataframe tbody tr th {\n",
              "        vertical-align: top;\n",
              "    }\n",
              "\n",
              "    .dataframe thead th {\n",
              "        text-align: right;\n",
              "    }\n",
              "</style>\n",
              "<table border=\"1\" class=\"dataframe\">\n",
              "  <thead>\n",
              "    <tr style=\"text-align: right;\">\n",
              "      <th></th>\n",
              "      <th>Tweet</th>\n",
              "      <th>sentiment</th>\n",
              "    </tr>\n",
              "  </thead>\n",
              "  <tbody>\n",
              "    <tr>\n",
              "      <th>0</th>\n",
              "      <td>abraj al bait clock tower beams indicating com...</td>\n",
              "      <td>0</td>\n",
              "    </tr>\n",
              "    <tr>\n",
              "      <th>1</th>\n",
              "      <td>accounts recognised ramadan none recognised be...</td>\n",
              "      <td>0</td>\n",
              "    </tr>\n",
              "    <tr>\n",
              "      <th>2</th>\n",
              "      <td>admin post peaceful ramadan celebrations east ...</td>\n",
              "      <td>1</td>\n",
              "    </tr>\n",
              "    <tr>\n",
              "      <th>3</th>\n",
              "      <td>admin post ramadan norway</td>\n",
              "      <td>0</td>\n",
              "    </tr>\n",
              "    <tr>\n",
              "      <th>4</th>\n",
              "      <td>admin post ramadan usual peaceful start englan...</td>\n",
              "      <td>1</td>\n",
              "    </tr>\n",
              "    <tr>\n",
              "      <th>5</th>\n",
              "      <td>alfas inside mega chicken afternoon ramadan</td>\n",
              "      <td>0</td>\n",
              "    </tr>\n",
              "    <tr>\n",
              "      <th>6</th>\n",
              "      <td>alhamdulillah every lesson every prayer brings...</td>\n",
              "      <td>1</td>\n",
              "    </tr>\n",
              "    <tr>\n",
              "      <th>7</th>\n",
              "      <td>allah forgive us sins past future public priva...</td>\n",
              "      <td>1</td>\n",
              "    </tr>\n",
              "    <tr>\n",
              "      <th>8</th>\n",
              "      <td>allah help brothers gaza lift siege brothers d...</td>\n",
              "      <td>1</td>\n",
              "    </tr>\n",
              "    <tr>\n",
              "      <th>9</th>\n",
              "      <td>allah help us al-aqsa prisons oppressors gaza ...</td>\n",
              "      <td>0</td>\n",
              "    </tr>\n",
              "  </tbody>\n",
              "</table>\n",
              "</div>\n",
              "    <div class=\"colab-df-buttons\">\n",
              "\n",
              "  <div class=\"colab-df-container\">\n",
              "    <button class=\"colab-df-convert\" onclick=\"convertToInteractive('df-326dce0a-8574-4bcf-b9cc-02047fa06171')\"\n",
              "            title=\"Convert this dataframe to an interactive table.\"\n",
              "            style=\"display:none;\">\n",
              "\n",
              "  <svg xmlns=\"http://www.w3.org/2000/svg\" height=\"24px\" viewBox=\"0 -960 960 960\">\n",
              "    <path d=\"M120-120v-720h720v720H120Zm60-500h600v-160H180v160Zm220 220h160v-160H400v160Zm0 220h160v-160H400v160ZM180-400h160v-160H180v160Zm440 0h160v-160H620v160ZM180-180h160v-160H180v160Zm440 0h160v-160H620v160Z\"/>\n",
              "  </svg>\n",
              "    </button>\n",
              "\n",
              "  <style>\n",
              "    .colab-df-container {\n",
              "      display:flex;\n",
              "      gap: 12px;\n",
              "    }\n",
              "\n",
              "    .colab-df-convert {\n",
              "      background-color: #E8F0FE;\n",
              "      border: none;\n",
              "      border-radius: 50%;\n",
              "      cursor: pointer;\n",
              "      display: none;\n",
              "      fill: #1967D2;\n",
              "      height: 32px;\n",
              "      padding: 0 0 0 0;\n",
              "      width: 32px;\n",
              "    }\n",
              "\n",
              "    .colab-df-convert:hover {\n",
              "      background-color: #E2EBFA;\n",
              "      box-shadow: 0px 1px 2px rgba(60, 64, 67, 0.3), 0px 1px 3px 1px rgba(60, 64, 67, 0.15);\n",
              "      fill: #174EA6;\n",
              "    }\n",
              "\n",
              "    .colab-df-buttons div {\n",
              "      margin-bottom: 4px;\n",
              "    }\n",
              "\n",
              "    [theme=dark] .colab-df-convert {\n",
              "      background-color: #3B4455;\n",
              "      fill: #D2E3FC;\n",
              "    }\n",
              "\n",
              "    [theme=dark] .colab-df-convert:hover {\n",
              "      background-color: #434B5C;\n",
              "      box-shadow: 0px 1px 3px 1px rgba(0, 0, 0, 0.15);\n",
              "      filter: drop-shadow(0px 1px 2px rgba(0, 0, 0, 0.3));\n",
              "      fill: #FFFFFF;\n",
              "    }\n",
              "  </style>\n",
              "\n",
              "    <script>\n",
              "      const buttonEl =\n",
              "        document.querySelector('#df-326dce0a-8574-4bcf-b9cc-02047fa06171 button.colab-df-convert');\n",
              "      buttonEl.style.display =\n",
              "        google.colab.kernel.accessAllowed ? 'block' : 'none';\n",
              "\n",
              "      async function convertToInteractive(key) {\n",
              "        const element = document.querySelector('#df-326dce0a-8574-4bcf-b9cc-02047fa06171');\n",
              "        const dataTable =\n",
              "          await google.colab.kernel.invokeFunction('convertToInteractive',\n",
              "                                                    [key], {});\n",
              "        if (!dataTable) return;\n",
              "\n",
              "        const docLinkHtml = 'Like what you see? Visit the ' +\n",
              "          '<a target=\"_blank\" href=https://colab.research.google.com/notebooks/data_table.ipynb>data table notebook</a>'\n",
              "          + ' to learn more about interactive tables.';\n",
              "        element.innerHTML = '';\n",
              "        dataTable['output_type'] = 'display_data';\n",
              "        await google.colab.output.renderOutput(dataTable, element);\n",
              "        const docLink = document.createElement('div');\n",
              "        docLink.innerHTML = docLinkHtml;\n",
              "        element.appendChild(docLink);\n",
              "      }\n",
              "    </script>\n",
              "  </div>\n",
              "\n",
              "\n",
              "    <div id=\"df-15039bc2-9e08-45bb-8b54-4ab263ab73ab\">\n",
              "      <button class=\"colab-df-quickchart\" onclick=\"quickchart('df-15039bc2-9e08-45bb-8b54-4ab263ab73ab')\"\n",
              "                title=\"Suggest charts\"\n",
              "                style=\"display:none;\">\n",
              "\n",
              "<svg xmlns=\"http://www.w3.org/2000/svg\" height=\"24px\"viewBox=\"0 0 24 24\"\n",
              "     width=\"24px\">\n",
              "    <g>\n",
              "        <path d=\"M19 3H5c-1.1 0-2 .9-2 2v14c0 1.1.9 2 2 2h14c1.1 0 2-.9 2-2V5c0-1.1-.9-2-2-2zM9 17H7v-7h2v7zm4 0h-2V7h2v10zm4 0h-2v-4h2v4z\"/>\n",
              "    </g>\n",
              "</svg>\n",
              "      </button>\n",
              "\n",
              "<style>\n",
              "  .colab-df-quickchart {\n",
              "      --bg-color: #E8F0FE;\n",
              "      --fill-color: #1967D2;\n",
              "      --hover-bg-color: #E2EBFA;\n",
              "      --hover-fill-color: #174EA6;\n",
              "      --disabled-fill-color: #AAA;\n",
              "      --disabled-bg-color: #DDD;\n",
              "  }\n",
              "\n",
              "  [theme=dark] .colab-df-quickchart {\n",
              "      --bg-color: #3B4455;\n",
              "      --fill-color: #D2E3FC;\n",
              "      --hover-bg-color: #434B5C;\n",
              "      --hover-fill-color: #FFFFFF;\n",
              "      --disabled-bg-color: #3B4455;\n",
              "      --disabled-fill-color: #666;\n",
              "  }\n",
              "\n",
              "  .colab-df-quickchart {\n",
              "    background-color: var(--bg-color);\n",
              "    border: none;\n",
              "    border-radius: 50%;\n",
              "    cursor: pointer;\n",
              "    display: none;\n",
              "    fill: var(--fill-color);\n",
              "    height: 32px;\n",
              "    padding: 0;\n",
              "    width: 32px;\n",
              "  }\n",
              "\n",
              "  .colab-df-quickchart:hover {\n",
              "    background-color: var(--hover-bg-color);\n",
              "    box-shadow: 0 1px 2px rgba(60, 64, 67, 0.3), 0 1px 3px 1px rgba(60, 64, 67, 0.15);\n",
              "    fill: var(--button-hover-fill-color);\n",
              "  }\n",
              "\n",
              "  .colab-df-quickchart-complete:disabled,\n",
              "  .colab-df-quickchart-complete:disabled:hover {\n",
              "    background-color: var(--disabled-bg-color);\n",
              "    fill: var(--disabled-fill-color);\n",
              "    box-shadow: none;\n",
              "  }\n",
              "\n",
              "  .colab-df-spinner {\n",
              "    border: 2px solid var(--fill-color);\n",
              "    border-color: transparent;\n",
              "    border-bottom-color: var(--fill-color);\n",
              "    animation:\n",
              "      spin 1s steps(1) infinite;\n",
              "  }\n",
              "\n",
              "  @keyframes spin {\n",
              "    0% {\n",
              "      border-color: transparent;\n",
              "      border-bottom-color: var(--fill-color);\n",
              "      border-left-color: var(--fill-color);\n",
              "    }\n",
              "    20% {\n",
              "      border-color: transparent;\n",
              "      border-left-color: var(--fill-color);\n",
              "      border-top-color: var(--fill-color);\n",
              "    }\n",
              "    30% {\n",
              "      border-color: transparent;\n",
              "      border-left-color: var(--fill-color);\n",
              "      border-top-color: var(--fill-color);\n",
              "      border-right-color: var(--fill-color);\n",
              "    }\n",
              "    40% {\n",
              "      border-color: transparent;\n",
              "      border-right-color: var(--fill-color);\n",
              "      border-top-color: var(--fill-color);\n",
              "    }\n",
              "    60% {\n",
              "      border-color: transparent;\n",
              "      border-right-color: var(--fill-color);\n",
              "    }\n",
              "    80% {\n",
              "      border-color: transparent;\n",
              "      border-right-color: var(--fill-color);\n",
              "      border-bottom-color: var(--fill-color);\n",
              "    }\n",
              "    90% {\n",
              "      border-color: transparent;\n",
              "      border-bottom-color: var(--fill-color);\n",
              "    }\n",
              "  }\n",
              "</style>\n",
              "\n",
              "      <script>\n",
              "        async function quickchart(key) {\n",
              "          const quickchartButtonEl =\n",
              "            document.querySelector('#' + key + ' button');\n",
              "          quickchartButtonEl.disabled = true;  // To prevent multiple clicks.\n",
              "          quickchartButtonEl.classList.add('colab-df-spinner');\n",
              "          try {\n",
              "            const charts = await google.colab.kernel.invokeFunction(\n",
              "                'suggestCharts', [key], {});\n",
              "          } catch (error) {\n",
              "            console.error('Error during call to suggestCharts:', error);\n",
              "          }\n",
              "          quickchartButtonEl.classList.remove('colab-df-spinner');\n",
              "          quickchartButtonEl.classList.add('colab-df-quickchart-complete');\n",
              "        }\n",
              "        (() => {\n",
              "          let quickchartButtonEl =\n",
              "            document.querySelector('#df-15039bc2-9e08-45bb-8b54-4ab263ab73ab button');\n",
              "          quickchartButtonEl.style.display =\n",
              "            google.colab.kernel.accessAllowed ? 'block' : 'none';\n",
              "        })();\n",
              "      </script>\n",
              "    </div>\n",
              "\n",
              "    </div>\n",
              "  </div>\n"
            ],
            "application/vnd.google.colaboratory.intrinsic+json": {
              "type": "dataframe",
              "summary": "{\n  \"name\": \"df[['Tweet', 'sentiment']]\",\n  \"rows\": 10,\n  \"fields\": [\n    {\n      \"column\": \"Tweet\",\n      \"properties\": {\n        \"dtype\": \"string\",\n        \"num_unique_values\": 10,\n        \"samples\": [\n          \"allah help brothers gaza lift siege brothers despite israeli restrictions palestinians performed taraweeh prayers evening alaqsamosque ramadan\",\n          \"accounts recognised ramadan none recognised beginning lent even nod pancakes shrove tuesday britain christian country wake britons everything attack\",\n          \"alfas inside mega chicken afternoon ramadan\"\n        ],\n        \"semantic_type\": \"\",\n        \"description\": \"\"\n      }\n    },\n    {\n      \"column\": \"sentiment\",\n      \"properties\": {\n        \"dtype\": \"number\",\n        \"std\": 0,\n        \"min\": 0,\n        \"max\": 1,\n        \"num_unique_values\": 2,\n        \"samples\": [\n          1,\n          0\n        ],\n        \"semantic_type\": \"\",\n        \"description\": \"\"\n      }\n    }\n  ]\n}"
            }
          },
          "metadata": {},
          "execution_count": 8
        }
      ]
    },
    {
      "cell_type": "markdown",
      "source": [
        "### **b. Penanganan Missing Values:**\n"
      ],
      "metadata": {
        "id": "s1CrJ3dU8b1z"
      }
    },
    {
      "cell_type": "markdown",
      "source": [
        "Sangat penting untuk memeriksa apakah ada nilai yang hilang dalam dataset, terutama pada kolom yang akan digunakan untuk fitur (`tweet_clean`) dan target (`sentiment`).\n"
      ],
      "metadata": {
        "id": "vgUasnEU8f6E"
      }
    },
    {
      "cell_type": "markdown",
      "source": [
        "Jumlah missing values per kolom sebelum penanganan:"
      ],
      "metadata": {
        "id": "deef2cYX8mhy"
      }
    },
    {
      "cell_type": "code",
      "source": [
        "df.isnull().sum()"
      ],
      "metadata": {
        "colab": {
          "base_uri": "https://localhost:8080/",
          "height": 335
        },
        "id": "RhgK57Oi8fRt",
        "outputId": "0b11b99f-fad1-40de-ab35-2f36272066fc"
      },
      "execution_count": 9,
      "outputs": [
        {
          "output_type": "execute_result",
          "data": {
            "text/plain": [
              "tweet_clean         0\n",
              "Tweet               0\n",
              "sentiment           0\n",
              "sentiment_scores    0\n",
              "neg                 0\n",
              "neu                 0\n",
              "pos                 0\n",
              "compound            0\n",
              "dtype: int64"
            ],
            "text/html": [
              "<div>\n",
              "<style scoped>\n",
              "    .dataframe tbody tr th:only-of-type {\n",
              "        vertical-align: middle;\n",
              "    }\n",
              "\n",
              "    .dataframe tbody tr th {\n",
              "        vertical-align: top;\n",
              "    }\n",
              "\n",
              "    .dataframe thead th {\n",
              "        text-align: right;\n",
              "    }\n",
              "</style>\n",
              "<table border=\"1\" class=\"dataframe\">\n",
              "  <thead>\n",
              "    <tr style=\"text-align: right;\">\n",
              "      <th></th>\n",
              "      <th>0</th>\n",
              "    </tr>\n",
              "  </thead>\n",
              "  <tbody>\n",
              "    <tr>\n",
              "      <th>tweet_clean</th>\n",
              "      <td>0</td>\n",
              "    </tr>\n",
              "    <tr>\n",
              "      <th>Tweet</th>\n",
              "      <td>0</td>\n",
              "    </tr>\n",
              "    <tr>\n",
              "      <th>sentiment</th>\n",
              "      <td>0</td>\n",
              "    </tr>\n",
              "    <tr>\n",
              "      <th>sentiment_scores</th>\n",
              "      <td>0</td>\n",
              "    </tr>\n",
              "    <tr>\n",
              "      <th>neg</th>\n",
              "      <td>0</td>\n",
              "    </tr>\n",
              "    <tr>\n",
              "      <th>neu</th>\n",
              "      <td>0</td>\n",
              "    </tr>\n",
              "    <tr>\n",
              "      <th>pos</th>\n",
              "      <td>0</td>\n",
              "    </tr>\n",
              "    <tr>\n",
              "      <th>compound</th>\n",
              "      <td>0</td>\n",
              "    </tr>\n",
              "  </tbody>\n",
              "</table>\n",
              "</div><br><label><b>dtype:</b> int64</label>"
            ]
          },
          "metadata": {},
          "execution_count": 9
        }
      ]
    },
    {
      "cell_type": "markdown",
      "source": [
        "### **c. Pemrosesan Kolom Teks Fitur:**\n"
      ],
      "metadata": {
        "id": "dlzinbP19oYL"
      }
    },
    {
      "cell_type": "markdown",
      "source": [
        "Kolom `tweet_clean` saat ini tampaknya berisi string yang merepresentasikan list. Ini perlu diubah menjadi string tunggal dari kata-kata yang digabungkan.\n"
      ],
      "metadata": {
        "id": "w8JPlYMN9ssH"
      }
    },
    {
      "cell_type": "code",
      "source": [
        "# Fungsi untuk menggabungkan list kata menjadi string\n",
        "def join_text_list(text_list_str):\n",
        "    if isinstance(text_list_str, str):\n",
        "        try:\n",
        "            # Mengubah string representasi list menjadi list aktual\n",
        "            actual_list = eval(text_list_str)\n",
        "            if isinstance(actual_list, list):\n",
        "                return ' '.join(actual_list)\n",
        "            else:\n",
        "                return '' # atau text_list_str jika formatnya tidak terduga tapi ingin dipertahankan\n",
        "        except (SyntaxError, NameError, TypeError):\n",
        "            # Jika eval gagal (misal karena sudah string), kembalikan string aslinya\n",
        "            # Atau bisa jadi ini adalah teks yang memang tidak berbentuk list\n",
        "            return text_list_str\n",
        "    elif isinstance(text_list_str, list): # Jika sudah berupa list\n",
        "        return ' '.join(text_list_str)\n",
        "    return '' # Default jika input tidak sesuai\n",
        "\n",
        "df['text_processed'] = df['tweet_clean'].apply(join_text_list)\n",
        "\n",
        "print(\"\\nContoh hasil 'text_processed':\")\n",
        "display(df[['tweet_clean', 'text_processed']].head())"
      ],
      "metadata": {
        "colab": {
          "base_uri": "https://localhost:8080/",
          "height": 241
        },
        "id": "Pffi7RJI9rnk",
        "outputId": "2b8b43ef-cae7-4bf4-c74a-a7b89e4f01ed"
      },
      "execution_count": 10,
      "outputs": [
        {
          "output_type": "stream",
          "name": "stdout",
          "text": [
            "\n",
            "Contoh hasil 'text_processed':\n"
          ]
        },
        {
          "output_type": "display_data",
          "data": {
            "text/plain": [
              "                                         tweet_clean  \\\n",
              "0  ['abraj', 'al', 'bait', 'clock', 'tower', 'bea...   \n",
              "1  ['accounts', 'recognised', 'ramadan', 'none', ...   \n",
              "2  ['admin', 'post', 'peaceful', 'ramadan', 'cele...   \n",
              "3             ['admin', 'post', 'ramadan', 'norway']   \n",
              "4  ['admin', 'post', 'ramadan', 'usual', 'peacefu...   \n",
              "\n",
              "                                      text_processed  \n",
              "0  abraj al bait clock tower beams indicating com...  \n",
              "1  accounts recognised ramadan none recognised be...  \n",
              "2  admin post peaceful ramadan celebrations east ...  \n",
              "3                          admin post ramadan norway  \n",
              "4  admin post ramadan usual peaceful start englan...  "
            ],
            "text/html": [
              "\n",
              "  <div id=\"df-76c68e75-d8ce-44af-a123-fa8a1ae03454\" class=\"colab-df-container\">\n",
              "    <div>\n",
              "<style scoped>\n",
              "    .dataframe tbody tr th:only-of-type {\n",
              "        vertical-align: middle;\n",
              "    }\n",
              "\n",
              "    .dataframe tbody tr th {\n",
              "        vertical-align: top;\n",
              "    }\n",
              "\n",
              "    .dataframe thead th {\n",
              "        text-align: right;\n",
              "    }\n",
              "</style>\n",
              "<table border=\"1\" class=\"dataframe\">\n",
              "  <thead>\n",
              "    <tr style=\"text-align: right;\">\n",
              "      <th></th>\n",
              "      <th>tweet_clean</th>\n",
              "      <th>text_processed</th>\n",
              "    </tr>\n",
              "  </thead>\n",
              "  <tbody>\n",
              "    <tr>\n",
              "      <th>0</th>\n",
              "      <td>['abraj', 'al', 'bait', 'clock', 'tower', 'bea...</td>\n",
              "      <td>abraj al bait clock tower beams indicating com...</td>\n",
              "    </tr>\n",
              "    <tr>\n",
              "      <th>1</th>\n",
              "      <td>['accounts', 'recognised', 'ramadan', 'none', ...</td>\n",
              "      <td>accounts recognised ramadan none recognised be...</td>\n",
              "    </tr>\n",
              "    <tr>\n",
              "      <th>2</th>\n",
              "      <td>['admin', 'post', 'peaceful', 'ramadan', 'cele...</td>\n",
              "      <td>admin post peaceful ramadan celebrations east ...</td>\n",
              "    </tr>\n",
              "    <tr>\n",
              "      <th>3</th>\n",
              "      <td>['admin', 'post', 'ramadan', 'norway']</td>\n",
              "      <td>admin post ramadan norway</td>\n",
              "    </tr>\n",
              "    <tr>\n",
              "      <th>4</th>\n",
              "      <td>['admin', 'post', 'ramadan', 'usual', 'peacefu...</td>\n",
              "      <td>admin post ramadan usual peaceful start englan...</td>\n",
              "    </tr>\n",
              "  </tbody>\n",
              "</table>\n",
              "</div>\n",
              "    <div class=\"colab-df-buttons\">\n",
              "\n",
              "  <div class=\"colab-df-container\">\n",
              "    <button class=\"colab-df-convert\" onclick=\"convertToInteractive('df-76c68e75-d8ce-44af-a123-fa8a1ae03454')\"\n",
              "            title=\"Convert this dataframe to an interactive table.\"\n",
              "            style=\"display:none;\">\n",
              "\n",
              "  <svg xmlns=\"http://www.w3.org/2000/svg\" height=\"24px\" viewBox=\"0 -960 960 960\">\n",
              "    <path d=\"M120-120v-720h720v720H120Zm60-500h600v-160H180v160Zm220 220h160v-160H400v160Zm0 220h160v-160H400v160ZM180-400h160v-160H180v160Zm440 0h160v-160H620v160ZM180-180h160v-160H180v160Zm440 0h160v-160H620v160Z\"/>\n",
              "  </svg>\n",
              "    </button>\n",
              "\n",
              "  <style>\n",
              "    .colab-df-container {\n",
              "      display:flex;\n",
              "      gap: 12px;\n",
              "    }\n",
              "\n",
              "    .colab-df-convert {\n",
              "      background-color: #E8F0FE;\n",
              "      border: none;\n",
              "      border-radius: 50%;\n",
              "      cursor: pointer;\n",
              "      display: none;\n",
              "      fill: #1967D2;\n",
              "      height: 32px;\n",
              "      padding: 0 0 0 0;\n",
              "      width: 32px;\n",
              "    }\n",
              "\n",
              "    .colab-df-convert:hover {\n",
              "      background-color: #E2EBFA;\n",
              "      box-shadow: 0px 1px 2px rgba(60, 64, 67, 0.3), 0px 1px 3px 1px rgba(60, 64, 67, 0.15);\n",
              "      fill: #174EA6;\n",
              "    }\n",
              "\n",
              "    .colab-df-buttons div {\n",
              "      margin-bottom: 4px;\n",
              "    }\n",
              "\n",
              "    [theme=dark] .colab-df-convert {\n",
              "      background-color: #3B4455;\n",
              "      fill: #D2E3FC;\n",
              "    }\n",
              "\n",
              "    [theme=dark] .colab-df-convert:hover {\n",
              "      background-color: #434B5C;\n",
              "      box-shadow: 0px 1px 3px 1px rgba(0, 0, 0, 0.15);\n",
              "      filter: drop-shadow(0px 1px 2px rgba(0, 0, 0, 0.3));\n",
              "      fill: #FFFFFF;\n",
              "    }\n",
              "  </style>\n",
              "\n",
              "    <script>\n",
              "      const buttonEl =\n",
              "        document.querySelector('#df-76c68e75-d8ce-44af-a123-fa8a1ae03454 button.colab-df-convert');\n",
              "      buttonEl.style.display =\n",
              "        google.colab.kernel.accessAllowed ? 'block' : 'none';\n",
              "\n",
              "      async function convertToInteractive(key) {\n",
              "        const element = document.querySelector('#df-76c68e75-d8ce-44af-a123-fa8a1ae03454');\n",
              "        const dataTable =\n",
              "          await google.colab.kernel.invokeFunction('convertToInteractive',\n",
              "                                                    [key], {});\n",
              "        if (!dataTable) return;\n",
              "\n",
              "        const docLinkHtml = 'Like what you see? Visit the ' +\n",
              "          '<a target=\"_blank\" href=https://colab.research.google.com/notebooks/data_table.ipynb>data table notebook</a>'\n",
              "          + ' to learn more about interactive tables.';\n",
              "        element.innerHTML = '';\n",
              "        dataTable['output_type'] = 'display_data';\n",
              "        await google.colab.output.renderOutput(dataTable, element);\n",
              "        const docLink = document.createElement('div');\n",
              "        docLink.innerHTML = docLinkHtml;\n",
              "        element.appendChild(docLink);\n",
              "      }\n",
              "    </script>\n",
              "  </div>\n",
              "\n",
              "\n",
              "    <div id=\"df-df7b062c-9428-456b-b2d4-6cede601c571\">\n",
              "      <button class=\"colab-df-quickchart\" onclick=\"quickchart('df-df7b062c-9428-456b-b2d4-6cede601c571')\"\n",
              "                title=\"Suggest charts\"\n",
              "                style=\"display:none;\">\n",
              "\n",
              "<svg xmlns=\"http://www.w3.org/2000/svg\" height=\"24px\"viewBox=\"0 0 24 24\"\n",
              "     width=\"24px\">\n",
              "    <g>\n",
              "        <path d=\"M19 3H5c-1.1 0-2 .9-2 2v14c0 1.1.9 2 2 2h14c1.1 0 2-.9 2-2V5c0-1.1-.9-2-2-2zM9 17H7v-7h2v7zm4 0h-2V7h2v10zm4 0h-2v-4h2v4z\"/>\n",
              "    </g>\n",
              "</svg>\n",
              "      </button>\n",
              "\n",
              "<style>\n",
              "  .colab-df-quickchart {\n",
              "      --bg-color: #E8F0FE;\n",
              "      --fill-color: #1967D2;\n",
              "      --hover-bg-color: #E2EBFA;\n",
              "      --hover-fill-color: #174EA6;\n",
              "      --disabled-fill-color: #AAA;\n",
              "      --disabled-bg-color: #DDD;\n",
              "  }\n",
              "\n",
              "  [theme=dark] .colab-df-quickchart {\n",
              "      --bg-color: #3B4455;\n",
              "      --fill-color: #D2E3FC;\n",
              "      --hover-bg-color: #434B5C;\n",
              "      --hover-fill-color: #FFFFFF;\n",
              "      --disabled-bg-color: #3B4455;\n",
              "      --disabled-fill-color: #666;\n",
              "  }\n",
              "\n",
              "  .colab-df-quickchart {\n",
              "    background-color: var(--bg-color);\n",
              "    border: none;\n",
              "    border-radius: 50%;\n",
              "    cursor: pointer;\n",
              "    display: none;\n",
              "    fill: var(--fill-color);\n",
              "    height: 32px;\n",
              "    padding: 0;\n",
              "    width: 32px;\n",
              "  }\n",
              "\n",
              "  .colab-df-quickchart:hover {\n",
              "    background-color: var(--hover-bg-color);\n",
              "    box-shadow: 0 1px 2px rgba(60, 64, 67, 0.3), 0 1px 3px 1px rgba(60, 64, 67, 0.15);\n",
              "    fill: var(--button-hover-fill-color);\n",
              "  }\n",
              "\n",
              "  .colab-df-quickchart-complete:disabled,\n",
              "  .colab-df-quickchart-complete:disabled:hover {\n",
              "    background-color: var(--disabled-bg-color);\n",
              "    fill: var(--disabled-fill-color);\n",
              "    box-shadow: none;\n",
              "  }\n",
              "\n",
              "  .colab-df-spinner {\n",
              "    border: 2px solid var(--fill-color);\n",
              "    border-color: transparent;\n",
              "    border-bottom-color: var(--fill-color);\n",
              "    animation:\n",
              "      spin 1s steps(1) infinite;\n",
              "  }\n",
              "\n",
              "  @keyframes spin {\n",
              "    0% {\n",
              "      border-color: transparent;\n",
              "      border-bottom-color: var(--fill-color);\n",
              "      border-left-color: var(--fill-color);\n",
              "    }\n",
              "    20% {\n",
              "      border-color: transparent;\n",
              "      border-left-color: var(--fill-color);\n",
              "      border-top-color: var(--fill-color);\n",
              "    }\n",
              "    30% {\n",
              "      border-color: transparent;\n",
              "      border-left-color: var(--fill-color);\n",
              "      border-top-color: var(--fill-color);\n",
              "      border-right-color: var(--fill-color);\n",
              "    }\n",
              "    40% {\n",
              "      border-color: transparent;\n",
              "      border-right-color: var(--fill-color);\n",
              "      border-top-color: var(--fill-color);\n",
              "    }\n",
              "    60% {\n",
              "      border-color: transparent;\n",
              "      border-right-color: var(--fill-color);\n",
              "    }\n",
              "    80% {\n",
              "      border-color: transparent;\n",
              "      border-right-color: var(--fill-color);\n",
              "      border-bottom-color: var(--fill-color);\n",
              "    }\n",
              "    90% {\n",
              "      border-color: transparent;\n",
              "      border-bottom-color: var(--fill-color);\n",
              "    }\n",
              "  }\n",
              "</style>\n",
              "\n",
              "      <script>\n",
              "        async function quickchart(key) {\n",
              "          const quickchartButtonEl =\n",
              "            document.querySelector('#' + key + ' button');\n",
              "          quickchartButtonEl.disabled = true;  // To prevent multiple clicks.\n",
              "          quickchartButtonEl.classList.add('colab-df-spinner');\n",
              "          try {\n",
              "            const charts = await google.colab.kernel.invokeFunction(\n",
              "                'suggestCharts', [key], {});\n",
              "          } catch (error) {\n",
              "            console.error('Error during call to suggestCharts:', error);\n",
              "          }\n",
              "          quickchartButtonEl.classList.remove('colab-df-spinner');\n",
              "          quickchartButtonEl.classList.add('colab-df-quickchart-complete');\n",
              "        }\n",
              "        (() => {\n",
              "          let quickchartButtonEl =\n",
              "            document.querySelector('#df-df7b062c-9428-456b-b2d4-6cede601c571 button');\n",
              "          quickchartButtonEl.style.display =\n",
              "            google.colab.kernel.accessAllowed ? 'block' : 'none';\n",
              "        })();\n",
              "      </script>\n",
              "    </div>\n",
              "\n",
              "    </div>\n",
              "  </div>\n"
            ],
            "application/vnd.google.colaboratory.intrinsic+json": {
              "type": "dataframe",
              "summary": "{\n  \"name\": \"display(df[['tweet_clean', 'text_processed']]\",\n  \"rows\": 5,\n  \"fields\": [\n    {\n      \"column\": \"tweet_clean\",\n      \"properties\": {\n        \"dtype\": \"string\",\n        \"num_unique_values\": 5,\n        \"samples\": [\n          \"['accounts', 'recognised', 'ramadan', 'none', 'recognised', 'beginning', 'lent', 'even', 'nod', 'pancakes', 'shrove', 'tuesday', 'britain', 'christian', 'country', 'wake', 'britons', 'everything', 'attack']\",\n          \"['admin', 'post', 'ramadan', 'usual', 'peaceful', 'start', 'england s', 'second', 'largest', 'city', 'birmingham']\",\n          \"['admin', 'post', 'peaceful', 'ramadan', 'celebrations', 'east', 'london', 'last', 'night']\"\n        ],\n        \"semantic_type\": \"\",\n        \"description\": \"\"\n      }\n    },\n    {\n      \"column\": \"text_processed\",\n      \"properties\": {\n        \"dtype\": \"string\",\n        \"num_unique_values\": 5,\n        \"samples\": [\n          \"accounts recognised ramadan none recognised beginning lent even nod pancakes shrove tuesday britain christian country wake britons everything attack\",\n          \"admin post ramadan usual peaceful start england s second largest city birmingham\",\n          \"admin post peaceful ramadan celebrations east london last night\"\n        ],\n        \"semantic_type\": \"\",\n        \"description\": \"\"\n      }\n    }\n  ]\n}"
            }
          },
          "metadata": {}
        }
      ]
    },
    {
      "cell_type": "markdown",
      "source": [
        "## **- Tahap Ekstraksi Fitur (TF-IDF Vectorization)**"
      ],
      "metadata": {
        "id": "gIbKYKOb98Au"
      }
    },
    {
      "cell_type": "markdown",
      "source": [
        "Setelah pra-pemrosesan dasar, teks perlu diubah menjadi format numerik yang dapat dipahami oleh model. TF-IDF (Term Frequency-Inverse Document Frequency) adalah teknik yang umum digunakan untuk ini.\n"
      ],
      "metadata": {
        "id": "WHh0x4IC-AJZ"
      }
    },
    {
      "cell_type": "code",
      "source": [
        "tfidf = TfidfVectorizer(\n",
        "    max_features=1000,    # Membatasi jumlah fitur hingga 1000 kata paling relevan\n",
        "    ngram_range=(1,2),    # Mempertimbangkan unigram (kata tunggal) dan bigram (pasangan kata)\n",
        "    stop_words='english'  # Menghapus kata-kata umum dalam bahasa Inggris\n",
        ")\n",
        "\n",
        "X = tfidf.fit_transform(df['text_processed'])\n",
        "y = df['sentiment']\n",
        "\n",
        "print(f\"Shape dari matriks fitur X (setelah TF-IDF): {X.shape}\")\n",
        "print(f\"Shape dari vektor target y: {y.shape}\")\n",
        "print(\"\\nContoh beberapa fitur yang dihasilkan oleh TF-IDF:\")\n",
        "print(list(tfidf.get_feature_names_out())[:20]) # Menampilkan 20 fitur pertama"
      ],
      "metadata": {
        "colab": {
          "base_uri": "https://localhost:8080/"
        },
        "id": "I0pVI6pn-L9K",
        "outputId": "73cde747-2c07-4ae7-f6ed-8023359ad205"
      },
      "execution_count": 11,
      "outputs": [
        {
          "output_type": "stream",
          "name": "stdout",
          "text": [
            "Shape dari matriks fitur X (setelah TF-IDF): (836, 1000)\n",
            "Shape dari vektor target y: (836,)\n",
            "\n",
            "Contoh beberapa fitur yang dihasilkan oleh TF-IDF:\n",
            "['able', 'abu', 'accept', 'accepted', 'according', 'accounts', 'act', 'action', 'acts', 'additionally', 'admin', 'admin post', 'ago', 'ah', 'ahead', 'ahmed', 'aid', 'al', 'al aqsa', 'alaqsamosque']\n"
          ]
        }
      ]
    },
    {
      "cell_type": "markdown",
      "source": [
        "## **3. Pemrosesan Pembagian (Split Data) Data Training dan Data Testing**\n"
      ],
      "metadata": {
        "id": "AXYvyT5O-Ob8"
      }
    },
    {
      "cell_type": "markdown",
      "source": [
        "Dataset akan dibagi menjadi dua bagian: data training (untuk melatih model) dan data testing (untuk menguji performa model pada data yang belum pernah dilihat sebelumnya).\n"
      ],
      "metadata": {
        "id": "b2oqFV02-xoy"
      }
    },
    {
      "cell_type": "code",
      "source": [
        "X_train, X_test, y_train, y_test = train_test_split(\n",
        "    X, y,\n",
        "    test_size=0.2,  # 20% data digunakan untuk testing\n",
        "    random_state=42,  # Untuk reproduktifitas hasil\n",
        "    stratify=y  # Mempertahankan proporsi kelas sentimen pada data training dan testing\n",
        ")\n",
        "\n",
        "print(\"Ukuran Data Training dan Testing:\")\n",
        "print(f\"X_train shape: {X_train.shape}\")\n",
        "print(f\"y_train shape: {y_train.shape}\")\n",
        "print(f\"X_test shape: {X_test.shape}\")\n",
        "print(f\"y_test shape: {y_test.shape}\")\n",
        "\n",
        "print(\"\\nDistribusi kelas sentimen pada data training:\")\n",
        "print(y_train.value_counts(normalize=True))\n",
        "\n",
        "print(\"\\nDistribusi kelas sentimen pada data testing:\")\n",
        "print(y_test.value_counts(normalize=True))"
      ],
      "metadata": {
        "colab": {
          "base_uri": "https://localhost:8080/"
        },
        "id": "qIQn2T4e-OG1",
        "outputId": "39ad2ba3-fd47-4240-b5eb-de20b7fdd316"
      },
      "execution_count": 12,
      "outputs": [
        {
          "output_type": "stream",
          "name": "stdout",
          "text": [
            "Ukuran Data Training dan Testing:\n",
            "X_train shape: (668, 1000)\n",
            "y_train shape: (668,)\n",
            "X_test shape: (168, 1000)\n",
            "y_test shape: (168,)\n",
            "\n",
            "Distribusi kelas sentimen pada data training:\n",
            "sentiment\n",
            "1    0.532934\n",
            "0    0.467066\n",
            "Name: proportion, dtype: float64\n",
            "\n",
            "Distribusi kelas sentimen pada data testing:\n",
            "sentiment\n",
            "1    0.535714\n",
            "0    0.464286\n",
            "Name: proportion, dtype: float64\n"
          ]
        }
      ]
    },
    {
      "cell_type": "markdown",
      "source": [
        "## **4. Pemodelan Decision Tree (Perhitungan Entropy sampai dengan Information Gain)**\n"
      ],
      "metadata": {
        "id": "QLZNYU5hbjsX"
      }
    },
    {
      "cell_type": "markdown",
      "source": [
        "Model Decision Tree akan dilatih menggunakan data training. Scikit-learn secara internal menangani perhitungan entropy/information gain saat membangun pohon. Kita akan menggunakan `GridSearchCV` untuk menemukan hyperparameter terbaik untuk model Decision Tree.\n"
      ],
      "metadata": {
        "id": "TvChxA9Cbv5N"
      }
    },
    {
      "cell_type": "markdown",
      "source": [
        "Pelatihan Model dengan Hyperparameter Tuning"
      ],
      "metadata": {
        "id": "YaczP7kKcTHZ"
      }
    },
    {
      "cell_type": "code",
      "source": [
        "# Mendefinisikan grid parameter yang akan diuji\n",
        "param_grid = {\n",
        "    'criterion': ['gini', 'entropy'], # Kriteria untuk mengukur kualitas split\n",
        "    'max_depth': [None, 10, 20, 30, 40],    # Kedalaman maksimum pohon\n",
        "    'min_samples_split': [2, 5, 10, 15],  # Jumlah sampel minimum yang dibutuhkan untuk melakukan split\n",
        "    'min_samples_leaf': [1, 2, 4, 6]    # Jumlah sampel minimum pada setiap leaf node\n",
        "}\n",
        "\n",
        "# Inisialisasi model Decision Tree\n",
        "dt_model = DecisionTreeClassifier(random_state=42)\n",
        "\n",
        "# Inisialisasi GridSearchCV\n",
        "# cv=5 berarti menggunakan 5-fold cross-validation\n",
        "# scoring='accuracy' berarti model dievaluasi berdasarkan akurasi\n",
        "# n_jobs=-1 berarti menggunakan semua prosesor yang tersedia untuk percepatan\n",
        "grid_search = GridSearchCV(\n",
        "    estimator=dt_model,\n",
        "    param_grid=param_grid,\n",
        "    cv=5,\n",
        "    scoring='accuracy',\n",
        "    n_jobs=-1,\n",
        "    verbose=1 # Menampilkan log proses pencarian\n",
        ")\n",
        "\n",
        "print(\"Memulai proses training model dengan GridSearchCV...\")\n",
        "# Melatih model dengan GridSearchCV pada data training\n",
        "grid_search.fit(X_train, y_train)\n",
        "\n",
        "# Mendapatkan model Decision Tree terbaik setelah tuning\n",
        "best_dt_model = grid_search.best_estimator_\n",
        "\n",
        "print(\"\\nProses training model selesai.\")\n",
        "\n",
        "print(\"Parameter terbaik yang ditemukan oleh GridSearchCV:\")\n",
        "print(grid_search.best_params_)\n",
        "\n",
        "print(f\"\\nSkor akurasi terbaik pada cross-validation: {grid_search.best_score_:.4f}\")\n",
        "\n",
        "print(\"\\nPenjelasan Terkait Entropy dan Information Gain:\")\n",
        "print(\"Model Decision Tree menggunakan kriteria seperti 'Gini impurity' atau 'Entropy' untuk menentukan split terbaik pada setiap node.\")\n",
        "print(\"Kriteria yang dipilih oleh GridSearchCV untuk model terbaik adalah:\", best_dt_model.criterion)\n",
        "if best_dt_model.criterion == 'entropy':\n",
        "    print(\"Jika kriteria adalah 'entropy', model berusaha memaksimalkan Information Gain pada setiap split.\")\n",
        "    print(\"Information Gain dihitung sebagai: IG(S, A) = Entropy(S) - Σ (|Sv| / |S|) * Entropy(Sv)\")\n",
        "    print(\"dimana S adalah set data, A adalah atribut, Sv adalah subset data untuk nilai v dari A.\")\n",
        "    print(\"Entropy mengukur ketidakmurnian (impurity) dari sebuah set data. Semakin rendah entropy, semakin murni set tersebut.\")\n",
        "elif best_dt_model.criterion == 'gini':\n",
        "    print(\"Jika kriteria adalah 'gini', model berusaha meminimalkan Gini impurity pada setiap split.\")\n",
        "    print(\"Gini Impurity dihitung sebagai: Gini(S) = 1 - Σ (pi)^2, dimana pi adalah probabilitas kelas i.\")\n",
        "print(\"Scikit-learn secara otomatis melakukan perhitungan ini saat melatih model Decision Tree.\")"
      ],
      "metadata": {
        "id": "OtVjFwzy_aul",
        "colab": {
          "base_uri": "https://localhost:8080/"
        },
        "outputId": "bf51ac05-b806-4d1d-8660-1f0389b1d2cf"
      },
      "execution_count": 13,
      "outputs": [
        {
          "output_type": "stream",
          "name": "stdout",
          "text": [
            "Memulai proses training model dengan GridSearchCV...\n",
            "Fitting 5 folds for each of 160 candidates, totalling 800 fits\n",
            "\n",
            "Proses training model selesai.\n",
            "Parameter terbaik yang ditemukan oleh GridSearchCV:\n",
            "{'criterion': 'gini', 'max_depth': 30, 'min_samples_leaf': 1, 'min_samples_split': 5}\n",
            "\n",
            "Skor akurasi terbaik pada cross-validation: 0.6557\n",
            "\n",
            "Penjelasan Terkait Entropy dan Information Gain:\n",
            "Model Decision Tree menggunakan kriteria seperti 'Gini impurity' atau 'Entropy' untuk menentukan split terbaik pada setiap node.\n",
            "Kriteria yang dipilih oleh GridSearchCV untuk model terbaik adalah: gini\n",
            "Jika kriteria adalah 'gini', model berusaha meminimalkan Gini impurity pada setiap split.\n",
            "Gini Impurity dihitung sebagai: Gini(S) = 1 - Σ (pi)^2, dimana pi adalah probabilitas kelas i.\n",
            "Scikit-learn secara otomatis melakukan perhitungan ini saat melatih model Decision Tree.\n"
          ]
        }
      ]
    },
    {
      "cell_type": "markdown",
      "source": [
        "## **5. Tampilkan Hasil Akurasi dan Tabel Confusion Matrix**\n"
      ],
      "metadata": {
        "id": "gUM1mX7-cFRQ"
      }
    },
    {
      "cell_type": "markdown",
      "source": [
        "Setelah model dilatih, performanya akan dievaluasi menggunakan data testing.\n"
      ],
      "metadata": {
        "id": "SC7abL3McIis"
      }
    },
    {
      "cell_type": "markdown",
      "source": [
        "### **a. Prediksi pada Data Testing dan Laporan Klasifikasi:**\n"
      ],
      "metadata": {
        "id": "-wphq7PEcLRo"
      }
    },
    {
      "cell_type": "code",
      "source": [
        "# Melakukan prediksi pada data testing menggunakan model terbaik\n",
        "y_pred = best_dt_model.predict(X_test)\n",
        "\n",
        "# Menghitung akurasi model\n",
        "accuracy = accuracy_score(y_test, y_pred)\n",
        "print(f\"Akurasi Model pada Data Testing: {accuracy:.4f}\")\n",
        "\n",
        "# Menampilkan classification report\n",
        "print(\"\\nLaporan Klasifikasi (Classification Report):\")\n",
        "print(classification_report(y_test, y_pred, target_names=['Negative (0)', 'Positive (1)']))"
      ],
      "metadata": {
        "colab": {
          "base_uri": "https://localhost:8080/"
        },
        "id": "QdffIEV3cNRz",
        "outputId": "fb01fe1d-9b4a-42b2-db65-013b7b513ffb"
      },
      "execution_count": 16,
      "outputs": [
        {
          "output_type": "stream",
          "name": "stdout",
          "text": [
            "Akurasi Model pada Data Testing: 0.5952\n",
            "\n",
            "Laporan Klasifikasi (Classification Report):\n",
            "              precision    recall  f1-score   support\n",
            "\n",
            "Negative (0)       0.54      0.81      0.65        78\n",
            "Positive (1)       0.71      0.41      0.52        90\n",
            "\n",
            "    accuracy                           0.60       168\n",
            "   macro avg       0.63      0.61      0.59       168\n",
            "weighted avg       0.63      0.60      0.58       168\n",
            "\n"
          ]
        }
      ]
    },
    {
      "cell_type": "markdown",
      "source": [
        "## **b. Hasil (Parameter Terbaik dan Penjelasan Implisit Entropy/Information Gain):**\n"
      ],
      "metadata": {
        "id": "r_HYn2svdXhn"
      }
    },
    {
      "cell_type": "code",
      "source": [
        "# Menghitung confusion matrix\n",
        "cm = confusion_matrix(y_test, y_pred)\n",
        "\n",
        "# Menampilkan confusion matrix dengan ConfusionMatrixDisplay dan Seaborn\n",
        "plt.figure(figsize=(8, 6))\n",
        "disp = ConfusionMatrixDisplay(confusion_matrix=cm, display_labels=['Negative (0)', 'Positive (1)'])\n",
        "disp.plot(cmap='Blues', values_format='d') # 'd' untuk format integer\n",
        "plt.title('Confusion Matrix')\n",
        "plt.grid(False) # Matikan grid bawaan matplotlib jika menggunakan plot dari sklearn\n",
        "plt.show()\n",
        "\n",
        "print(\"\\nInterpretasi Confusion Matrix:\")\n",
        "print(f\"True Negative (TN): {cm[0,0]} (Prediksi Negatif, Aktual Negatif)\")\n",
        "print(f\"False Positive (FP): {cm[0,1]} (Prediksi Positif, Aktual Negatif - Type I Error)\")\n",
        "print(f\"False Negative (FN): {cm[1,0]} (Prediksi Negatif, Aktual Positif - Type II Error)\")\n",
        "print(f\"True Positive (TP): {cm[1,1]} (Prediksi Positif, Aktual Positif)\")"
      ],
      "metadata": {
        "colab": {
          "base_uri": "https://localhost:8080/",
          "height": 586
        },
        "id": "kf0zR6VQd5te",
        "outputId": "98d43f44-5683-4d9c-fdf1-668fd98952b6"
      },
      "execution_count": 17,
      "outputs": [
        {
          "output_type": "display_data",
          "data": {
            "text/plain": [
              "<Figure size 800x600 with 0 Axes>"
            ]
          },
          "metadata": {}
        },
        {
          "output_type": "display_data",
          "data": {
            "text/plain": [
              "<Figure size 640x480 with 2 Axes>"
            ],
            "image/png": "[encoded data removed]"
          },
          "metadata": {}
        },
        {
          "output_type": "stream",
          "name": "stdout",
          "text": [
            "\n",
            "Interpretasi Confusion Matrix:\n",
            "True Negative (TN): 63 (Prediksi Negatif, Aktual Negatif)\n",
            "False Positive (FP): 15 (Prediksi Positif, Aktual Negatif - Type I Error)\n",
            "False Negative (FN): 53 (Prediksi Negatif, Aktual Positif - Type II Error)\n",
            "True Positive (TP): 37 (Prediksi Positif, Aktual Positif)\n"
          ]
        }
      ]
    },
    {
      "cell_type": "markdown",
      "source": [
        "## **6. Tampilkan Pohon Keputusan**\n"
      ],
      "metadata": {
        "id": "NChboc-9cNta"
      }
    },
    {
      "cell_type": "markdown",
      "source": [
        "Visualisasi pohon keputusan membantu memahami bagaimana model membuat keputusan.\n"
      ],
      "metadata": {
        "id": "ilrBwaW8elWb"
      }
    },
    {
      "cell_type": "markdown",
      "source": [
        "**a. Visualisasi dengan plot_tree (Pohon Lebih Rinci):**\n"
      ],
      "metadata": {
        "id": "1_No9EFMenIu"
      }
    },
    {
      "cell_type": "markdown",
      "source": [
        "Untuk pohon yang sangat besar, visualisasi penuh mungkin tidak praktis. Kita akan membatasi kedalaman yang ditampilkan agar lebih mudah dibaca.\n"
      ],
      "metadata": {
        "id": "k00ZtXR7erUP"
      }
    },
    {
      "cell_type": "code",
      "source": [
        "# Menampilkan pohon keputusan (misalnya, 3 level pertama untuk kejelasan)\n",
        "plt.figure(figsize=(25, 15), dpi=100) # Ukuran bisa disesuaikan\n",
        "plot_tree(\n",
        "    best_dt_model,\n",
        "    filled=True,\n",
        "    feature_names = tfidf.get_feature_names_out(),\n",
        "    class_names=['Negative', 'Positive'],\n",
        "    max_depth=3,          # Batasi kedalaman pohon yang ditampilkan\n",
        "    fontsize=10,          # Ukuran font\n",
        "    proportion=True,      # Tampilkan proporsi sampel, bukan jumlah absolut\n",
        "    rounded=True,         # Node dengan sudut membulat\n",
        "    precision=2           # Jumlah angka di belakang koma untuk nilai\n",
        ")\n",
        "plt.title('Visualisasi Pohon Keputusan (3 Level Pertama)', fontsize=20)\n",
        "plt.show()"
      ],
      "metadata": {
        "id": "vya1spd_ebFC",
        "outputId": "68e408bc-6378-40c4-fb4f-a46d4d049cfe",
        "colab": {
          "base_uri": "https://localhost:8080/",
          "height": 481
        }
      },
      "execution_count": 18,
      "outputs": [
        {
          "output_type": "display_data",
          "data": {
            "text/plain": [
              "<Figure size 2500x1500 with 1 Axes>"
            ],
            "image/png": "[encoded data removed]"
          },
          "metadata": {}
        }
      ]
    }
  ]
}