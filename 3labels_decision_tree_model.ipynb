{
  "nbformat": 4,
  "nbformat_minor": 0,
  "metadata": {
    "colab": {
      "provenance": [],
      "authorship_tag": "ABX9TyMb7pjDCSSn7WcjJcNa/x6H",
      "include_colab_link": true
    },
    "kernelspec": {
      "name": "python3",
      "display_name": "Python 3"
    },
    "language_info": {
      "name": "python"
    }
  },
  "cells": [
    {
      "cell_type": "markdown",
      "metadata": {
        "id": "view-in-github",
        "colab_type": "text"
      },
      "source": [
        "<a href=\"https://colab.research.google.com/github/LatiefDataVisionary/text-mining-and-natural-language-processing-college-task/blob/main/3labels_decision_tree_model.ipynb\" target=\"_parent\"><img src=\"https://colab.research.google.com/assets/colab-badge.svg\" alt=\"Open In Colab\"/></a>"
      ]
    },
    {
      "cell_type": "markdown",
      "source": [
        "## **1. Import Library yang Digunakan**"
      ],
      "metadata": {
        "id": "GSdmPOBN0zBr"
      }
    },
    {
      "cell_type": "markdown",
      "source": [
        "Berikut adalah library yang digunakan dalam proyek klasifikasi teks ini. Setiap library memiliki peran penting dalam tahapan analisis data, mulai dari pemrosesan data hingga pemodelan dan evaluasi.\n"
      ],
      "metadata": {
        "id": "Rw_ELQWn1OXA"
      }
    },
    {
      "cell_type": "code",
      "execution_count": null,
      "metadata": {
        "id": "CqiXz8fA0qwd",
        "colab": {
          "base_uri": "https://localhost:8080/"
        },
        "outputId": "cd3c81c8-1161-4f31-947d-e30ac6b4e369"
      },
      "outputs": [
        {
          "output_type": "stream",
          "name": "stdout",
          "text": [
            "NLTK resource 'wordnet' not found. Downloading...\n",
            "NLTK resource 'omw-1.4' not found. Downloading...\n"
          ]
        },
        {
          "output_type": "stream",
          "name": "stderr",
          "text": [
            "[nltk_data] Downloading package wordnet to /root/nltk_data...\n",
            "[nltk_data]   Package wordnet is already up-to-date!\n",
            "[nltk_data] Downloading package omw-1.4 to /root/nltk_data...\n",
            "[nltk_data]   Package omw-1.4 is already up-to-date!\n"
          ]
        }
      ],
      "source": [
        "import pandas as pd\n",
        "import numpy as np\n",
        "from sklearn.model_selection import train_test_split, GridSearchCV, cross_val_score\n",
        "from sklearn.feature_extraction.text import TfidfVectorizer\n",
        "from sklearn.tree import DecisionTreeClassifier, plot_tree, export_graphviz\n",
        "from sklearn.metrics import (\n",
        "    accuracy_score,\n",
        "    confusion_matrix,\n",
        "    classification_report,\n",
        "    ConfusionMatrixDisplay,\n",
        "    roc_auc_score,\n",
        "    roc_curve\n",
        ")\n",
        "import matplotlib.pyplot as plt\n",
        "import seaborn as sns # Untuk visualisasi yang lebih menarik\n",
        "import graphviz # Untuk visualisasi graphviz\n",
        "import nltk # Untuk pra-pemrosesan teks lebih lanjut\n",
        "from nltk.stem import WordNetLemmatizer # Untuk lemmatization\n",
        "from nltk.corpus import stopwords as nltk_stopwords # Untuk custom stop words\n",
        "\n",
        "# Download resource NLTK yang mungkin dibutuhkan\n",
        "# Catch the LookupError directly when nltk.data.find fails\n",
        "try:\n",
        "    nltk.data.find('corpora/wordnet')\n",
        "except LookupError:\n",
        "    print(\"NLTK resource 'wordnet' not found. Downloading...\")\n",
        "    nltk.download('wordnet')\n",
        "except Exception as e:\n",
        "    print(f\"An unexpected error occurred while checking/downloading 'wordnet': {e}\")\n",
        "\n",
        "try:\n",
        "    nltk.data.find('corpora/omw-1.4')\n",
        "except LookupError:\n",
        "    print(\"NLTK resource 'omw-1.4' not found. Downloading...\")\n",
        "    nltk.download('omw-1.4') # WordNet multilingual resource\n",
        "except Exception as e:\n",
        "    print(f\"An unexpected error occurred while checking/downloading 'omw-1.4': {e}\")\n",
        "\n",
        "try:\n",
        "    nltk.data.find('corpora/stopwords')\n",
        "except LookupError:\n",
        "    print(\"NLTK resource 'stopwords' not found. Downloading...\")\n",
        "    nltk.download('stopwords')\n",
        "except Exception as e:\n",
        "    print(f\"An unexpected error occurred while checking/downloading 'stopwords': {e}\")\n",
        "\n",
        "\n",
        "# Pengaturan umum untuk plot agar lebih menarik\n",
        "plt.style.use('seaborn-v0_8-whitegrid')\n",
        "sns.set_palette(\"viridis\") # Atau palet lain seperti 'pastel', 'muted'"
      ]
    },
    {
      "cell_type": "markdown",
      "source": [
        "Berikut adalah daftar library Python yang di-import untuk menjalankan analisis sentimen menggunakan model Decision Tree ini. Setiap library memainkan peran spesifik dalam alur kerja machine learning, mulai dari pemuatan data, pra-pemrosesan, pemodelan, hingga evaluasi dan visualisasi.\n",
        "\n",
        "*   `pandas` (`pd`): Digunakan untuk manipulasi dan analisis data tabular, terutama untuk memuat dan mengelola dataset.\n",
        "*   `numpy` (`np`): Menyediakan dukungan untuk array dan matriks multidimensi besar, bersama dengan kumpulan fungsi matematika tingkat tinggi untuk beroperasi pada array ini.\n",
        "*   `sklearn.model_selection`:\n",
        "    *   `train_test_split`: Untuk membagi dataset menjadi set pelatihan dan pengujian.\n",
        "    *   `GridSearchCV`: Untuk melakukan pencarian hyperparameter terbaik secara sistematis menggunakan cross-validation.\n",
        "    *   `cross_val_score`: Untuk mengevaluasi performa model menggunakan cross-validation.\n",
        "*   `sklearn.feature_extraction.text`:\n",
        "    *   `TfidfVectorizer`: Untuk mengubah koleksi dokumen teks mentah menjadi matriks fitur TF-IDF.\n",
        "*   `sklearn.tree`:\n",
        "    *   `DecisionTreeClassifier`: Implementasi algoritma Decision Tree untuk klasifikasi.\n",
        "    *   `plot_tree`: Untuk memvisualisasikan pohon keputusan secara langsung menggunakan matplotlib.\n",
        "    *   `export_graphviz`: Untuk mengekspor pohon keputusan dalam format DOT, yang kemudian dapat dirender oleh Graphviz.\n",
        "*   `sklearn.metrics`:\n",
        "    *   `accuracy_score`: Untuk menghitung akurasi klasifikasi.\n",
        "    *   `confusion_matrix`: Untuk menghitung confusion matrix guna mengevaluasi akurasi klasifikasi.\n",
        "    *   `classification_report`: Untuk membangun laporan teks yang menunjukkan metrik klasifikasi utama (precision, recall, F1-score).\n",
        "    *   `ConfusionMatrixDisplay`: Untuk memvisualisasikan confusion matrix.\n",
        "    *   `roc_auc_score` dan `roc_curve`: Untuk mengevaluasi performa model klasifikasi biner menggunakan kurva ROC dan AUC.\n",
        "*   `matplotlib.pyplot` (`plt`): Library plotting 2D yang komprehensif untuk membuat visualisasi statis, animasi, dan interaktif.\n",
        "*   `seaborn` (`sns`): Library visualisasi data Python berbasis matplotlib yang menyediakan antarmuka tingkat tinggi untuk menggambar grafik statistik yang menarik dan informatif.\n",
        "*   `graphviz`: Digunakan untuk merender output dari `export_graphviz` (file DOT) menjadi representasi grafis dari pohon keputusan.\n",
        "*   `nltk` (Natural Language Toolkit): Platform utama untuk membangun program Python untuk bekerja dengan data bahasa manusia.\n",
        "    *   `WordNetLemmatizer`: Untuk melakukan lemmatisasi (mengubah kata ke bentuk dasarnya/lemma).\n",
        "    *   `nltk_stopwords`: Menyediakan daftar stop words umum."
      ],
      "metadata": {
        "id": "MFz8w3sL25Lj"
      }
    },
    {
      "cell_type": "code",
      "source": [
        "# path = 'https://raw.githubusercontent.com/LatiefDataVisionary/text-mining-and-natural-language-processing-college-task/refs/heads/main/datasets/ramadan_labeled_sentiment.csv'\n",
        "# path = 'https://raw.githubusercontent.com/LatiefDataVisionary/text-mining-and-natural-language-processing-college-task/refs/heads/main/datasets/data_3_kelas_real.csv'\n",
        "path = 'https://raw.githubusercontent.com/notnsas/cautious-eureka/refs/heads/main/dataset/data_3_kelas_real.csv'\n",
        "df = pd.read_csv(path)\n",
        "\n",
        "print(f\"Dataset berhasil di-load dari: {path}\")\n",
        "print(f\"Jumlah baris: {df.shape[0]}, Jumlah kolom: {df.shape[1]}\")\n",
        "df.head()"
      ],
      "metadata": {
        "id": "fp_oDcYe3jxK",
        "colab": {
          "base_uri": "https://localhost:8080/",
          "height": 379
        },
        "outputId": "0fd2262a-3bcb-486e-cf7e-13093ba4e527"
      },
      "execution_count": null,
      "outputs": [
        {
          "output_type": "stream",
          "name": "stdout",
          "text": [
            "Dataset berhasil di-load dari: https://raw.githubusercontent.com/notnsas/cautious-eureka/refs/heads/main/dataset/data_3_kelas_real.csv\n",
            "Jumlah baris: 836, Jumlah kolom: 11\n"
          ]
        },
        {
          "output_type": "execute_result",
          "data": {
            "text/plain": [
              "                                         tweet_clean  \\\n",
              "0  ['abraj', 'al', 'bait', 'clock', 'tower', 'bea...   \n",
              "1  ['accounts', 'recognised', 'ramadan', 'none', ...   \n",
              "2  ['admin', 'post', 'peaceful', 'ramadan', 'cele...   \n",
              "3             ['admin', 'post', 'ramadan', 'norway']   \n",
              "4  ['admin', 'post', 'ramadan', 'usual', 'peacefu...   \n",
              "\n",
              "                                               Tweet  sentiment  \\\n",
              "0  abraj al bait clock tower beams indicating com...          2   \n",
              "1  accounts recognised ramadan none recognised be...          2   \n",
              "2  admin post peaceful ramadan celebrations east ...          2   \n",
              "3                          admin post ramadan norway          2   \n",
              "4  admin post ramadan usual peaceful start englan...          2   \n",
              "\n",
              "                                    sentiment_scores    neg    neu    pos  \\\n",
              "0  {'neg': 0.0, 'neu': 1.0, 'pos': 0.0, 'compound...  0.000  1.000  0.000   \n",
              "1  {'neg': 0.147, 'neu': 0.853, 'pos': 0.0, 'comp...  0.147  0.853  0.000   \n",
              "2  {'neg': 0.0, 'neu': 0.714, 'pos': 0.286, 'comp...  0.000  0.714  0.286   \n",
              "3  {'neg': 0.0, 'neu': 1.0, 'pos': 0.0, 'compound...  0.000  1.000  0.000   \n",
              "4  {'neg': 0.0, 'neu': 0.775, 'pos': 0.225, 'comp...  0.000  0.775  0.225   \n",
              "\n",
              "   compound sentiment_label  \\\n",
              "0    0.0000         neutral   \n",
              "1   -0.4767         neutral   \n",
              "2    0.4939         neutral   \n",
              "3    0.0000         neutral   \n",
              "4    0.4939         neutral   \n",
              "\n",
              "                                  text_processed_raw  \\\n",
              "0  abraj al bait clock tower beams indicating com...   \n",
              "1  accounts recognised ramadan none recognised be...   \n",
              "2  admin post peaceful ramadan celebrations east ...   \n",
              "3                          admin post ramadan norway   \n",
              "4  admin post ramadan usual peaceful start englan...   \n",
              "\n",
              "                                      text_processed  \n",
              "0  abraj al bait clock tower beam indicating comm...  \n",
              "1  account recognised ramadan none recognised beg...  \n",
              "2  admin post peaceful ramadan celebration east l...  \n",
              "3                          admin post ramadan norway  \n",
              "4  admin post ramadan usual peaceful start englan...  "
            ],
            "text/html": [
              "\n",
              "  <div id=\"df-e345daaa-1b3e-46dd-8f1c-32177cc9c964\" class=\"colab-df-container\">\n",
              "    <div>\n",
              "<style scoped>\n",
              "    .dataframe tbody tr th:only-of-type {\n",
              "        vertical-align: middle;\n",
              "    }\n",
              "\n",
              "    .dataframe tbody tr th {\n",
              "        vertical-align: top;\n",
              "    }\n",
              "\n",
              "    .dataframe thead th {\n",
              "        text-align: right;\n",
              "    }\n",
              "</style>\n",
              "<table border=\"1\" class=\"dataframe\">\n",
              "  <thead>\n",
              "    <tr style=\"text-align: right;\">\n",
              "      <th></th>\n",
              "      <th>tweet_clean</th>\n",
              "      <th>Tweet</th>\n",
              "      <th>sentiment</th>\n",
              "      <th>sentiment_scores</th>\n",
              "      <th>neg</th>\n",
              "      <th>neu</th>\n",
              "      <th>pos</th>\n",
              "      <th>compound</th>\n",
              "      <th>sentiment_label</th>\n",
              "      <th>text_processed_raw</th>\n",
              "      <th>text_processed</th>\n",
              "    </tr>\n",
              "  </thead>\n",
              "  <tbody>\n",
              "    <tr>\n",
              "      <th>0</th>\n",
              "      <td>['abraj', 'al', 'bait', 'clock', 'tower', 'bea...</td>\n",
              "      <td>abraj al bait clock tower beams indicating com...</td>\n",
              "      <td>2</td>\n",
              "      <td>{'neg': 0.0, 'neu': 1.0, 'pos': 0.0, 'compound...</td>\n",
              "      <td>0.000</td>\n",
              "      <td>1.000</td>\n",
              "      <td>0.000</td>\n",
              "      <td>0.0000</td>\n",
              "      <td>neutral</td>\n",
              "      <td>abraj al bait clock tower beams indicating com...</td>\n",
              "      <td>abraj al bait clock tower beam indicating comm...</td>\n",
              "    </tr>\n",
              "    <tr>\n",
              "      <th>1</th>\n",
              "      <td>['accounts', 'recognised', 'ramadan', 'none', ...</td>\n",
              "      <td>accounts recognised ramadan none recognised be...</td>\n",
              "      <td>2</td>\n",
              "      <td>{'neg': 0.147, 'neu': 0.853, 'pos': 0.0, 'comp...</td>\n",
              "      <td>0.147</td>\n",
              "      <td>0.853</td>\n",
              "      <td>0.000</td>\n",
              "      <td>-0.4767</td>\n",
              "      <td>neutral</td>\n",
              "      <td>accounts recognised ramadan none recognised be...</td>\n",
              "      <td>account recognised ramadan none recognised beg...</td>\n",
              "    </tr>\n",
              "    <tr>\n",
              "      <th>2</th>\n",
              "      <td>['admin', 'post', 'peaceful', 'ramadan', 'cele...</td>\n",
              "      <td>admin post peaceful ramadan celebrations east ...</td>\n",
              "      <td>2</td>\n",
              "      <td>{'neg': 0.0, 'neu': 0.714, 'pos': 0.286, 'comp...</td>\n",
              "      <td>0.000</td>\n",
              "      <td>0.714</td>\n",
              "      <td>0.286</td>\n",
              "      <td>0.4939</td>\n",
              "      <td>neutral</td>\n",
              "      <td>admin post peaceful ramadan celebrations east ...</td>\n",
              "      <td>admin post peaceful ramadan celebration east l...</td>\n",
              "    </tr>\n",
              "    <tr>\n",
              "      <th>3</th>\n",
              "      <td>['admin', 'post', 'ramadan', 'norway']</td>\n",
              "      <td>admin post ramadan norway</td>\n",
              "      <td>2</td>\n",
              "      <td>{'neg': 0.0, 'neu': 1.0, 'pos': 0.0, 'compound...</td>\n",
              "      <td>0.000</td>\n",
              "      <td>1.000</td>\n",
              "      <td>0.000</td>\n",
              "      <td>0.0000</td>\n",
              "      <td>neutral</td>\n",
              "      <td>admin post ramadan norway</td>\n",
              "      <td>admin post ramadan norway</td>\n",
              "    </tr>\n",
              "    <tr>\n",
              "      <th>4</th>\n",
              "      <td>['admin', 'post', 'ramadan', 'usual', 'peacefu...</td>\n",
              "      <td>admin post ramadan usual peaceful start englan...</td>\n",
              "      <td>2</td>\n",
              "      <td>{'neg': 0.0, 'neu': 0.775, 'pos': 0.225, 'comp...</td>\n",
              "      <td>0.000</td>\n",
              "      <td>0.775</td>\n",
              "      <td>0.225</td>\n",
              "      <td>0.4939</td>\n",
              "      <td>neutral</td>\n",
              "      <td>admin post ramadan usual peaceful start englan...</td>\n",
              "      <td>admin post ramadan usual peaceful start englan...</td>\n",
              "    </tr>\n",
              "  </tbody>\n",
              "</table>\n",
              "</div>\n",
              "    <div class=\"colab-df-buttons\">\n",
              "\n",
              "  <div class=\"colab-df-container\">\n",
              "    <button class=\"colab-df-convert\" onclick=\"convertToInteractive('df-e345daaa-1b3e-46dd-8f1c-32177cc9c964')\"\n",
              "            title=\"Convert this dataframe to an interactive table.\"\n",
              "            style=\"display:none;\">\n",
              "\n",
              "  <svg xmlns=\"http://www.w3.org/2000/svg\" height=\"24px\" viewBox=\"0 -960 960 960\">\n",
              "    <path d=\"M120-120v-720h720v720H120Zm60-500h600v-160H180v160Zm220 220h160v-160H400v160Zm0 220h160v-160H400v160ZM180-400h160v-160H180v160Zm440 0h160v-160H620v160ZM180-180h160v-160H180v160Zm440 0h160v-160H620v160Z\"/>\n",
              "  </svg>\n",
              "    </button>\n",
              "\n",
              "  <style>\n",
              "    .colab-df-container {\n",
              "      display:flex;\n",
              "      gap: 12px;\n",
              "    }\n",
              "\n",
              "    .colab-df-convert {\n",
              "      background-color: #E8F0FE;\n",
              "      border: none;\n",
              "      border-radius: 50%;\n",
              "      cursor: pointer;\n",
              "      display: none;\n",
              "      fill: #1967D2;\n",
              "      height: 32px;\n",
              "      padding: 0 0 0 0;\n",
              "      width: 32px;\n",
              "    }\n",
              "\n",
              "    .colab-df-convert:hover {\n",
              "      background-color: #E2EBFA;\n",
              "      box-shadow: 0px 1px 2px rgba(60, 64, 67, 0.3), 0px 1px 3px 1px rgba(60, 64, 67, 0.15);\n",
              "      fill: #174EA6;\n",
              "    }\n",
              "\n",
              "    .colab-df-buttons div {\n",
              "      margin-bottom: 4px;\n",
              "    }\n",
              "\n",
              "    [theme=dark] .colab-df-convert {\n",
              "      background-color: #3B4455;\n",
              "      fill: #D2E3FC;\n",
              "    }\n",
              "\n",
              "    [theme=dark] .colab-df-convert:hover {\n",
              "      background-color: #434B5C;\n",
              "      box-shadow: 0px 1px 3px 1px rgba(0, 0, 0, 0.15);\n",
              "      filter: drop-shadow(0px 1px 2px rgba(0, 0, 0, 0.3));\n",
              "      fill: #FFFFFF;\n",
              "    }\n",
              "  </style>\n",
              "\n",
              "    <script>\n",
              "      const buttonEl =\n",
              "        document.querySelector('#df-e345daaa-1b3e-46dd-8f1c-32177cc9c964 button.colab-df-convert');\n",
              "      buttonEl.style.display =\n",
              "        google.colab.kernel.accessAllowed ? 'block' : 'none';\n",
              "\n",
              "      async function convertToInteractive(key) {\n",
              "        const element = document.querySelector('#df-e345daaa-1b3e-46dd-8f1c-32177cc9c964');\n",
              "        const dataTable =\n",
              "          await google.colab.kernel.invokeFunction('convertToInteractive',\n",
              "                                                    [key], {});\n",
              "        if (!dataTable) return;\n",
              "\n",
              "        const docLinkHtml = 'Like what you see? Visit the ' +\n",
              "          '<a target=\"_blank\" href=https://colab.research.google.com/notebooks/data_table.ipynb>data table notebook</a>'\n",
              "          + ' to learn more about interactive tables.';\n",
              "        element.innerHTML = '';\n",
              "        dataTable['output_type'] = 'display_data';\n",
              "        await google.colab.output.renderOutput(dataTable, element);\n",
              "        const docLink = document.createElement('div');\n",
              "        docLink.innerHTML = docLinkHtml;\n",
              "        element.appendChild(docLink);\n",
              "      }\n",
              "    </script>\n",
              "  </div>\n",
              "\n",
              "\n",
              "    <div id=\"df-0728541b-a469-46dc-a85e-084fd54f3fc2\">\n",
              "      <button class=\"colab-df-quickchart\" onclick=\"quickchart('df-0728541b-a469-46dc-a85e-084fd54f3fc2')\"\n",
              "                title=\"Suggest charts\"\n",
              "                style=\"display:none;\">\n",
              "\n",
              "<svg xmlns=\"http://www.w3.org/2000/svg\" height=\"24px\"viewBox=\"0 0 24 24\"\n",
              "     width=\"24px\">\n",
              "    <g>\n",
              "        <path d=\"M19 3H5c-1.1 0-2 .9-2 2v14c0 1.1.9 2 2 2h14c1.1 0 2-.9 2-2V5c0-1.1-.9-2-2-2zM9 17H7v-7h2v7zm4 0h-2V7h2v10zm4 0h-2v-4h2v4z\"/>\n",
              "    </g>\n",
              "</svg>\n",
              "      </button>\n",
              "\n",
              "<style>\n",
              "  .colab-df-quickchart {\n",
              "      --bg-color: #E8F0FE;\n",
              "      --fill-color: #1967D2;\n",
              "      --hover-bg-color: #E2EBFA;\n",
              "      --hover-fill-color: #174EA6;\n",
              "      --disabled-fill-color: #AAA;\n",
              "      --disabled-bg-color: #DDD;\n",
              "  }\n",
              "\n",
              "  [theme=dark] .colab-df-quickchart {\n",
              "      --bg-color: #3B4455;\n",
              "      --fill-color: #D2E3FC;\n",
              "      --hover-bg-color: #434B5C;\n",
              "      --hover-fill-color: #FFFFFF;\n",
              "      --disabled-bg-color: #3B4455;\n",
              "      --disabled-fill-color: #666;\n",
              "  }\n",
              "\n",
              "  .colab-df-quickchart {\n",
              "    background-color: var(--bg-color);\n",
              "    border: none;\n",
              "    border-radius: 50%;\n",
              "    cursor: pointer;\n",
              "    display: none;\n",
              "    fill: var(--fill-color);\n",
              "    height: 32px;\n",
              "    padding: 0;\n",
              "    width: 32px;\n",
              "  }\n",
              "\n",
              "  .colab-df-quickchart:hover {\n",
              "    background-color: var(--hover-bg-color);\n",
              "    box-shadow: 0 1px 2px rgba(60, 64, 67, 0.3), 0 1px 3px 1px rgba(60, 64, 67, 0.15);\n",
              "    fill: var(--button-hover-fill-color);\n",
              "  }\n",
              "\n",
              "  .colab-df-quickchart-complete:disabled,\n",
              "  .colab-df-quickchart-complete:disabled:hover {\n",
              "    background-color: var(--disabled-bg-color);\n",
              "    fill: var(--disabled-fill-color);\n",
              "    box-shadow: none;\n",
              "  }\n",
              "\n",
              "  .colab-df-spinner {\n",
              "    border: 2px solid var(--fill-color);\n",
              "    border-color: transparent;\n",
              "    border-bottom-color: var(--fill-color);\n",
              "    animation:\n",
              "      spin 1s steps(1) infinite;\n",
              "  }\n",
              "\n",
              "  @keyframes spin {\n",
              "    0% {\n",
              "      border-color: transparent;\n",
              "      border-bottom-color: var(--fill-color);\n",
              "      border-left-color: var(--fill-color);\n",
              "    }\n",
              "    20% {\n",
              "      border-color: transparent;\n",
              "      border-left-color: var(--fill-color);\n",
              "      border-top-color: var(--fill-color);\n",
              "    }\n",
              "    30% {\n",
              "      border-color: transparent;\n",
              "      border-left-color: var(--fill-color);\n",
              "      border-top-color: var(--fill-color);\n",
              "      border-right-color: var(--fill-color);\n",
              "    }\n",
              "    40% {\n",
              "      border-color: transparent;\n",
              "      border-right-color: var(--fill-color);\n",
              "      border-top-color: var(--fill-color);\n",
              "    }\n",
              "    60% {\n",
              "      border-color: transparent;\n",
              "      border-right-color: var(--fill-color);\n",
              "    }\n",
              "    80% {\n",
              "      border-color: transparent;\n",
              "      border-right-color: var(--fill-color);\n",
              "      border-bottom-color: var(--fill-color);\n",
              "    }\n",
              "    90% {\n",
              "      border-color: transparent;\n",
              "      border-bottom-color: var(--fill-color);\n",
              "    }\n",
              "  }\n",
              "</style>\n",
              "\n",
              "      <script>\n",
              "        async function quickchart(key) {\n",
              "          const quickchartButtonEl =\n",
              "            document.querySelector('#' + key + ' button');\n",
              "          quickchartButtonEl.disabled = true;  // To prevent multiple clicks.\n",
              "          quickchartButtonEl.classList.add('colab-df-spinner');\n",
              "          try {\n",
              "            const charts = await google.colab.kernel.invokeFunction(\n",
              "                'suggestCharts', [key], {});\n",
              "          } catch (error) {\n",
              "            console.error('Error during call to suggestCharts:', error);\n",
              "          }\n",
              "          quickchartButtonEl.classList.remove('colab-df-spinner');\n",
              "          quickchartButtonEl.classList.add('colab-df-quickchart-complete');\n",
              "        }\n",
              "        (() => {\n",
              "          let quickchartButtonEl =\n",
              "            document.querySelector('#df-0728541b-a469-46dc-a85e-084fd54f3fc2 button');\n",
              "          quickchartButtonEl.style.display =\n",
              "            google.colab.kernel.accessAllowed ? 'block' : 'none';\n",
              "        })();\n",
              "      </script>\n",
              "    </div>\n",
              "\n",
              "    </div>\n",
              "  </div>\n"
            ],
            "application/vnd.google.colaboratory.intrinsic+json": {
              "type": "dataframe",
              "variable_name": "df",
              "summary": "{\n  \"name\": \"df\",\n  \"rows\": 836,\n  \"fields\": [\n    {\n      \"column\": \"tweet_clean\",\n      \"properties\": {\n        \"dtype\": \"string\",\n        \"num_unique_values\": 836,\n        \"samples\": [\n          \"['ramadan', 'mubarak', 'muslim', 'family', 'around', 'world']\",\n          \"['wishing', 'olympiens', 'around', 'world', 'blessed', 'peaceful', 'ramadan', '', '']\",\n          \"['king', 'charles', 'helping', 'prepare', 'ramadan', 'great', 'britain', 'would', 'eat']\"\n        ],\n        \"semantic_type\": \"\",\n        \"description\": \"\"\n      }\n    },\n    {\n      \"column\": \"Tweet\",\n      \"properties\": {\n        \"dtype\": \"string\",\n        \"num_unique_values\": 836,\n        \"samples\": [\n          \"ramadan mubarak muslim family around world\",\n          \"wishing olympiens around world blessed peaceful ramadan\",\n          \"king charles helping prepare ramadan great britain would eat\"\n        ],\n        \"semantic_type\": \"\",\n        \"description\": \"\"\n      }\n    },\n    {\n      \"column\": \"sentiment\",\n      \"properties\": {\n        \"dtype\": \"number\",\n        \"std\": 0,\n        \"min\": 0,\n        \"max\": 2,\n        \"num_unique_values\": 3,\n        \"samples\": [\n          2,\n          1,\n          0\n        ],\n        \"semantic_type\": \"\",\n        \"description\": \"\"\n      }\n    },\n    {\n      \"column\": \"sentiment_scores\",\n      \"properties\": {\n        \"dtype\": \"string\",\n        \"num_unique_values\": 572,\n        \"samples\": [\n          \"{'neg': 0.268, 'neu': 0.732, 'pos': 0.0, 'compound': -0.296}\",\n          \"{'neg': 0.0, 'neu': 0.503, 'pos': 0.497, 'compound': 0.9413}\",\n          \"{'neg': 0.128, 'neu': 0.575, 'pos': 0.296, 'compound': 0.5859}\"\n        ],\n        \"semantic_type\": \"\",\n        \"description\": \"\"\n      }\n    },\n    {\n      \"column\": \"neg\",\n      \"properties\": {\n        \"dtype\": \"number\",\n        \"std\": 0.12690919569443948,\n        \"min\": 0.0,\n        \"max\": 0.747,\n        \"num_unique_values\": 192,\n        \"samples\": [\n          0.195,\n          0.262,\n          0.384\n        ],\n        \"semantic_type\": \"\",\n        \"description\": \"\"\n      }\n    },\n    {\n      \"column\": \"neu\",\n      \"properties\": {\n        \"dtype\": \"number\",\n        \"std\": 0.2264602671078858,\n        \"min\": 0.095,\n        \"max\": 1.0,\n        \"num_unique_values\": 366,\n        \"samples\": [\n          0.48,\n          0.506,\n          0.39\n        ],\n        \"semantic_type\": \"\",\n        \"description\": \"\"\n      }\n    },\n    {\n      \"column\": \"pos\",\n      \"properties\": {\n        \"dtype\": \"number\",\n        \"std\": 0.22091634423279963,\n        \"min\": 0.0,\n        \"max\": 0.905,\n        \"num_unique_values\": 350,\n        \"samples\": [\n          0.355,\n          0.623,\n          0.092\n        ],\n        \"semantic_type\": \"\",\n        \"description\": \"\"\n      }\n    },\n    {\n      \"column\": \"compound\",\n      \"properties\": {\n        \"dtype\": \"number\",\n        \"std\": 0.486628700627626,\n        \"min\": -0.9761,\n        \"max\": 0.9831,\n        \"num_unique_values\": 218,\n        \"samples\": [\n          0.9062,\n          0.9432,\n          0.0772\n        ],\n        \"semantic_type\": \"\",\n        \"description\": \"\"\n      }\n    },\n    {\n      \"column\": \"sentiment_label\",\n      \"properties\": {\n        \"dtype\": \"category\",\n        \"num_unique_values\": 3,\n        \"samples\": [\n          \"neutral\",\n          \"positive\",\n          \"negative\"\n        ],\n        \"semantic_type\": \"\",\n        \"description\": \"\"\n      }\n    },\n    {\n      \"column\": \"text_processed_raw\",\n      \"properties\": {\n        \"dtype\": \"string\",\n        \"num_unique_values\": 836,\n        \"samples\": [\n          \"ramadan mubarak muslim family around world\",\n          \"wishing olympiens around world blessed peaceful ramadan  \",\n          \"king charles helping prepare ramadan great britain would eat\"\n        ],\n        \"semantic_type\": \"\",\n        \"description\": \"\"\n      }\n    },\n    {\n      \"column\": \"text_processed\",\n      \"properties\": {\n        \"dtype\": \"string\",\n        \"num_unique_values\": 836,\n        \"samples\": [\n          \"ramadan mubarak muslim family around world\",\n          \"wishing olympiens around world blessed peaceful ramadan\",\n          \"king charles helping prepare ramadan great britain would eat\"\n        ],\n        \"semantic_type\": \"\",\n        \"description\": \"\"\n      }\n    }\n  ]\n}"
            }
          },
          "metadata": {},
          "execution_count": 2
        }
      ]
    },
    {
      "cell_type": "markdown",
      "source": [
        "## **- Tahap Pra-Pemrosesan Data (Data Preprocessing)**\n"
      ],
      "metadata": {
        "id": "LOtzx4mM5Wi-"
      }
    },
    {
      "cell_type": "markdown",
      "source": [
        "### **c. Pemrosesan Kolom Teks Fitur (Lemmatization dan Stop Word Removal):**\n"
      ],
      "metadata": {
        "id": "dlzinbP19oYL"
      }
    },
    {
      "cell_type": "markdown",
      "source": [
        "Kolom `tweet_clean` saat ini tampaknya berisi string yang merepresentasikan list. Ini perlu diubah menjadi string tunggal dari kata-kata yang digabungkan.\n"
      ],
      "metadata": {
        "id": "w8JPlYMN9ssH"
      }
    },
    {
      "cell_type": "code",
      "source": [
        "# Fungsi untuk menggabungkan list kata menjadi string\n",
        "def join_text_list(text_list_str):\n",
        "    if isinstance(text_list_str, str):\n",
        "        try:\n",
        "            actual_list = eval(text_list_str)\n",
        "            if isinstance(actual_list, list):\n",
        "                return ' '.join(actual_list)\n",
        "            else:\n",
        "                # Jika eval menghasilkan bukan list (misalnya, sudah string utuh)\n",
        "                return str(text_list_str) # Kembalikan sebagai string\n",
        "        except Exception: # Tangkap error lebih umum dari eval\n",
        "            return str(text_list_str) # Kembalikan string aslinya jika eval gagal\n",
        "    elif isinstance(text_list_str, list):\n",
        "        return ' '.join(text_list_str)\n",
        "    return str(text_list_str) # Pastikan output selalu string\n",
        "\n",
        "df['text_processed_raw'] = df['tweet_clean'].apply(join_text_list)\n",
        "\n",
        "# Inisialisasi Lemmatizer dan Stop Words\n",
        "lemmatizer = WordNetLemmatizer()\n",
        "english_stopwords = set(nltk_stopwords.words('english'))\n",
        "# Anda bisa tambahkan custom stop words di sini jika perlu\n",
        "# custom_stopwords = {'ramadan', 'mubarak', ...}\n",
        "# all_stopwords = english_stopwords.union(custom_stopwords)\n",
        "\n",
        "def preprocess_text_advanced(text):\n",
        "    if not isinstance(text, str): # Pastikan input adalah string\n",
        "        return \"\"\n",
        "    words = text.split() # Tokenisasi sederhana\n",
        "    # Lemmatisasi dan penghapusan stop words\n",
        "    processed_words = [lemmatizer.lemmatize(word.lower()) for word in words if word.lower() not in english_stopwords and word.isalpha()] # Hanya ambil kata alpha\n",
        "    return ' '.join(processed_words)\n",
        "\n",
        "print(\"\\nMenerapkan pra-pemrosesan teks lanjutan (lemmatization, stop word removal)...\")\n",
        "df['text_processed'] = df['text_processed_raw'].apply(preprocess_text_advanced)\n",
        "\n",
        "print(\"\\nContoh hasil 'text_processed' setelah pra-pemrosesan lanjutan:\")\n",
        "display(df[['tweet_clean', 'text_processed_raw', 'text_processed']].head())"
      ],
      "metadata": {
        "colab": {
          "base_uri": "https://localhost:8080/",
          "height": 275
        },
        "id": "Pffi7RJI9rnk",
        "outputId": "95cd856f-114e-4001-d27a-e39c2f6c7931"
      },
      "execution_count": null,
      "outputs": [
        {
          "output_type": "stream",
          "name": "stdout",
          "text": [
            "\n",
            "Menerapkan pra-pemrosesan teks lanjutan (lemmatization, stop word removal)...\n",
            "\n",
            "Contoh hasil 'text_processed' setelah pra-pemrosesan lanjutan:\n"
          ]
        },
        {
          "output_type": "display_data",
          "data": {
            "text/plain": [
              "                                         tweet_clean  \\\n",
              "0  ['abraj', 'al', 'bait', 'clock', 'tower', 'bea...   \n",
              "1  ['accounts', 'recognised', 'ramadan', 'none', ...   \n",
              "2  ['admin', 'post', 'peaceful', 'ramadan', 'cele...   \n",
              "3             ['admin', 'post', 'ramadan', 'norway']   \n",
              "4  ['admin', 'post', 'ramadan', 'usual', 'peacefu...   \n",
              "\n",
              "                                  text_processed_raw  \\\n",
              "0  abraj al bait clock tower beams indicating com...   \n",
              "1  accounts recognised ramadan none recognised be...   \n",
              "2  admin post peaceful ramadan celebrations east ...   \n",
              "3                          admin post ramadan norway   \n",
              "4  admin post ramadan usual peaceful start englan...   \n",
              "\n",
              "                                      text_processed  \n",
              "0  abraj al bait clock tower beam indicating comm...  \n",
              "1  account recognised ramadan none recognised beg...  \n",
              "2  admin post peaceful ramadan celebration east l...  \n",
              "3                          admin post ramadan norway  \n",
              "4  admin post ramadan usual peaceful start englan...  "
            ],
            "text/html": [
              "\n",
              "  <div id=\"df-48417c17-78c0-4699-a72d-cc2ecfc65b74\" class=\"colab-df-container\">\n",
              "    <div>\n",
              "<style scoped>\n",
              "    .dataframe tbody tr th:only-of-type {\n",
              "        vertical-align: middle;\n",
              "    }\n",
              "\n",
              "    .dataframe tbody tr th {\n",
              "        vertical-align: top;\n",
              "    }\n",
              "\n",
              "    .dataframe thead th {\n",
              "        text-align: right;\n",
              "    }\n",
              "</style>\n",
              "<table border=\"1\" class=\"dataframe\">\n",
              "  <thead>\n",
              "    <tr style=\"text-align: right;\">\n",
              "      <th></th>\n",
              "      <th>tweet_clean</th>\n",
              "      <th>text_processed_raw</th>\n",
              "      <th>text_processed</th>\n",
              "    </tr>\n",
              "  </thead>\n",
              "  <tbody>\n",
              "    <tr>\n",
              "      <th>0</th>\n",
              "      <td>['abraj', 'al', 'bait', 'clock', 'tower', 'bea...</td>\n",
              "      <td>abraj al bait clock tower beams indicating com...</td>\n",
              "      <td>abraj al bait clock tower beam indicating comm...</td>\n",
              "    </tr>\n",
              "    <tr>\n",
              "      <th>1</th>\n",
              "      <td>['accounts', 'recognised', 'ramadan', 'none', ...</td>\n",
              "      <td>accounts recognised ramadan none recognised be...</td>\n",
              "      <td>account recognised ramadan none recognised beg...</td>\n",
              "    </tr>\n",
              "    <tr>\n",
              "      <th>2</th>\n",
              "      <td>['admin', 'post', 'peaceful', 'ramadan', 'cele...</td>\n",
              "      <td>admin post peaceful ramadan celebrations east ...</td>\n",
              "      <td>admin post peaceful ramadan celebration east l...</td>\n",
              "    </tr>\n",
              "    <tr>\n",
              "      <th>3</th>\n",
              "      <td>['admin', 'post', 'ramadan', 'norway']</td>\n",
              "      <td>admin post ramadan norway</td>\n",
              "      <td>admin post ramadan norway</td>\n",
              "    </tr>\n",
              "    <tr>\n",
              "      <th>4</th>\n",
              "      <td>['admin', 'post', 'ramadan', 'usual', 'peacefu...</td>\n",
              "      <td>admin post ramadan usual peaceful start englan...</td>\n",
              "      <td>admin post ramadan usual peaceful start englan...</td>\n",
              "    </tr>\n",
              "  </tbody>\n",
              "</table>\n",
              "</div>\n",
              "    <div class=\"colab-df-buttons\">\n",
              "\n",
              "  <div class=\"colab-df-container\">\n",
              "    <button class=\"colab-df-convert\" onclick=\"convertToInteractive('df-48417c17-78c0-4699-a72d-cc2ecfc65b74')\"\n",
              "            title=\"Convert this dataframe to an interactive table.\"\n",
              "            style=\"display:none;\">\n",
              "\n",
              "  <svg xmlns=\"http://www.w3.org/2000/svg\" height=\"24px\" viewBox=\"0 -960 960 960\">\n",
              "    <path d=\"M120-120v-720h720v720H120Zm60-500h600v-160H180v160Zm220 220h160v-160H400v160Zm0 220h160v-160H400v160ZM180-400h160v-160H180v160Zm440 0h160v-160H620v160ZM180-180h160v-160H180v160Zm440 0h160v-160H620v160Z\"/>\n",
              "  </svg>\n",
              "    </button>\n",
              "\n",
              "  <style>\n",
              "    .colab-df-container {\n",
              "      display:flex;\n",
              "      gap: 12px;\n",
              "    }\n",
              "\n",
              "    .colab-df-convert {\n",
              "      background-color: #E8F0FE;\n",
              "      border: none;\n",
              "      border-radius: 50%;\n",
              "      cursor: pointer;\n",
              "      display: none;\n",
              "      fill: #1967D2;\n",
              "      height: 32px;\n",
              "      padding: 0 0 0 0;\n",
              "      width: 32px;\n",
              "    }\n",
              "\n",
              "    .colab-df-convert:hover {\n",
              "      background-color: #E2EBFA;\n",
              "      box-shadow: 0px 1px 2px rgba(60, 64, 67, 0.3), 0px 1px 3px 1px rgba(60, 64, 67, 0.15);\n",
              "      fill: #174EA6;\n",
              "    }\n",
              "\n",
              "    .colab-df-buttons div {\n",
              "      margin-bottom: 4px;\n",
              "    }\n",
              "\n",
              "    [theme=dark] .colab-df-convert {\n",
              "      background-color: #3B4455;\n",
              "      fill: #D2E3FC;\n",
              "    }\n",
              "\n",
              "    [theme=dark] .colab-df-convert:hover {\n",
              "      background-color: #434B5C;\n",
              "      box-shadow: 0px 1px 3px 1px rgba(0, 0, 0, 0.15);\n",
              "      filter: drop-shadow(0px 1px 2px rgba(0, 0, 0, 0.3));\n",
              "      fill: #FFFFFF;\n",
              "    }\n",
              "  </style>\n",
              "\n",
              "    <script>\n",
              "      const buttonEl =\n",
              "        document.querySelector('#df-48417c17-78c0-4699-a72d-cc2ecfc65b74 button.colab-df-convert');\n",
              "      buttonEl.style.display =\n",
              "        google.colab.kernel.accessAllowed ? 'block' : 'none';\n",
              "\n",
              "      async function convertToInteractive(key) {\n",
              "        const element = document.querySelector('#df-48417c17-78c0-4699-a72d-cc2ecfc65b74');\n",
              "        const dataTable =\n",
              "          await google.colab.kernel.invokeFunction('convertToInteractive',\n",
              "                                                    [key], {});\n",
              "        if (!dataTable) return;\n",
              "\n",
              "        const docLinkHtml = 'Like what you see? Visit the ' +\n",
              "          '<a target=\"_blank\" href=https://colab.research.google.com/notebooks/data_table.ipynb>data table notebook</a>'\n",
              "          + ' to learn more about interactive tables.';\n",
              "        element.innerHTML = '';\n",
              "        dataTable['output_type'] = 'display_data';\n",
              "        await google.colab.output.renderOutput(dataTable, element);\n",
              "        const docLink = document.createElement('div');\n",
              "        docLink.innerHTML = docLinkHtml;\n",
              "        element.appendChild(docLink);\n",
              "      }\n",
              "    </script>\n",
              "  </div>\n",
              "\n",
              "\n",
              "    <div id=\"df-11597679-75de-4ef1-8a5a-256e3ac42c52\">\n",
              "      <button class=\"colab-df-quickchart\" onclick=\"quickchart('df-11597679-75de-4ef1-8a5a-256e3ac42c52')\"\n",
              "                title=\"Suggest charts\"\n",
              "                style=\"display:none;\">\n",
              "\n",
              "<svg xmlns=\"http://www.w3.org/2000/svg\" height=\"24px\"viewBox=\"0 0 24 24\"\n",
              "     width=\"24px\">\n",
              "    <g>\n",
              "        <path d=\"M19 3H5c-1.1 0-2 .9-2 2v14c0 1.1.9 2 2 2h14c1.1 0 2-.9 2-2V5c0-1.1-.9-2-2-2zM9 17H7v-7h2v7zm4 0h-2V7h2v10zm4 0h-2v-4h2v4z\"/>\n",
              "    </g>\n",
              "</svg>\n",
              "      </button>\n",
              "\n",
              "<style>\n",
              "  .colab-df-quickchart {\n",
              "      --bg-color: #E8F0FE;\n",
              "      --fill-color: #1967D2;\n",
              "      --hover-bg-color: #E2EBFA;\n",
              "      --hover-fill-color: #174EA6;\n",
              "      --disabled-fill-color: #AAA;\n",
              "      --disabled-bg-color: #DDD;\n",
              "  }\n",
              "\n",
              "  [theme=dark] .colab-df-quickchart {\n",
              "      --bg-color: #3B4455;\n",
              "      --fill-color: #D2E3FC;\n",
              "      --hover-bg-color: #434B5C;\n",
              "      --hover-fill-color: #FFFFFF;\n",
              "      --disabled-bg-color: #3B4455;\n",
              "      --disabled-fill-color: #666;\n",
              "  }\n",
              "\n",
              "  .colab-df-quickchart {\n",
              "    background-color: var(--bg-color);\n",
              "    border: none;\n",
              "    border-radius: 50%;\n",
              "    cursor: pointer;\n",
              "    display: none;\n",
              "    fill: var(--fill-color);\n",
              "    height: 32px;\n",
              "    padding: 0;\n",
              "    width: 32px;\n",
              "  }\n",
              "\n",
              "  .colab-df-quickchart:hover {\n",
              "    background-color: var(--hover-bg-color);\n",
              "    box-shadow: 0 1px 2px rgba(60, 64, 67, 0.3), 0 1px 3px 1px rgba(60, 64, 67, 0.15);\n",
              "    fill: var(--button-hover-fill-color);\n",
              "  }\n",
              "\n",
              "  .colab-df-quickchart-complete:disabled,\n",
              "  .colab-df-quickchart-complete:disabled:hover {\n",
              "    background-color: var(--disabled-bg-color);\n",
              "    fill: var(--disabled-fill-color);\n",
              "    box-shadow: none;\n",
              "  }\n",
              "\n",
              "  .colab-df-spinner {\n",
              "    border: 2px solid var(--fill-color);\n",
              "    border-color: transparent;\n",
              "    border-bottom-color: var(--fill-color);\n",
              "    animation:\n",
              "      spin 1s steps(1) infinite;\n",
              "  }\n",
              "\n",
              "  @keyframes spin {\n",
              "    0% {\n",
              "      border-color: transparent;\n",
              "      border-bottom-color: var(--fill-color);\n",
              "      border-left-color: var(--fill-color);\n",
              "    }\n",
              "    20% {\n",
              "      border-color: transparent;\n",
              "      border-left-color: var(--fill-color);\n",
              "      border-top-color: var(--fill-color);\n",
              "    }\n",
              "    30% {\n",
              "      border-color: transparent;\n",
              "      border-left-color: var(--fill-color);\n",
              "      border-top-color: var(--fill-color);\n",
              "      border-right-color: var(--fill-color);\n",
              "    }\n",
              "    40% {\n",
              "      border-color: transparent;\n",
              "      border-right-color: var(--fill-color);\n",
              "      border-top-color: var(--fill-color);\n",
              "    }\n",
              "    60% {\n",
              "      border-color: transparent;\n",
              "      border-right-color: var(--fill-color);\n",
              "    }\n",
              "    80% {\n",
              "      border-color: transparent;\n",
              "      border-right-color: var(--fill-color);\n",
              "      border-bottom-color: var(--fill-color);\n",
              "    }\n",
              "    90% {\n",
              "      border-color: transparent;\n",
              "      border-bottom-color: var(--fill-color);\n",
              "    }\n",
              "  }\n",
              "</style>\n",
              "\n",
              "      <script>\n",
              "        async function quickchart(key) {\n",
              "          const quickchartButtonEl =\n",
              "            document.querySelector('#' + key + ' button');\n",
              "          quickchartButtonEl.disabled = true;  // To prevent multiple clicks.\n",
              "          quickchartButtonEl.classList.add('colab-df-spinner');\n",
              "          try {\n",
              "            const charts = await google.colab.kernel.invokeFunction(\n",
              "                'suggestCharts', [key], {});\n",
              "          } catch (error) {\n",
              "            console.error('Error during call to suggestCharts:', error);\n",
              "          }\n",
              "          quickchartButtonEl.classList.remove('colab-df-spinner');\n",
              "          quickchartButtonEl.classList.add('colab-df-quickchart-complete');\n",
              "        }\n",
              "        (() => {\n",
              "          let quickchartButtonEl =\n",
              "            document.querySelector('#df-11597679-75de-4ef1-8a5a-256e3ac42c52 button');\n",
              "          quickchartButtonEl.style.display =\n",
              "            google.colab.kernel.accessAllowed ? 'block' : 'none';\n",
              "        })();\n",
              "      </script>\n",
              "    </div>\n",
              "\n",
              "    </div>\n",
              "  </div>\n"
            ],
            "application/vnd.google.colaboratory.intrinsic+json": {
              "type": "dataframe",
              "summary": "{\n  \"name\": \"display(df[['tweet_clean', 'text_processed_raw', 'text_processed']]\",\n  \"rows\": 5,\n  \"fields\": [\n    {\n      \"column\": \"tweet_clean\",\n      \"properties\": {\n        \"dtype\": \"string\",\n        \"num_unique_values\": 5,\n        \"samples\": [\n          \"['accounts', 'recognised', 'ramadan', 'none', 'recognised', 'beginning', 'lent', 'even', 'nod', 'pancakes', 'shrove', 'tuesday', 'britain', 'christian', 'country', 'wake', 'britons', 'everything', 'attack']\",\n          \"['admin', 'post', 'ramadan', 'usual', 'peaceful', 'start', 'england s', 'second', 'largest', 'city', 'birmingham']\",\n          \"['admin', 'post', 'peaceful', 'ramadan', 'celebrations', 'east', 'london', 'last', 'night']\"\n        ],\n        \"semantic_type\": \"\",\n        \"description\": \"\"\n      }\n    },\n    {\n      \"column\": \"text_processed_raw\",\n      \"properties\": {\n        \"dtype\": \"string\",\n        \"num_unique_values\": 5,\n        \"samples\": [\n          \"accounts recognised ramadan none recognised beginning lent even nod pancakes shrove tuesday britain christian country wake britons everything attack\",\n          \"admin post ramadan usual peaceful start england s second largest city birmingham\",\n          \"admin post peaceful ramadan celebrations east london last night\"\n        ],\n        \"semantic_type\": \"\",\n        \"description\": \"\"\n      }\n    },\n    {\n      \"column\": \"text_processed\",\n      \"properties\": {\n        \"dtype\": \"string\",\n        \"num_unique_values\": 5,\n        \"samples\": [\n          \"account recognised ramadan none recognised beginning lent even nod pancake shrove tuesday britain christian country wake briton everything attack\",\n          \"admin post ramadan usual peaceful start england second largest city birmingham\",\n          \"admin post peaceful ramadan celebration east london last night\"\n        ],\n        \"semantic_type\": \"\",\n        \"description\": \"\"\n      }\n    }\n  ]\n}"
            }
          },
          "metadata": {}
        }
      ]
    },
    {
      "cell_type": "markdown",
      "source": [
        "## **- Tahap Ekstraksi Fitur (TF-IDF Vectorization)**"
      ],
      "metadata": {
        "id": "gIbKYKOb98Au"
      }
    },
    {
      "cell_type": "markdown",
      "source": [
        "Setelah pra-pemrosesan dasar, teks perlu diubah menjadi format numerik yang dapat dipahami oleh model. TF-IDF (Term Frequency-Inverse Document Frequency) adalah teknik yang umum digunakan untuk ini.\n"
      ],
      "metadata": {
        "id": "WHh0x4IC-AJZ"
      }
    },
    {
      "cell_type": "code",
      "source": [
        "# Kita bisa coba tuning parameter TF-IDF ini nantinya jika akurasi masih kurang\n",
        "tfidf = TfidfVectorizer(\n",
        "    max_features=1500,    # Coba tingkatkan jumlah fitur\n",
        "    ngram_range=(1, 2),   # Tetap pertimbangkan unigram dan bigram\n",
        "    stop_words='english', # Stop words sudah ditangani sebagian di pra-pemrosesan, tapi bisa tetap di sini\n",
        "    min_df=1,             # Abaikan term yang muncul di kurang dari 1 document (include all terms)\n",
        "    max_df=0.99           # Abaikan term yang muncul di lebih dari 99% dokumen (only exclude extremely common terms)\n",
        ")\n",
        "\n",
        "# Use 'sentiment_label' column for the target variable as 'sentiment' has many NaNs\n",
        "df_cleaned = df.dropna(subset=['sentiment_label']).copy() # Add .copy() to avoid SettingWithCopyWarning\n",
        "\n",
        "# Map sentiment labels to numerical values\n",
        "sentiment_mapping = {'negative': 0, 'neutral': 1, 'positive': 2}\n",
        "df_cleaned['sentiment_label_encoded'] = df_cleaned['sentiment_label'].map(sentiment_mapping)\n",
        "\n",
        "X = tfidf.fit_transform(df_cleaned['text_processed'])\n",
        "y = df_cleaned['sentiment_label_encoded'].astype(int) # Use the encoded column and ensure y is integer\n",
        "\n",
        "print(f\"Shape dari matriks fitur X (setelah TF-IDF): {X.shape}\")\n",
        "print(f\"Shape dari vektor target y: {y.shape}\")\n",
        "\n",
        "# Menampilkan jumlah fitur actual yang digunakan\n",
        "print(f\"Jumlah fitur actual yang digunakan oleh TF-IDF: {len(tfidf.get_feature_names_out())}\")\n",
        "print(\"\\nContoh beberapa fitur teratas:\")\n",
        "print(list(tfidf.get_feature_names_out())[:20])"
      ],
      "metadata": {
        "colab": {
          "base_uri": "https://localhost:8080/"
        },
        "id": "I0pVI6pn-L9K",
        "outputId": "096055dc-9ebd-4ab8-cc2b-19a5e70c9b62"
      },
      "execution_count": null,
      "outputs": [
        {
          "output_type": "stream",
          "name": "stdout",
          "text": [
            "Shape dari matriks fitur X (setelah TF-IDF): (836, 1500)\n",
            "Shape dari vektor target y: (836,)\n",
            "Jumlah fitur actual yang digunakan oleh TF-IDF: 1500\n",
            "\n",
            "Contoh beberapa fitur teratas:\n",
            "['aameen', 'abeokuta', 'able', 'absolutely', 'abu', 'accept', 'accepted', 'according', 'account', 'act', 'act worship', 'action', 'activist', 'activity', 'additionally', 'admin', 'admin post', 'ago', 'ah', 'ahead']\n"
          ]
        }
      ]
    },
    {
      "cell_type": "markdown",
      "source": [
        "## **3. Pemrosesan Pembagian (Split Data) Data Training dan Data Testing**\n"
      ],
      "metadata": {
        "id": "AXYvyT5O-Ob8"
      }
    },
    {
      "cell_type": "markdown",
      "source": [
        "Dataset akan dibagi menjadi dua bagian: data training (untuk melatih model) dan data testing (untuk menguji performa model pada data yang belum pernah dilihat sebelumnya).\n"
      ],
      "metadata": {
        "id": "b2oqFV02-xoy"
      }
    },
    {
      "cell_type": "code",
      "source": [
        "X_train, X_test, y_train, y_test = train_test_split(\n",
        "    X, y,\n",
        "    test_size=0.25,  # 25% data digunakan untuk testing\n",
        "    random_state=42,  # Untuk reproduktifitas hasil\n",
        "    stratify=y  # Mempertahankan proporsi kelas sentimen pada data training dan testing\n",
        ")\n",
        "\n",
        "print(\"Ukuran Data Setelah Pembagian:\")\n",
        "print(f\"X_train shape: {X_train.shape}, y_train shape: {y_train.shape}\")\n",
        "print(f\"X_test shape: {X_test.shape}, y_test shape: {y_test.shape}\")\n",
        "\n",
        "print(\"\\nDistribusi kelas pada data training (proporsi):\")\n",
        "print(y_train.value_counts(normalize=True))\n",
        "print(y_train.value_counts())\n",
        "\n",
        "print(\"\\nDistribusi kelas pada data testing (proporsi):\")\n",
        "print(y_test.value_counts(normalize=True))\n",
        "print(y_test.value_counts())"
      ],
      "metadata": {
        "colab": {
          "base_uri": "https://localhost:8080/"
        },
        "id": "qIQn2T4e-OG1",
        "outputId": "9b89cfa1-ec87-4110-cad1-ba0098ab9dc9"
      },
      "execution_count": null,
      "outputs": [
        {
          "output_type": "stream",
          "name": "stdout",
          "text": [
            "Ukuran Data Setelah Pembagian:\n",
            "X_train shape: (627, 1500), y_train shape: (627,)\n",
            "X_test shape: (209, 1500), y_test shape: (209,)\n",
            "\n",
            "Distribusi kelas pada data training (proporsi):\n",
            "sentiment_label_encoded\n",
            "1    0.829346\n",
            "2    0.149920\n",
            "0    0.020734\n",
            "Name: proportion, dtype: float64\n",
            "sentiment_label_encoded\n",
            "1    520\n",
            "2     94\n",
            "0     13\n",
            "Name: count, dtype: int64\n",
            "\n",
            "Distribusi kelas pada data testing (proporsi):\n",
            "sentiment_label_encoded\n",
            "1    0.827751\n",
            "2    0.153110\n",
            "0    0.019139\n",
            "Name: proportion, dtype: float64\n",
            "sentiment_label_encoded\n",
            "1    173\n",
            "2     32\n",
            "0      4\n",
            "Name: count, dtype: int64\n"
          ]
        }
      ]
    },
    {
      "cell_type": "markdown",
      "source": [
        "## **4. Pemodelan Decision Tree (Perhitungan Entropy sampai dengan Information Gain)**\n"
      ],
      "metadata": {
        "id": "QLZNYU5hbjsX"
      }
    },
    {
      "cell_type": "markdown",
      "source": [
        "Model Decision Tree akan dilatih menggunakan data training. Scikit-learn secara internal menangani perhitungan entropy/information gain saat membangun pohon. Kita akan menggunakan `GridSearchCV` untuk menemukan hyperparameter terbaik untuk model Decision Tree.\n"
      ],
      "metadata": {
        "id": "TvChxA9Cbv5N"
      }
    },
    {
      "cell_type": "markdown",
      "source": [
        "Pelatihan Model dengan Hyperparameter Tuning"
      ],
      "metadata": {
        "id": "YaczP7kKcTHZ"
      }
    },
    {
      "cell_type": "code",
      "source": [
        "# Mendefinisikan grid parameter yang akan diuji, dengan rentang yang lebih luas\n",
        "# dan penambahan class_weight untuk menangani potensi imbalance\n",
        "param_grid_dt = {\n",
        "    'criterion': ['entropy', 'gini'],\n",
        "    'max_depth': [None, 10, 20, 30, 40, 50],\n",
        "    'min_samples_split': [2, 5, 10, 15, 20, 25, 30], # Kami coba perluas rentangnya\n",
        "    'min_samples_leaf': [1, 2, 4, 6, 8],\n",
        "    'class_weight': [None, 'balanced'],\n",
        "    'ccp_alpha': [0.0, 0.001, 0.005, 0.01] # Cost-Complexity Pruning, bisa dicoba\n",
        "}\n",
        "\n",
        "## Kombinasi terbaik:\n",
        "# {'class_weight': None, 'criterion': 'entropy', 'max_depth': 10, 'min_samples_leaf': 1, 'min_samples_split': 15}\n",
        "\n",
        "\n",
        "dt_model = DecisionTreeClassifier(random_state=42)\n",
        "\n",
        "grid_search_dt = GridSearchCV(\n",
        "    estimator=dt_model,\n",
        "    param_grid=param_grid_dt,\n",
        "    cv=5, # 5-fold cross-validation\n",
        "    scoring='accuracy', # Metrik evaluasi utama\n",
        "    n_jobs=-1, # Gunakan semua core CPU\n",
        "    verbose=1 # Tampilkan log\n",
        ")\n",
        "\n",
        "\n",
        "print(\"Memulai GridSearchCV untuk Decision Tree...\")\n",
        "grid_search_dt.fit(X_train, y_train)\n",
        "\n",
        "best_dt_model = grid_search_dt.best_estimator_\n",
        "print(\"\\nGridSearchCV selesai.\")\n",
        "\n",
        "print(\"Parameter terbaik yang ditemukan untuk Decision Tree:\")\n",
        "print(grid_search_dt.best_params_)\n",
        "\n",
        "print(f\"\\nSkor akurasi cross-validation terbaik untuk Decision Tree: {grid_search_dt.best_score_:.4f}\")\n",
        "\n",
        "print(\"\\nPenjelasan Terkait Pemilihan Split pada Decision Tree:\")\n",
        "print(\"Model Decision Tree yang dilatih menggunakan kriteria impurity untuk menentukan split terbaik pada setiap node.\")\n",
        "print(f\"Kriteria impurity yang dipilih oleh GridSearchCV untuk model terbaik ini adalah: '{best_dt_model.criterion}'.\")\n",
        "if best_dt_model.criterion == 'entropy':\n",
        "    print(\"   - Dengan kriteria 'entropy', model bertujuan untuk memaksimalkan Information Gain.\")\n",
        "    print(\"   - Information Gain mengukur pengurangan ketidakpastian setelah dataset di-split berdasarkan sebuah atribut.\")\n",
        "    print(\"   - Dihitung sebagai: IG(D, A) = Entropy(D) - Σ (|Dv| / |D|) * Entropy(Dv).\")\n",
        "elif best_dt_model.criterion == 'gini':\n",
        "    print(\"   - Dengan kriteria 'gini', model bertujuan untuk meminimalkan Gini Impurity.\")\n",
        "    print(\"   - Gini Impurity mengukur probabilitas kesalahan klasifikasi jika sebuah elemen acak dari set labelnya ditebak secara acak sesuai distribusi label di set tersebut.\")\n",
        "    print(\"   - Dihitung sebagai: Gini(D) = 1 - Σ (pi)^2.\")\n",
        "print(\"Algoritma seperti ID3, C4.5 (menggunakan Information Gain atau Gain Ratio), dan CART (menggunakan Gini Index) adalah implementasi dari konsep ini.\")\n",
        "print(\"Scikit-learn mengimplementasikan versi optimasi dari algoritma CART untuk Decision Trees.\")"
      ],
      "metadata": {
        "id": "OtVjFwzy_aul",
        "colab": {
          "base_uri": "https://localhost:8080/"
        },
        "outputId": "9c1254b8-8952-4703-ffe1-485b01bc0d3f"
      },
      "execution_count": null,
      "outputs": [
        {
          "output_type": "stream",
          "name": "stdout",
          "text": [
            "Memulai GridSearchCV untuk Decision Tree...\n",
            "Fitting 5 folds for each of 3360 candidates, totalling 16800 fits\n",
            "\n",
            "GridSearchCV selesai.\n",
            "Parameter terbaik yang ditemukan untuk Decision Tree:\n",
            "{'ccp_alpha': 0.0, 'class_weight': None, 'criterion': 'gini', 'max_depth': None, 'min_samples_leaf': 8, 'min_samples_split': 2}\n",
            "\n",
            "Skor akurasi cross-validation terbaik untuk Decision Tree: 0.8596\n",
            "\n",
            "Penjelasan Terkait Pemilihan Split pada Decision Tree:\n",
            "Model Decision Tree yang dilatih menggunakan kriteria impurity untuk menentukan split terbaik pada setiap node.\n",
            "Kriteria impurity yang dipilih oleh GridSearchCV untuk model terbaik ini adalah: 'gini'.\n",
            "   - Dengan kriteria 'gini', model bertujuan untuk meminimalkan Gini Impurity.\n",
            "   - Gini Impurity mengukur probabilitas kesalahan klasifikasi jika sebuah elemen acak dari set labelnya ditebak secara acak sesuai distribusi label di set tersebut.\n",
            "   - Dihitung sebagai: Gini(D) = 1 - Σ (pi)^2.\n",
            "Algoritma seperti ID3, C4.5 (menggunakan Information Gain atau Gain Ratio), dan CART (menggunakan Gini Index) adalah implementasi dari konsep ini.\n",
            "Scikit-learn mengimplementasikan versi optimasi dari algoritma CART untuk Decision Trees.\n"
          ]
        }
      ]
    },
    {
      "cell_type": "markdown",
      "source": [
        "## **5. Tampilkan Hasil Akurasi dan Tabel Confusion Matrix**\n"
      ],
      "metadata": {
        "id": "gUM1mX7-cFRQ"
      }
    },
    {
      "cell_type": "markdown",
      "source": [
        "Setelah model dilatih, performanya akan dievaluasi menggunakan data testing.\n"
      ],
      "metadata": {
        "id": "SC7abL3McIis"
      }
    },
    {
      "cell_type": "markdown",
      "source": [
        "### **a. Prediksi pada Data Testing dan Laporan Klasifikasi:**\n"
      ],
      "metadata": {
        "id": "-wphq7PEcLRo"
      }
    },
    {
      "cell_type": "code",
      "source": [
        "# Prediksi pada data testing\n",
        "y_pred_dt = best_dt_model.predict(X_test)\n",
        "y_pred_proba_dt = best_dt_model.predict_proba(X_test)[:, 1] # Probabilitas untuk kelas positif\n",
        "\n",
        "# Akurasi\n",
        "accuracy_dt = accuracy_score(y_test, y_pred_dt)\n",
        "print(f\"Akurasi Model Decision Tree pada Data Testing: {accuracy_dt:.4f}\")\n",
        "\n",
        "# ROC AUC Score\n",
        "try:\n",
        "    roc_auc_dt = roc_auc_score(y_test, y_pred_proba_dt)\n",
        "    print(f\"ROC AUC Score Decision Tree: {roc_auc_dt:.4f}\")\n",
        "except ValueError:\n",
        "    print(\"ROC AUC Score tidak dapat dihitung (mungkin hanya satu kelas yang diprediksi).\")\n",
        "\n",
        "\n",
        "# Laporan Klasifikasi\n",
        "print(\"\\nLaporan Klasifikasi Decision Tree:\")\n",
        "print(classification_report(y_test, y_pred_dt, target_names=['Negative (0)', 'Positive (1)', 'Neutral (2)']))"
      ],
      "metadata": {
        "colab": {
          "base_uri": "https://localhost:8080/"
        },
        "id": "QdffIEV3cNRz",
        "outputId": "e226e65c-2063-418b-8596-b64a21d7c761"
      },
      "execution_count": null,
      "outputs": [
        {
          "output_type": "stream",
          "name": "stdout",
          "text": [
            "Akurasi Model Decision Tree pada Data Testing: 0.8565\n",
            "ROC AUC Score tidak dapat dihitung (mungkin hanya satu kelas yang diprediksi).\n",
            "\n",
            "Laporan Klasifikasi Decision Tree:\n",
            "              precision    recall  f1-score   support\n",
            "\n",
            "Negative (0)       0.00      0.00      0.00         4\n",
            "Positive (1)       0.88      0.97      0.92       173\n",
            " Neutral (2)       0.65      0.34      0.45        32\n",
            "\n",
            "    accuracy                           0.86       209\n",
            "   macro avg       0.51      0.44      0.46       209\n",
            "weighted avg       0.82      0.86      0.83       209\n",
            "\n"
          ]
        },
        {
          "output_type": "stream",
          "name": "stderr",
          "text": [
            "/usr/local/lib/python3.11/dist-packages/sklearn/metrics/_classification.py:1565: UndefinedMetricWarning: Precision is ill-defined and being set to 0.0 in labels with no predicted samples. Use `zero_division` parameter to control this behavior.\n",
            "  _warn_prf(average, modifier, f\"{metric.capitalize()} is\", len(result))\n",
            "/usr/local/lib/python3.11/dist-packages/sklearn/metrics/_classification.py:1565: UndefinedMetricWarning: Precision is ill-defined and being set to 0.0 in labels with no predicted samples. Use `zero_division` parameter to control this behavior.\n",
            "  _warn_prf(average, modifier, f\"{metric.capitalize()} is\", len(result))\n",
            "/usr/local/lib/python3.11/dist-packages/sklearn/metrics/_classification.py:1565: UndefinedMetricWarning: Precision is ill-defined and being set to 0.0 in labels with no predicted samples. Use `zero_division` parameter to control this behavior.\n",
            "  _warn_prf(average, modifier, f\"{metric.capitalize()} is\", len(result))\n"
          ]
        }
      ]
    },
    {
      "cell_type": "markdown",
      "source": [
        "## **b. Hasil (Parameter Terbaik dan Penjelasan Implisit Entropy/Information Gain):**\n"
      ],
      "metadata": {
        "id": "r_HYn2svdXhn"
      }
    },
    {
      "cell_type": "code",
      "source": [
        "# Confusion Matrix\n",
        "cm_dt = confusion_matrix(y_test, y_pred_dt)\n",
        "plt.figure(figsize=(8, 6))\n",
        "sns.heatmap(cm_dt, annot=True, fmt='d', cmap='Blues', cbar=False,\n",
        "            xticklabels=['Negative', 'Neutral', 'Positive'], # Updated labels\n",
        "            yticklabels=['Negative', 'Neutral', 'Positive']) # Updated labels\n",
        "plt.title('Confusion Matrix - Decision Tree', fontsize=15)\n",
        "plt.ylabel('Aktual', fontsize=12)\n",
        "plt.xlabel('Prediksi', fontsize=12)\n",
        "plt.show()\n",
        "\n",
        "print(\"\\nInterpretasi Confusion Matrix:\")\n",
        "# Update interpretation based on three classes\n",
        "print(f\"True Negatives (TN): {cm_dt[0,0]} - Tweet negatif yang diprediksi benar sebagai negatif.\")\n",
        "print(f\"False Positives (FP): {cm_dt[0,1] + cm_dt[0,2]} - Tweet negatif yang salah diprediksi sebagai neutral atau positif.\") # Summing errors for FP\n",
        "print(f\"False Neutrals (FN_Neg): {cm_dt[1,0]} - Tweet neutral yang salah diprediksi sebagai negatif.\")\n",
        "print(f\"True Neutrals (TN): {cm_dt[1,1]} - Tweet neutral yang diprediksi benar sebagai neutral.\")\n",
        "print(f\"False Positives (FP_Neg): {cm_dt[1,2]} - Tweet neutral yang salah diprediksi sebagai positif.\")\n",
        "print(f\"False Negatives (FN_Neg): {cm_dt[2,0] + cm_dt[2,1]} - Tweet positif yang salah diprediksi sebagai negatif atau neutral.\") # Summing errors for FN\n",
        "print(f\"True Positives (TP): {cm_dt[2,2]} - Tweet positif yang diprediksi benar sebagai positif.\")"
      ],
      "metadata": {
        "id": "kf0zR6VQd5te",
        "colab": {
          "base_uri": "https://localhost:8080/"
        },
        "outputId": "c1d262dc-14ae-4ac5-80a6-d65a0f35b085"
      },
      "execution_count": null,
      "outputs": [
        {
          "output_type": "display_data",
          "data": {
            "text/plain": [
              "<Figure size 800x600 with 1 Axes>"
            ],
            "image/png": "[encoded data removed]"
          },
          "metadata": {}
        },
        {
          "output_type": "stream",
          "name": "stdout",
          "text": [
            "\n",
            "Interpretasi Confusion Matrix:\n",
            "True Negatives (TN): 0 - Tweet negatif yang diprediksi benar sebagai negatif.\n",
            "False Positives (FP): 4 - Tweet negatif yang salah diprediksi sebagai neutral atau positif.\n",
            "False Neutrals (FN_Neg): 0 - Tweet neutral yang salah diprediksi sebagai negatif.\n",
            "True Neutrals (TN): 168 - Tweet neutral yang diprediksi benar sebagai neutral.\n",
            "False Positives (FP_Neg): 5 - Tweet neutral yang salah diprediksi sebagai positif.\n",
            "False Negatives (FN_Neg): 21 - Tweet positif yang salah diprediksi sebagai negatif atau neutral.\n",
            "True Positives (TP): 11 - Tweet positif yang diprediksi benar sebagai positif.\n"
          ]
        }
      ]
    },
    {
      "cell_type": "markdown",
      "source": [
        "## **6. Tampilkan Pohon Keputusan**\n"
      ],
      "metadata": {
        "id": "NChboc-9cNta"
      }
    },
    {
      "cell_type": "markdown",
      "source": [
        "Visualisasi pohon keputusan membantu memahami bagaimana model membuat keputusan.\n"
      ],
      "metadata": {
        "id": "ilrBwaW8elWb"
      }
    },
    {
      "cell_type": "markdown",
      "source": [
        "**a. Visualisasi dengan plot_tree (Pohon Lebih Rinci):**\n"
      ],
      "metadata": {
        "id": "1_No9EFMenIu"
      }
    },
    {
      "cell_type": "markdown",
      "source": [
        "Untuk pohon yang sangat besar, visualisasi penuh mungkin tidak praktis. Kita akan membatasi kedalaman yang ditampilkan agar lebih mudah dibaca.\n"
      ],
      "metadata": {
        "id": "k00ZtXR7erUP"
      }
    },
    {
      "cell_type": "code",
      "source": [
        "plt.figure(figsize=(15, 5), dpi=90) # Tingkatkan ukuran dan DPI untuk detail\n",
        "plot_tree(\n",
        "    best_dt_model,\n",
        "    filled=True,\n",
        "    feature_names=tfidf.get_feature_names_out(),\n",
        "    class_names=['Negative', 'Neutral', 'Positive'], # Updated class_names\n",
        "    max_depth=3, # Tampilkan 3 level pertama agar tidak terlalu ramai\n",
        "    fontsize=9,\n",
        "    proportion=True,\n",
        "    rounded=True,\n",
        "    precision=3, # Tingkatkan presisi\n",
        "    impurity=True,\n",
        "    label='all'\n",
        ")\n",
        "plt.title('Visualisasi Pohon Keputusan (3 Level Pertama)', fontsize=24, fontweight='bold')\n",
        "plt.savefig(\"decision_tree_plot_tree.png\", dpi=300, bbox_inches='tight') # Simpan gambar\n",
        "plt.show()\n",
        "print(\"Visualisasi dengan plot_tree telah ditampilkan dan disimpan sebagai 'decision_tree_plot_tree.png'\")"
      ],
      "metadata": {
        "id": "vya1spd_ebFC",
        "colab": {
          "base_uri": "https://localhost:8080/",
          "height": 427
        },
        "outputId": "7bf52fc8-389b-4f2b-a44a-5bd607c4b40d"
      },
      "execution_count": null,
      "outputs": [
        {
          "output_type": "display_data",
          "data": {
            "text/plain": [
              "<Figure size 1350x450 with 1 Axes>"
            ],
            "image/png": "[encoded data removed]"
          },
          "metadata": {}
        },
        {
          "output_type": "stream",
          "name": "stdout",
          "text": [
            "Visualisasi dengan plot_tree telah ditampilkan dan disimpan sebagai 'decision_tree_plot_tree.png'\n"
          ]
        }
      ]
    },
    {
      "cell_type": "markdown",
      "source": [
        "### **b. Visualisasi dengan `graphviz` (Untuk Potensi Export):**\n"
      ],
      "metadata": {
        "id": "FLVLlKQLfYB1"
      }
    },
    {
      "cell_type": "markdown",
      "source": [
        "Ini akan menghasilkan file yang bisa disimpan dan dilihat dengan kualitas lebih baik jika pohonnya kompleks.\n"
      ],
      "metadata": {
        "id": "T0A-wJcsfbm6"
      }
    },
    {
      "cell_type": "code",
      "source": [
        "dot_data = export_graphviz(\n",
        "    best_dt_model,\n",
        "    out_file=None,\n",
        "    feature_names=tfidf.get_feature_names_out(),\n",
        "    class_names=['Negative', 'Positive'],\n",
        "    filled=True,\n",
        "    rounded=True,\n",
        "    max_depth=3, # Batasi kedalaman untuk Graphviz juga\n",
        "    special_characters=True,\n",
        "    proportion=True,\n",
        "    impurity=True,\n",
        "    node_ids=True, # Tambahkan ID node\n",
        "    label='all'\n",
        ")\n",
        "\n",
        "graph = graphviz.Source(dot_data, format=\"png\")\n",
        "try:\n",
        "    graph.render(\"decision_tree_graphviz\") # Simpan sebagai 'decision_tree_graphviz.png'\n",
        "    print(\"\\nVisualisasi pohon keputusan dengan Graphviz telah dirender dan disimpan sebagai 'decision_tree_graphviz.png'\")\n",
        "    from IPython.display import Image\n",
        "    display(Image(filename='decision_tree_graphviz.png'))\n",
        "except graphviz.backend.execute.CalledProcessError as e:\n",
        "    print(f\"Error saat merender Graphviz: {e}\")\n",
        "    print(\"Pastikan Graphviz terinstal dan ada di PATH sistem Anda.\")\n",
        "    print(\"Anda masih bisa mengonversi file 'decision_tree_graphviz.dot' (jika ada) secara manual menggunakan Graphviz.\")"
      ],
      "metadata": {
        "id": "DJNumOeDfjC0",
        "colab": {
          "base_uri": "https://localhost:8080/",
          "height": 356
        },
        "outputId": "c1fb92fc-448b-40ba-d87e-e49947726504"
      },
      "execution_count": null,
      "outputs": [
        {
          "output_type": "error",
          "ename": "IndexError",
          "evalue": "index 2 is out of bounds for axis 0 with size 2",
          "traceback": [
            "\u001b[0;31m---------------------------------------------------------------------------\u001b[0m",
            "\u001b[0;31mIndexError\u001b[0m                                Traceback (most recent call last)",
            "\u001b[0;32m<ipython-input-10-552556002>\u001b[0m in \u001b[0;36m<cell line: 0>\u001b[0;34m()\u001b[0m\n\u001b[0;32m----> 1\u001b[0;31m dot_data = export_graphviz(\n\u001b[0m\u001b[1;32m      2\u001b[0m     \u001b[0mbest_dt_model\u001b[0m\u001b[0;34m,\u001b[0m\u001b[0;34m\u001b[0m\u001b[0;34m\u001b[0m\u001b[0m\n\u001b[1;32m      3\u001b[0m     \u001b[0mout_file\u001b[0m\u001b[0;34m=\u001b[0m\u001b[0;32mNone\u001b[0m\u001b[0;34m,\u001b[0m\u001b[0;34m\u001b[0m\u001b[0;34m\u001b[0m\u001b[0m\n\u001b[1;32m      4\u001b[0m     \u001b[0mfeature_names\u001b[0m\u001b[0;34m=\u001b[0m\u001b[0mtfidf\u001b[0m\u001b[0;34m.\u001b[0m\u001b[0mget_feature_names_out\u001b[0m\u001b[0;34m(\u001b[0m\u001b[0;34m)\u001b[0m\u001b[0;34m,\u001b[0m\u001b[0;34m\u001b[0m\u001b[0;34m\u001b[0m\u001b[0m\n\u001b[1;32m      5\u001b[0m     \u001b[0mclass_names\u001b[0m\u001b[0;34m=\u001b[0m\u001b[0;34m[\u001b[0m\u001b[0;34m'Negative'\u001b[0m\u001b[0;34m,\u001b[0m \u001b[0;34m'Positive'\u001b[0m\u001b[0;34m]\u001b[0m\u001b[0;34m,\u001b[0m\u001b[0;34m\u001b[0m\u001b[0;34m\u001b[0m\u001b[0m\n",
            "\u001b[0;32m/usr/local/lib/python3.11/dist-packages/sklearn/utils/_param_validation.py\u001b[0m in \u001b[0;36mwrapper\u001b[0;34m(*args, **kwargs)\u001b[0m\n\u001b[1;32m    214\u001b[0m                     )\n\u001b[1;32m    215\u001b[0m                 ):\n\u001b[0;32m--> 216\u001b[0;31m                     \u001b[0;32mreturn\u001b[0m \u001b[0mfunc\u001b[0m\u001b[0;34m(\u001b[0m\u001b[0;34m*\u001b[0m\u001b[0margs\u001b[0m\u001b[0;34m,\u001b[0m \u001b[0;34m**\u001b[0m\u001b[0mkwargs\u001b[0m\u001b[0;34m)\u001b[0m\u001b[0;34m\u001b[0m\u001b[0;34m\u001b[0m\u001b[0m\n\u001b[0m\u001b[1;32m    217\u001b[0m             \u001b[0;32mexcept\u001b[0m \u001b[0mInvalidParameterError\u001b[0m \u001b[0;32mas\u001b[0m \u001b[0me\u001b[0m\u001b[0;34m:\u001b[0m\u001b[0;34m\u001b[0m\u001b[0;34m\u001b[0m\u001b[0m\n\u001b[1;32m    218\u001b[0m                 \u001b[0;31m# When the function is just a wrapper around an estimator, we allow\u001b[0m\u001b[0;34m\u001b[0m\u001b[0;34m\u001b[0m\u001b[0m\n",
            "\u001b[0;32m/usr/local/lib/python3.11/dist-packages/sklearn/tree/_export.py\u001b[0m in \u001b[0;36mexport_graphviz\u001b[0;34m(decision_tree, out_file, max_depth, feature_names, class_names, label, filled, leaves_parallel, impurity, node_ids, proportion, rotate, rounded, special_characters, precision, fontname)\u001b[0m\n\u001b[1;32m    936\u001b[0m             \u001b[0mfontname\u001b[0m\u001b[0;34m=\u001b[0m\u001b[0mfontname\u001b[0m\u001b[0;34m,\u001b[0m\u001b[0;34m\u001b[0m\u001b[0;34m\u001b[0m\u001b[0m\n\u001b[1;32m    937\u001b[0m         )\n\u001b[0;32m--> 938\u001b[0;31m         \u001b[0mexporter\u001b[0m\u001b[0;34m.\u001b[0m\u001b[0mexport\u001b[0m\u001b[0;34m(\u001b[0m\u001b[0mdecision_tree\u001b[0m\u001b[0;34m)\u001b[0m\u001b[0;34m\u001b[0m\u001b[0;34m\u001b[0m\u001b[0m\n\u001b[0m\u001b[1;32m    939\u001b[0m \u001b[0;34m\u001b[0m\u001b[0m\n\u001b[1;32m    940\u001b[0m         \u001b[0;32mif\u001b[0m \u001b[0mreturn_string\u001b[0m\u001b[0;34m:\u001b[0m\u001b[0;34m\u001b[0m\u001b[0;34m\u001b[0m\u001b[0m\n",
            "\u001b[0;32m/usr/local/lib/python3.11/dist-packages/sklearn/tree/_export.py\u001b[0m in \u001b[0;36mexport\u001b[0;34m(self, decision_tree)\u001b[0m\n\u001b[1;32m    468\u001b[0m             \u001b[0mself\u001b[0m\u001b[0;34m.\u001b[0m\u001b[0mrecurse\u001b[0m\u001b[0;34m(\u001b[0m\u001b[0mdecision_tree\u001b[0m\u001b[0;34m,\u001b[0m \u001b[0;36m0\u001b[0m\u001b[0;34m,\u001b[0m \u001b[0mcriterion\u001b[0m\u001b[0;34m=\u001b[0m\u001b[0;34m\"impurity\"\u001b[0m\u001b[0;34m)\u001b[0m\u001b[0;34m\u001b[0m\u001b[0;34m\u001b[0m\u001b[0m\n\u001b[1;32m    469\u001b[0m         \u001b[0;32melse\u001b[0m\u001b[0;34m:\u001b[0m\u001b[0;34m\u001b[0m\u001b[0;34m\u001b[0m\u001b[0m\n\u001b[0;32m--> 470\u001b[0;31m             \u001b[0mself\u001b[0m\u001b[0;34m.\u001b[0m\u001b[0mrecurse\u001b[0m\u001b[0;34m(\u001b[0m\u001b[0mdecision_tree\u001b[0m\u001b[0;34m.\u001b[0m\u001b[0mtree_\u001b[0m\u001b[0;34m,\u001b[0m \u001b[0;36m0\u001b[0m\u001b[0;34m,\u001b[0m \u001b[0mcriterion\u001b[0m\u001b[0;34m=\u001b[0m\u001b[0mdecision_tree\u001b[0m\u001b[0;34m.\u001b[0m\u001b[0mcriterion\u001b[0m\u001b[0;34m)\u001b[0m\u001b[0;34m\u001b[0m\u001b[0;34m\u001b[0m\u001b[0m\n\u001b[0m\u001b[1;32m    471\u001b[0m \u001b[0;34m\u001b[0m\u001b[0m\n\u001b[1;32m    472\u001b[0m         \u001b[0mself\u001b[0m\u001b[0;34m.\u001b[0m\u001b[0mtail\u001b[0m\u001b[0;34m(\u001b[0m\u001b[0;34m)\u001b[0m\u001b[0;34m\u001b[0m\u001b[0;34m\u001b[0m\u001b[0m\n",
            "\u001b[0;32m/usr/local/lib/python3.11/dist-packages/sklearn/tree/_export.py\u001b[0m in \u001b[0;36mrecurse\u001b[0;34m(self, tree, node_id, criterion, parent, depth)\u001b[0m\n\u001b[1;32m    549\u001b[0m \u001b[0;34m\u001b[0m\u001b[0m\n\u001b[1;32m    550\u001b[0m             \u001b[0;32mif\u001b[0m \u001b[0mleft_child\u001b[0m \u001b[0;34m!=\u001b[0m \u001b[0m_tree\u001b[0m\u001b[0;34m.\u001b[0m\u001b[0mTREE_LEAF\u001b[0m\u001b[0;34m:\u001b[0m\u001b[0;34m\u001b[0m\u001b[0;34m\u001b[0m\u001b[0m\n\u001b[0;32m--> 551\u001b[0;31m                 self.recurse(\n\u001b[0m\u001b[1;32m    552\u001b[0m                     \u001b[0mtree\u001b[0m\u001b[0;34m,\u001b[0m\u001b[0;34m\u001b[0m\u001b[0;34m\u001b[0m\u001b[0m\n\u001b[1;32m    553\u001b[0m                     \u001b[0mleft_child\u001b[0m\u001b[0;34m,\u001b[0m\u001b[0;34m\u001b[0m\u001b[0;34m\u001b[0m\u001b[0m\n",
            "\u001b[0;32m/usr/local/lib/python3.11/dist-packages/sklearn/tree/_export.py\u001b[0m in \u001b[0;36mrecurse\u001b[0;34m(self, tree, node_id, criterion, parent, depth)\u001b[0m\n\u001b[1;32m    549\u001b[0m \u001b[0;34m\u001b[0m\u001b[0m\n\u001b[1;32m    550\u001b[0m             \u001b[0;32mif\u001b[0m \u001b[0mleft_child\u001b[0m \u001b[0;34m!=\u001b[0m \u001b[0m_tree\u001b[0m\u001b[0;34m.\u001b[0m\u001b[0mTREE_LEAF\u001b[0m\u001b[0;34m:\u001b[0m\u001b[0;34m\u001b[0m\u001b[0;34m\u001b[0m\u001b[0m\n\u001b[0;32m--> 551\u001b[0;31m                 self.recurse(\n\u001b[0m\u001b[1;32m    552\u001b[0m                     \u001b[0mtree\u001b[0m\u001b[0;34m,\u001b[0m\u001b[0;34m\u001b[0m\u001b[0;34m\u001b[0m\u001b[0m\n\u001b[1;32m    553\u001b[0m                     \u001b[0mleft_child\u001b[0m\u001b[0;34m,\u001b[0m\u001b[0;34m\u001b[0m\u001b[0;34m\u001b[0m\u001b[0m\n",
            "\u001b[0;32m/usr/local/lib/python3.11/dist-packages/sklearn/tree/_export.py\u001b[0m in \u001b[0;36mrecurse\u001b[0;34m(self, tree, node_id, criterion, parent, depth)\u001b[0m\n\u001b[1;32m    556\u001b[0m                     \u001b[0mdepth\u001b[0m\u001b[0;34m=\u001b[0m\u001b[0mdepth\u001b[0m \u001b[0;34m+\u001b[0m \u001b[0;36m1\u001b[0m\u001b[0;34m,\u001b[0m\u001b[0;34m\u001b[0m\u001b[0;34m\u001b[0m\u001b[0m\n\u001b[1;32m    557\u001b[0m                 )\n\u001b[0;32m--> 558\u001b[0;31m                 self.recurse(\n\u001b[0m\u001b[1;32m    559\u001b[0m                     \u001b[0mtree\u001b[0m\u001b[0;34m,\u001b[0m\u001b[0;34m\u001b[0m\u001b[0;34m\u001b[0m\u001b[0m\n\u001b[1;32m    560\u001b[0m                     \u001b[0mright_child\u001b[0m\u001b[0;34m,\u001b[0m\u001b[0;34m\u001b[0m\u001b[0;34m\u001b[0m\u001b[0m\n",
            "\u001b[0;32m/usr/local/lib/python3.11/dist-packages/sklearn/tree/_export.py\u001b[0m in \u001b[0;36mrecurse\u001b[0;34m(self, tree, node_id, criterion, parent, depth)\u001b[0m\n\u001b[1;32m    526\u001b[0m \u001b[0;34m\u001b[0m\u001b[0m\n\u001b[1;32m    527\u001b[0m             self.out_file.write(\n\u001b[0;32m--> 528\u001b[0;31m                 \u001b[0;34m\"%d [label=%s\"\u001b[0m \u001b[0;34m%\u001b[0m \u001b[0;34m(\u001b[0m\u001b[0mnode_id\u001b[0m\u001b[0;34m,\u001b[0m \u001b[0mself\u001b[0m\u001b[0;34m.\u001b[0m\u001b[0mnode_to_str\u001b[0m\u001b[0;34m(\u001b[0m\u001b[0mtree\u001b[0m\u001b[0;34m,\u001b[0m \u001b[0mnode_id\u001b[0m\u001b[0;34m,\u001b[0m \u001b[0mcriterion\u001b[0m\u001b[0;34m)\u001b[0m\u001b[0;34m)\u001b[0m\u001b[0;34m\u001b[0m\u001b[0;34m\u001b[0m\u001b[0m\n\u001b[0m\u001b[1;32m    529\u001b[0m             )\n\u001b[1;32m    530\u001b[0m \u001b[0;34m\u001b[0m\u001b[0m\n",
            "\u001b[0;32m/usr/local/lib/python3.11/dist-packages/sklearn/tree/_export.py\u001b[0m in \u001b[0;36mnode_to_str\u001b[0;34m(self, tree, node_id, criterion)\u001b[0m\n\u001b[1;32m    384\u001b[0m                 \u001b[0mnode_string\u001b[0m \u001b[0;34m+=\u001b[0m \u001b[0;34m\"class = \"\u001b[0m\u001b[0;34m\u001b[0m\u001b[0;34m\u001b[0m\u001b[0m\n\u001b[1;32m    385\u001b[0m             \u001b[0;32mif\u001b[0m \u001b[0mself\u001b[0m\u001b[0;34m.\u001b[0m\u001b[0mclass_names\u001b[0m \u001b[0;32mis\u001b[0m \u001b[0;32mnot\u001b[0m \u001b[0;32mTrue\u001b[0m\u001b[0;34m:\u001b[0m\u001b[0;34m\u001b[0m\u001b[0;34m\u001b[0m\u001b[0m\n\u001b[0;32m--> 386\u001b[0;31m                 \u001b[0mclass_name\u001b[0m \u001b[0;34m=\u001b[0m \u001b[0mself\u001b[0m\u001b[0;34m.\u001b[0m\u001b[0mclass_names\u001b[0m\u001b[0;34m[\u001b[0m\u001b[0mnp\u001b[0m\u001b[0;34m.\u001b[0m\u001b[0margmax\u001b[0m\u001b[0;34m(\u001b[0m\u001b[0mvalue\u001b[0m\u001b[0;34m)\u001b[0m\u001b[0;34m]\u001b[0m\u001b[0;34m\u001b[0m\u001b[0;34m\u001b[0m\u001b[0m\n\u001b[0m\u001b[1;32m    387\u001b[0m                 \u001b[0mclass_name\u001b[0m \u001b[0;34m=\u001b[0m \u001b[0mself\u001b[0m\u001b[0;34m.\u001b[0m\u001b[0mstr_escape\u001b[0m\u001b[0;34m(\u001b[0m\u001b[0mclass_name\u001b[0m\u001b[0;34m)\u001b[0m\u001b[0;34m\u001b[0m\u001b[0;34m\u001b[0m\u001b[0m\n\u001b[1;32m    388\u001b[0m             \u001b[0;32melse\u001b[0m\u001b[0;34m:\u001b[0m\u001b[0;34m\u001b[0m\u001b[0;34m\u001b[0m\u001b[0m\n",
            "\u001b[0;31mIndexError\u001b[0m: index 2 is out of bounds for axis 0 with size 2"
          ]
        }
      ]
    },
    {
      "cell_type": "markdown",
      "source": [
        "## **- Analisis Fitur Penting (Feature Importance Analysis)**\n"
      ],
      "metadata": {
        "id": "OQjh0sqnfwUB"
      }
    },
    {
      "cell_type": "markdown",
      "source": [
        "Tahap ini menganalisis fitur (kata atau bigram) mana yang paling berpengaruh dalam membuat keputusan klasifikasi menurut model Decision Tree.\n"
      ],
      "metadata": {
        "id": "pjPFIQhDfz8O"
      }
    },
    {
      "cell_type": "code",
      "source": [
        "# Mendapatkan feature importances dari model terbaik\n",
        "importances_dt = best_dt_model.feature_importances_\n",
        "feature_names_dt = tfidf.get_feature_names_out()\n",
        "\n",
        "# Membuat DataFrame\n",
        "feature_importances_df_dt = pd.DataFrame({\n",
        "    'Fitur': feature_names_dt,\n",
        "    'Pentingnya': importances_dt\n",
        "}).sort_values('Pentingnya', ascending=False)\n",
        "\n",
        "# Menampilkan 20 fitur terpenting\n",
        "top_20_features_dt = feature_importances_df_dt.head(20)\n",
        "print(\"\\nTop 20 Fitur Terpenting Menurut Model Decision Tree:\")\n",
        "display(top_20_features_dt)\n",
        "\n",
        "# Visualisasi\n",
        "plt.figure(figsize=(12, 10)) # Sesuaikan ukuran agar label y tidak tumpang tindih\n",
        "sns.barplot(x='Pentingnya', y='Fitur', data=top_20_features_dt, palette='magma')\n",
        "plt.title('Top 20 Feature Importances - Decision Tree', fontsize=16, fontweight='bold')\n",
        "plt.xlabel('Skor Pentingnya Fitur', fontsize=13)\n",
        "plt.ylabel('Fitur (Kata/N-gram)', fontsize=13)\n",
        "plt.gca().invert_yaxis()\n",
        "plt.tight_layout()\n",
        "plt.show()"
      ],
      "metadata": {
        "id": "6QipU2HgR1Vm"
      },
      "execution_count": null,
      "outputs": []
    },
    {
      "cell_type": "markdown",
      "source": [],
      "metadata": {
        "id": "gSNOFWxXf2Xt"
      }
    }
  ]
}